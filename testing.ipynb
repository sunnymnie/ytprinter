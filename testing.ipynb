{
 "cells": [
  {
   "cell_type": "markdown",
   "id": "b2525cd1-711e-4849-af1a-98e038c2e575",
   "metadata": {},
   "source": [
    "# Tests"
   ]
  },
  {
   "cell_type": "code",
   "execution_count": 2,
   "id": "e93f48ec-4693-417d-b1e8-eefde5766a1b",
   "metadata": {},
   "outputs": [],
   "source": [
    "import json\n",
    "import os"
   ]
  },
  {
   "cell_type": "code",
   "execution_count": 38,
   "id": "008cb372-cff5-4c3d-a10a-439d8ac293fd",
   "metadata": {},
   "outputs": [],
   "source": [
    "filename = 'test.json'\n",
    "with open(filename, 'r') as f:\n",
    "    data = json.load(f)\n",
    "    data['id'] = 134 # <--- add `id` value.\n",
    "    data['test'] = [1,2,3,'hi']\n"
   ]
  },
  {
   "cell_type": "code",
   "execution_count": 31,
   "id": "ee89df1e-f8e9-41d6-b561-4e92239de07c",
   "metadata": {},
   "outputs": [
    {
     "name": "stdout",
     "output_type": "stream",
     "text": [
      "['a', 'b', 'c']\n"
     ]
    }
   ],
   "source": [
    "a = ['a', 'b', 'c']\n",
    "print(a)"
   ]
  },
  {
   "cell_type": "code",
   "execution_count": 28,
   "id": "775e7746-5973-4090-ac70-25375605425a",
   "metadata": {},
   "outputs": [],
   "source": [
    "a = {\"a\":{\"test\": [1, 2, 3]}, \"b\":{\"test\": [1, 2, 3]}, \"c\": {\"test\": [1, 2, 3]}}"
   ]
  },
  {
   "cell_type": "code",
   "execution_count": 29,
   "id": "94cefa6a-1568-4460-96f2-dd495c0f152c",
   "metadata": {},
   "outputs": [
    {
     "name": "stdout",
     "output_type": "stream",
     "text": [
      "a: {'test': [1, 2, 3]}\n",
      "b: {'test': [1, 2, 3]}\n",
      "c: {'test': [1, 2, 3]}\n"
     ]
    }
   ],
   "source": [
    "for d in a:\n",
    "    print(f\"{d}: {a[d]}\")"
   ]
  },
  {
   "cell_type": "code",
   "execution_count": 20,
   "id": "a3343053-a4e8-4086-8f00-fba5154ade16",
   "metadata": {},
   "outputs": [],
   "source": [
    "os.remove(filename)\n",
    "with open(filename, 'w') as f:\n",
    "    json.dump(data, f, indent=4)"
   ]
  },
  {
   "cell_type": "code",
   "execution_count": 70,
   "id": "99d5ea22-784b-4b00-98fc-b04b6e52dbac",
   "metadata": {},
   "outputs": [],
   "source": [
    "import datetime"
   ]
  },
  {
   "cell_type": "code",
   "execution_count": 73,
   "id": "73d698c4-0fa9-4704-8723-29ae9306b8e5",
   "metadata": {},
   "outputs": [
    {
     "data": {
      "text/plain": [
       "datetime.timezone.utc"
      ]
     },
     "execution_count": 73,
     "metadata": {},
     "output_type": "execute_result"
    }
   ],
   "source": [
    "datetime.timezone(datetime.timedelta(0))"
   ]
  },
  {
   "cell_type": "code",
   "execution_count": 80,
   "id": "c00e1035-c6e1-47fe-b0bc-8add1861fca9",
   "metadata": {},
   "outputs": [
    {
     "data": {
      "text/plain": [
       "0"
      ]
     },
     "execution_count": 80,
     "metadata": {},
     "output_type": "execute_result"
    }
   ],
   "source": [
    "datetime.datetime.now(datetime.timezone(datetime.timedelta(0))).hour"
   ]
  },
  {
   "cell_type": "code",
   "execution_count": 14,
   "id": "4c58c0fb-a0ae-45c6-ae4d-d50ecbd7b241",
   "metadata": {},
   "outputs": [],
   "source": [
    "tp = {'price':100, 'time':time.time()}"
   ]
  },
  {
   "cell_type": "code",
   "execution_count": 15,
   "id": "77623b6c-77a4-40ba-94d3-df9e0b4eae57",
   "metadata": {},
   "outputs": [],
   "source": [
    "data['strat'] = {'buy':1000, 'tp':tp}"
   ]
  },
  {
   "cell_type": "code",
   "execution_count": 33,
   "id": "d7545b51-21e0-4cb2-967f-3838ccce2d81",
   "metadata": {},
   "outputs": [
    {
     "data": {
      "text/plain": [
       "{'id': 134,\n",
       " 'test': [1, 2, 3, 'hi'],\n",
       " 'strat': {'buy': 1000, 'tp': {'price': 100, 'time': 1638035367.227021}}}"
      ]
     },
     "execution_count": 33,
     "metadata": {},
     "output_type": "execute_result"
    }
   ],
   "source": [
    "data"
   ]
  },
  {
   "cell_type": "code",
   "execution_count": 36,
   "id": "77351b44-9276-4279-893f-d0fc36bf9d26",
   "metadata": {},
   "outputs": [],
   "source": [
    "if 3 in data['test']:\n",
    "    del data['test']"
   ]
  },
  {
   "cell_type": "code",
   "execution_count": 40,
   "id": "fa6992b9-dce1-4090-93e0-7f7d8f575fe7",
   "metadata": {},
   "outputs": [
    {
     "data": {
      "text/plain": [
       "2"
      ]
     },
     "execution_count": 40,
     "metadata": {},
     "output_type": "execute_result"
    }
   ],
   "source": [
    "len(data['strat'])"
   ]
  },
  {
   "cell_type": "code",
   "execution_count": 48,
   "id": "c43e27d9-9e2c-4179-aa8c-f2146c261278",
   "metadata": {},
   "outputs": [
    {
     "data": {
      "text/plain": [
       "True"
      ]
     },
     "execution_count": 48,
     "metadata": {},
     "output_type": "execute_result"
    }
   ],
   "source": [
    "False in [True, False, False]"
   ]
  },
  {
   "cell_type": "code",
   "execution_count": 1,
   "id": "850bdacc-a8d0-471b-8733-4a1e6caa5880",
   "metadata": {},
   "outputs": [],
   "source": [
    "import keys"
   ]
  },
  {
   "cell_type": "code",
   "execution_count": 2,
   "id": "bd453e04-f9ae-48c0-a73e-1836a49f694d",
   "metadata": {},
   "outputs": [],
   "source": [
    "import requests"
   ]
  },
  {
   "cell_type": "code",
   "execution_count": 3,
   "id": "0142df6c-93e3-4632-9f39-c63fdb2b8d31",
   "metadata": {},
   "outputs": [],
   "source": [
    "test = 'adsf\\\n",
    "adsf\\\n",
    "asdf'"
   ]
  },
  {
   "cell_type": "code",
   "execution_count": 4,
   "id": "31ef78de-71d8-4a81-95f1-d35763876ccd",
   "metadata": {},
   "outputs": [
    {
     "data": {
      "text/plain": [
       "'adsfadsfasdf'"
      ]
     },
     "execution_count": 4,
     "metadata": {},
     "output_type": "execute_result"
    }
   ],
   "source": [
    "test"
   ]
  },
  {
   "cell_type": "code",
   "execution_count": 40,
   "id": "ca12056a-d899-4133-972f-13248db3e82c",
   "metadata": {},
   "outputs": [],
   "source": [
    "cid = 'UCqK_GSMbpiV8spgD3ZGloSw'\n",
    "api = keys.key(\"youtube\", \"api\")"
   ]
  },
  {
   "cell_type": "code",
   "execution_count": 16,
   "id": "4a2ebc68-849a-490b-aacb-c64ae18e05e1",
   "metadata": {},
   "outputs": [],
   "source": [
    "url = f'https://youtube.googleapis.com/youtube/v3/channels?\\\n",
    "part=contentDetails&id=UCqK_GSMbpiV8spgD3ZGloSw&\\\n",
    "maxResults=10&\\\n",
    "key={keys.key(\"youtube\", \"api\")}'\n"
   ]
  },
  {
   "cell_type": "code",
   "execution_count": 30,
   "id": "f07cbf18-4597-4846-b1ed-868cb742364c",
   "metadata": {},
   "outputs": [],
   "source": [
    "url = f'https://www.googleapis.com/youtube/v3/search?\\\n",
    "key={keys.key(\"youtube\", \"api\")}&\\\n",
    "channelId=UCqK_GSMbpiV8spgD3ZGloSw&part=snippet,id&order=date&maxResults=1'\n",
    "\n"
   ]
  },
  {
   "cell_type": "code",
   "execution_count": 41,
   "id": "1f6b8898-3d8e-48bb-90e3-ccc04f02f206",
   "metadata": {},
   "outputs": [],
   "source": [
    "url = f'https://www.googleapis.com/youtube/v3/channels?\\\n",
    "id={cid}&\\\n",
    "key={api}&\\\n",
    "part=contentDetails'\n"
   ]
  },
  {
   "cell_type": "code",
   "execution_count": 49,
   "id": "f951dd22-5256-49d7-91b0-16622aa44c3b",
   "metadata": {},
   "outputs": [],
   "source": [
    "url = f'https://www.googleapis.com/youtube/v3/playlistItems?playlistId=UUqK_GSMbpiV8spgD3ZGloSw&key={api}&part=snippet&maxResults=1'"
   ]
  },
  {
   "cell_type": "code",
   "execution_count": 51,
   "id": "3117f6fd-64aa-4284-a31c-2e58010b465e",
   "metadata": {},
   "outputs": [],
   "source": [
    "response = requests.get(url)"
   ]
  },
  {
   "cell_type": "code",
   "execution_count": 81,
   "id": "dfe7587b-ae09-4d45-bd0d-fe9bbce1cc51",
   "metadata": {},
   "outputs": [],
   "source": [
    "a = response.json()['items'][0]['snippet']"
   ]
  },
  {
   "cell_type": "code",
   "execution_count": 85,
   "id": "e9f0399b-4c2d-41b0-928a-025a9bebb9e1",
   "metadata": {},
   "outputs": [
    {
     "ename": "AttributeError",
     "evalue": "module 'datetime' has no attribute 'to_datetime'",
     "output_type": "error",
     "traceback": [
      "\u001b[0;31m---------------------------------------------------------------------------\u001b[0m",
      "\u001b[0;31mAttributeError\u001b[0m                            Traceback (most recent call last)",
      "\u001b[0;32m/var/folders/4n/h7p57sb17sn7vtrtjz3m1xhr0000gn/T/ipykernel_7240/3614305975.py\u001b[0m in \u001b[0;36m<module>\u001b[0;34m\u001b[0m\n\u001b[0;32m----> 1\u001b[0;31m \u001b[0mdatetime\u001b[0m\u001b[0;34m.\u001b[0m\u001b[0mto_datetime\u001b[0m\u001b[0;34m(\u001b[0m\u001b[0ma\u001b[0m\u001b[0;34m[\u001b[0m\u001b[0;34m'publishedAt'\u001b[0m\u001b[0;34m]\u001b[0m\u001b[0;34m)\u001b[0m\u001b[0;34m\u001b[0m\u001b[0;34m\u001b[0m\u001b[0m\n\u001b[0m",
      "\u001b[0;31mAttributeError\u001b[0m: module 'datetime' has no attribute 'to_datetime'"
     ]
    }
   ],
   "source": [
    "datetime.to_datetime(a['publishedAt'])"
   ]
  },
  {
   "cell_type": "code",
   "execution_count": 91,
   "id": "5899f911-98d8-4f31-9ed3-1ed8e1f58175",
   "metadata": {
    "tags": []
   },
   "outputs": [
    {
     "data": {
      "text/plain": [
       "'2021-11-27T16:23:21Z'"
      ]
     },
     "execution_count": 91,
     "metadata": {},
     "output_type": "execute_result"
    }
   ],
   "source": [
    "a['publishedAt']"
   ]
  },
  {
   "cell_type": "code",
   "execution_count": 92,
   "id": "f87ef145-fc82-4c64-9037-9cb51eac44c3",
   "metadata": {},
   "outputs": [],
   "source": [
    "\n",
    "date_time_obj = datetime.datetime.strptime(a['publishedAt'], '%Y-%m-%dT%H:%M:%SZ')\n"
   ]
  },
  {
   "cell_type": "code",
   "execution_count": 93,
   "id": "a89f9087-5b1d-4d81-890c-5cbfce2a131f",
   "metadata": {},
   "outputs": [
    {
     "data": {
      "text/plain": [
       "datetime.datetime(2021, 11, 27, 16, 23, 21)"
      ]
     },
     "execution_count": 93,
     "metadata": {},
     "output_type": "execute_result"
    }
   ],
   "source": [
    "date_time_obj"
   ]
  },
  {
   "cell_type": "code",
   "execution_count": 1,
   "id": "158b059b-c042-4c08-b19c-3ddf425b7b3d",
   "metadata": {},
   "outputs": [],
   "source": [
    "import youtube_checker"
   ]
  },
  {
   "cell_type": "code",
   "execution_count": 2,
   "id": "02491dca-54d8-40a7-a6b6-a0d093019b47",
   "metadata": {},
   "outputs": [
    {
     "data": {
      "text/plain": [
       "'tether papers: who is buying usdt!? it will surprise you!! 😨'"
      ]
     },
     "execution_count": 2,
     "metadata": {},
     "output_type": "execute_result"
    }
   ],
   "source": [
    "youtube_checker.get_latest_video_title()"
   ]
  },
  {
   "cell_type": "code",
   "execution_count": null,
   "id": "f86209c7-3ad3-41e5-b2c4-6df05a0635ca",
   "metadata": {},
   "outputs": [],
   "source": []
  }
 ],
 "metadata": {
  "kernelspec": {
   "display_name": "Python 3 (ipykernel)",
   "language": "python",
   "name": "python3"
  },
  "language_info": {
   "codemirror_mode": {
    "name": "ipython",
    "version": 3
   },
   "file_extension": ".py",
   "mimetype": "text/x-python",
   "name": "python",
   "nbconvert_exporter": "python",
   "pygments_lexer": "ipython3",
   "version": "3.9.7"
  }
 },
 "nbformat": 4,
 "nbformat_minor": 5
}
