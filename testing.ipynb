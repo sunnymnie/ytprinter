{
 "cells": [
  {
   "cell_type": "markdown",
   "id": "b2525cd1-711e-4849-af1a-98e038c2e575",
   "metadata": {},
   "source": [
    "# Tests"
   ]
  },
  {
   "cell_type": "code",
   "execution_count": 6,
   "id": "e4367c6a-9b8f-4dbd-b328-c3115dc94240",
   "metadata": {},
   "outputs": [],
   "source": [
    "a = \"high     bye!!!\""
   ]
  },
  {
   "cell_type": "code",
   "execution_count": 12,
   "id": "ce6c2b0d-f8be-4247-a135-88f720b2e4f5",
   "metadata": {},
   "outputs": [
    {
     "data": {
      "text/plain": [
       "False"
      ]
     },
     "execution_count": 12,
     "metadata": {},
     "output_type": "execute_result"
    }
   ],
   "source": [
    "\" \".isalpha()"
   ]
  },
  {
   "cell_type": "code",
   "execution_count": 57,
   "id": "da09b9ea-f868-40e1-b193-99bb913cd1c5",
   "metadata": {},
   "outputs": [],
   "source": [
    "title = youtube_checker.get_latest_video_title()"
   ]
  },
  {
   "cell_type": "code",
   "execution_count": 55,
   "id": "eac2b0c9-48c3-422d-9a92-54113cede35e",
   "metadata": {},
   "outputs": [],
   "source": [
    "title = \"1inch is best\""
   ]
  },
  {
   "cell_type": "code",
   "execution_count": 53,
   "id": "189e19aa-e570-4a9f-8796-51fe961456b9",
   "metadata": {},
   "outputs": [
    {
     "data": {
      "text/plain": [
       "False"
      ]
     },
     "execution_count": 53,
     "metadata": {},
     "output_type": "execute_result"
    }
   ],
   "source": [
    "\"n\".isnumeric()"
   ]
  },
  {
   "cell_type": "code",
   "execution_count": 58,
   "id": "12b390c0-77ec-4d2c-98b2-6761deb80db3",
   "metadata": {},
   "outputs": [],
   "source": [
    "def str_to_list(s):\n",
    "    def valid_character(c):\n",
    "        return c.isalpha() or c==\" \" or c.isnumeric()\n",
    "    return ''.join(filter(valid_character, s)).split()"
   ]
  },
  {
   "cell_type": "code",
   "execution_count": 59,
   "id": "5006e488-c5b4-4035-9c50-c02016b0fbbf",
   "metadata": {},
   "outputs": [
    {
     "data": {
      "text/plain": [
       "['watch', 'out', 'for', 'these', 'the', 'shtcoin', 'checklist']"
      ]
     },
     "execution_count": 59,
     "metadata": {},
     "output_type": "execute_result"
    }
   ],
   "source": [
    "title = str_to_list(title)\n",
    "title"
   ]
  },
  {
   "cell_type": "code",
   "execution_count": 47,
   "id": "c656391f-6ffb-4aa1-86dd-9a16a5bfbbab",
   "metadata": {},
   "outputs": [
    {
     "data": {
      "text/plain": [
       "False"
      ]
     },
     "execution_count": 47,
     "metadata": {},
     "output_type": "execute_result"
    }
   ],
   "source": [
    "'wat' in title"
   ]
  },
  {
   "cell_type": "code",
   "execution_count": 2,
   "id": "e93f48ec-4693-417d-b1e8-eefde5766a1b",
   "metadata": {},
   "outputs": [],
   "source": [
    "import json\n",
    "import os"
   ]
  },
  {
   "cell_type": "code",
   "execution_count": 38,
   "id": "008cb372-cff5-4c3d-a10a-439d8ac293fd",
   "metadata": {},
   "outputs": [],
   "source": [
    "filename = 'test.json'\n",
    "with open(filename, 'r') as f:\n",
    "    data = json.load(f)\n",
    "    data['id'] = 134 # <--- add `id` value.\n",
    "    data['test'] = [1,2,3,'hi']\n"
   ]
  },
  {
   "cell_type": "code",
   "execution_count": 31,
   "id": "ee89df1e-f8e9-41d6-b561-4e92239de07c",
   "metadata": {},
   "outputs": [
    {
     "name": "stdout",
     "output_type": "stream",
     "text": [
      "['a', 'b', 'c']\n"
     ]
    }
   ],
   "source": [
    "a = ['a', 'b', 'c']\n",
    "print(a)"
   ]
  },
  {
   "cell_type": "code",
   "execution_count": 105,
   "id": "775e7746-5973-4090-ac70-25375605425a",
   "metadata": {},
   "outputs": [],
   "source": [
    "a = {\"a\":{\"test\": [1, 2, 3]}, \"b\":{\"test\": [1, 2, 3]}, \"c\": {\"test\": [1, 2, 3]}}"
   ]
  },
  {
   "cell_type": "code",
   "execution_count": 110,
   "id": "e0850bcc-c76b-4f62-b1e3-ab42b044d3f7",
   "metadata": {},
   "outputs": [
    {
     "data": {
      "text/plain": [
       "{'a': {'test': [100, 2, 3]},\n",
       " 'b': {'test': [1, 2, 3]},\n",
       " 'c': {'test': [1, 2, 3]}}"
      ]
     },
     "execution_count": 110,
     "metadata": {},
     "output_type": "execute_result"
    }
   ],
   "source": [
    "a"
   ]
  },
  {
   "cell_type": "code",
   "execution_count": 109,
   "id": "908bf7ca-0769-4a62-941d-6bf647a89c84",
   "metadata": {},
   "outputs": [],
   "source": [
    "a['a']['test'][0]*=100"
   ]
  },
  {
   "cell_type": "code",
   "execution_count": 29,
   "id": "94cefa6a-1568-4460-96f2-dd495c0f152c",
   "metadata": {},
   "outputs": [
    {
     "name": "stdout",
     "output_type": "stream",
     "text": [
      "a: {'test': [1, 2, 3]}\n",
      "b: {'test': [1, 2, 3]}\n",
      "c: {'test': [1, 2, 3]}\n"
     ]
    }
   ],
   "source": [
    "for d in a:\n",
    "    print(f\"{d}: {a[d]}\")"
   ]
  },
  {
   "cell_type": "code",
   "execution_count": 20,
   "id": "a3343053-a4e8-4086-8f00-fba5154ade16",
   "metadata": {},
   "outputs": [],
   "source": [
    "os.remove(filename)\n",
    "with open(filename, 'w') as f:\n",
    "    json.dump(data, f, indent=4)"
   ]
  },
  {
   "cell_type": "code",
   "execution_count": 70,
   "id": "99d5ea22-784b-4b00-98fc-b04b6e52dbac",
   "metadata": {},
   "outputs": [],
   "source": [
    "import datetime"
   ]
  },
  {
   "cell_type": "code",
   "execution_count": 73,
   "id": "73d698c4-0fa9-4704-8723-29ae9306b8e5",
   "metadata": {},
   "outputs": [
    {
     "data": {
      "text/plain": [
       "datetime.timezone.utc"
      ]
     },
     "execution_count": 73,
     "metadata": {},
     "output_type": "execute_result"
    }
   ],
   "source": [
    "datetime.timezone(datetime.timedelta(0))"
   ]
  },
  {
   "cell_type": "code",
   "execution_count": 80,
   "id": "c00e1035-c6e1-47fe-b0bc-8add1861fca9",
   "metadata": {},
   "outputs": [
    {
     "data": {
      "text/plain": [
       "0"
      ]
     },
     "execution_count": 80,
     "metadata": {},
     "output_type": "execute_result"
    }
   ],
   "source": [
    "datetime.datetime.now(datetime.timezone(datetime.timedelta(0))).hour"
   ]
  },
  {
   "cell_type": "code",
   "execution_count": 14,
   "id": "4c58c0fb-a0ae-45c6-ae4d-d50ecbd7b241",
   "metadata": {},
   "outputs": [],
   "source": [
    "tp = {'price':100, 'time':time.time()}"
   ]
  },
  {
   "cell_type": "code",
   "execution_count": 15,
   "id": "77623b6c-77a4-40ba-94d3-df9e0b4eae57",
   "metadata": {},
   "outputs": [],
   "source": [
    "data['strat'] = {'buy':1000, 'tp':tp}"
   ]
  },
  {
   "cell_type": "code",
   "execution_count": 33,
   "id": "d7545b51-21e0-4cb2-967f-3838ccce2d81",
   "metadata": {},
   "outputs": [
    {
     "data": {
      "text/plain": [
       "{'id': 134,\n",
       " 'test': [1, 2, 3, 'hi'],\n",
       " 'strat': {'buy': 1000, 'tp': {'price': 100, 'time': 1638035367.227021}}}"
      ]
     },
     "execution_count": 33,
     "metadata": {},
     "output_type": "execute_result"
    }
   ],
   "source": [
    "data"
   ]
  },
  {
   "cell_type": "code",
   "execution_count": 36,
   "id": "77351b44-9276-4279-893f-d0fc36bf9d26",
   "metadata": {},
   "outputs": [],
   "source": [
    "if 3 in data['test']:\n",
    "    del data['test']"
   ]
  },
  {
   "cell_type": "code",
   "execution_count": 40,
   "id": "fa6992b9-dce1-4090-93e0-7f7d8f575fe7",
   "metadata": {},
   "outputs": [
    {
     "data": {
      "text/plain": [
       "2"
      ]
     },
     "execution_count": 40,
     "metadata": {},
     "output_type": "execute_result"
    }
   ],
   "source": [
    "len(data['strat'])"
   ]
  },
  {
   "cell_type": "code",
   "execution_count": 48,
   "id": "c43e27d9-9e2c-4179-aa8c-f2146c261278",
   "metadata": {},
   "outputs": [
    {
     "data": {
      "text/plain": [
       "True"
      ]
     },
     "execution_count": 48,
     "metadata": {},
     "output_type": "execute_result"
    }
   ],
   "source": [
    "False in [True, False, False]"
   ]
  },
  {
   "cell_type": "code",
   "execution_count": 1,
   "id": "850bdacc-a8d0-471b-8733-4a1e6caa5880",
   "metadata": {},
   "outputs": [],
   "source": [
    "import keys"
   ]
  },
  {
   "cell_type": "code",
   "execution_count": 2,
   "id": "bd453e04-f9ae-48c0-a73e-1836a49f694d",
   "metadata": {},
   "outputs": [],
   "source": [
    "import requests"
   ]
  },
  {
   "cell_type": "code",
   "execution_count": 3,
   "id": "0142df6c-93e3-4632-9f39-c63fdb2b8d31",
   "metadata": {},
   "outputs": [],
   "source": [
    "test = 'adsf\\\n",
    "adsf\\\n",
    "asdf'"
   ]
  },
  {
   "cell_type": "code",
   "execution_count": 4,
   "id": "31ef78de-71d8-4a81-95f1-d35763876ccd",
   "metadata": {},
   "outputs": [
    {
     "data": {
      "text/plain": [
       "'adsfadsfasdf'"
      ]
     },
     "execution_count": 4,
     "metadata": {},
     "output_type": "execute_result"
    }
   ],
   "source": [
    "test"
   ]
  },
  {
   "cell_type": "code",
   "execution_count": 40,
   "id": "ca12056a-d899-4133-972f-13248db3e82c",
   "metadata": {},
   "outputs": [],
   "source": [
    "cid = 'UCqK_GSMbpiV8spgD3ZGloSw'\n",
    "api = keys.key(\"youtube\", \"api\")"
   ]
  },
  {
   "cell_type": "code",
   "execution_count": 16,
   "id": "4a2ebc68-849a-490b-aacb-c64ae18e05e1",
   "metadata": {},
   "outputs": [],
   "source": [
    "url = f'https://youtube.googleapis.com/youtube/v3/channels?\\\n",
    "part=contentDetails&id=UCqK_GSMbpiV8spgD3ZGloSw&\\\n",
    "maxResults=10&\\\n",
    "key={keys.key(\"youtube\", \"api\")}'\n"
   ]
  },
  {
   "cell_type": "code",
   "execution_count": 30,
   "id": "f07cbf18-4597-4846-b1ed-868cb742364c",
   "metadata": {},
   "outputs": [],
   "source": [
    "url = f'https://www.googleapis.com/youtube/v3/search?\\\n",
    "key={keys.key(\"youtube\", \"api\")}&\\\n",
    "channelId=UCqK_GSMbpiV8spgD3ZGloSw&part=snippet,id&order=date&maxResults=1'\n",
    "\n"
   ]
  },
  {
   "cell_type": "code",
   "execution_count": 41,
   "id": "1f6b8898-3d8e-48bb-90e3-ccc04f02f206",
   "metadata": {},
   "outputs": [],
   "source": [
    "url = f'https://www.googleapis.com/youtube/v3/channels?\\\n",
    "id={cid}&\\\n",
    "key={api}&\\\n",
    "part=contentDetails'\n"
   ]
  },
  {
   "cell_type": "code",
   "execution_count": 49,
   "id": "f951dd22-5256-49d7-91b0-16622aa44c3b",
   "metadata": {},
   "outputs": [],
   "source": [
    "url = f'https://www.googleapis.com/youtube/v3/playlistItems?playlistId=UUqK_GSMbpiV8spgD3ZGloSw&key={api}&part=snippet&maxResults=1'"
   ]
  },
  {
   "cell_type": "code",
   "execution_count": 51,
   "id": "3117f6fd-64aa-4284-a31c-2e58010b465e",
   "metadata": {},
   "outputs": [],
   "source": [
    "response = requests.get(url)"
   ]
  },
  {
   "cell_type": "code",
   "execution_count": 81,
   "id": "dfe7587b-ae09-4d45-bd0d-fe9bbce1cc51",
   "metadata": {},
   "outputs": [],
   "source": [
    "a = response.json()['items'][0]['snippet']"
   ]
  },
  {
   "cell_type": "code",
   "execution_count": 85,
   "id": "e9f0399b-4c2d-41b0-928a-025a9bebb9e1",
   "metadata": {},
   "outputs": [
    {
     "ename": "AttributeError",
     "evalue": "module 'datetime' has no attribute 'to_datetime'",
     "output_type": "error",
     "traceback": [
      "\u001b[0;31m---------------------------------------------------------------------------\u001b[0m",
      "\u001b[0;31mAttributeError\u001b[0m                            Traceback (most recent call last)",
      "\u001b[0;32m/var/folders/4n/h7p57sb17sn7vtrtjz3m1xhr0000gn/T/ipykernel_7240/3614305975.py\u001b[0m in \u001b[0;36m<module>\u001b[0;34m\u001b[0m\n\u001b[0;32m----> 1\u001b[0;31m \u001b[0mdatetime\u001b[0m\u001b[0;34m.\u001b[0m\u001b[0mto_datetime\u001b[0m\u001b[0;34m(\u001b[0m\u001b[0ma\u001b[0m\u001b[0;34m[\u001b[0m\u001b[0;34m'publishedAt'\u001b[0m\u001b[0;34m]\u001b[0m\u001b[0;34m)\u001b[0m\u001b[0;34m\u001b[0m\u001b[0;34m\u001b[0m\u001b[0m\n\u001b[0m",
      "\u001b[0;31mAttributeError\u001b[0m: module 'datetime' has no attribute 'to_datetime'"
     ]
    }
   ],
   "source": [
    "datetime.to_datetime(a['publishedAt'])"
   ]
  },
  {
   "cell_type": "code",
   "execution_count": 91,
   "id": "5899f911-98d8-4f31-9ed3-1ed8e1f58175",
   "metadata": {
    "tags": []
   },
   "outputs": [
    {
     "data": {
      "text/plain": [
       "'2021-11-27T16:23:21Z'"
      ]
     },
     "execution_count": 91,
     "metadata": {},
     "output_type": "execute_result"
    }
   ],
   "source": [
    "a['publishedAt']"
   ]
  },
  {
   "cell_type": "code",
   "execution_count": 92,
   "id": "f87ef145-fc82-4c64-9037-9cb51eac44c3",
   "metadata": {},
   "outputs": [],
   "source": [
    "\n",
    "date_time_obj = datetime.datetime.strptime(a['publishedAt'], '%Y-%m-%dT%H:%M:%SZ')\n"
   ]
  },
  {
   "cell_type": "code",
   "execution_count": 93,
   "id": "a89f9087-5b1d-4d81-890c-5cbfce2a131f",
   "metadata": {},
   "outputs": [
    {
     "data": {
      "text/plain": [
       "datetime.datetime(2021, 11, 27, 16, 23, 21)"
      ]
     },
     "execution_count": 93,
     "metadata": {},
     "output_type": "execute_result"
    }
   ],
   "source": [
    "date_time_obj"
   ]
  },
  {
   "cell_type": "code",
   "execution_count": 1,
   "id": "158b059b-c042-4c08-b19c-3ddf425b7b3d",
   "metadata": {},
   "outputs": [],
   "source": [
    "import youtube_checker"
   ]
  },
  {
   "cell_type": "code",
   "execution_count": 2,
   "id": "02491dca-54d8-40a7-a6b6-a0d093019b47",
   "metadata": {},
   "outputs": [
    {
     "data": {
      "text/plain": [
       "['watch', 'out', 'for', 'these', 'the', 'shtcoin', 'checklist']"
      ]
     },
     "execution_count": 2,
     "metadata": {},
     "output_type": "execute_result"
    }
   ],
   "source": [
    "youtube_checker.get_latest_video_title()"
   ]
  },
  {
   "cell_type": "code",
   "execution_count": 3,
   "id": "f86209c7-3ad3-41e5-b2c4-6df05a0635ca",
   "metadata": {},
   "outputs": [],
   "source": [
    "import binance_helpers as bh"
   ]
  },
  {
   "cell_type": "code",
   "execution_count": 4,
   "id": "3f570fc8-0a1a-4ce6-9707-821b28a0b2af",
   "metadata": {},
   "outputs": [],
   "source": [
    "client = bh.new_binance_client()"
   ]
  },
  {
   "cell_type": "code",
   "execution_count": 6,
   "id": "b18017fb-3106-4923-a269-2fed3d83575f",
   "metadata": {},
   "outputs": [
    {
     "data": {
      "text/plain": [
       "{'asset': 'USDT', 'free': '16.98810000', 'locked': '0.00000000'}"
      ]
     },
     "execution_count": 6,
     "metadata": {},
     "output_type": "execute_result"
    }
   ],
   "source": [
    "client.get_asset_balance(asset='USDT')"
   ]
  },
  {
   "cell_type": "code",
   "execution_count": 7,
   "id": "d3084fc1-a664-4cff-93ee-911697b6082c",
   "metadata": {},
   "outputs": [
    {
     "data": {
      "text/plain": [
       "'16.98810000'"
      ]
     },
     "execution_count": 7,
     "metadata": {},
     "output_type": "execute_result"
    }
   ],
   "source": [
    "client.get_asset_balance(asset='USDT')['free']"
   ]
  },
  {
   "cell_type": "code",
   "execution_count": 8,
   "id": "b653fc6d-44d2-491e-a16d-1366ac72f399",
   "metadata": {},
   "outputs": [
    {
     "data": {
      "text/plain": [
       "{'tranId': 88639719693, 'clientTag': ''}"
      ]
     },
     "execution_count": 8,
     "metadata": {},
     "output_type": "execute_result"
    }
   ],
   "source": [
    "client.transfer_spot_to_isolated_margin(asset='USDT', symbol=\"BTCUSDT\", amount='1.98810000')"
   ]
  },
  {
   "cell_type": "code",
   "execution_count": 9,
   "id": "3f57e3fc-80db-4dd6-aaac-f0ece9684006",
   "metadata": {
    "collapsed": true,
    "jupyter": {
     "outputs_hidden": true
    },
    "tags": []
   },
   "outputs": [
    {
     "data": {
      "text/plain": [
       "{'symbol': 'BTCUSDT',\n",
       " 'status': 'TRADING',\n",
       " 'baseAsset': 'BTC',\n",
       " 'baseAssetPrecision': 8,\n",
       " 'quoteAsset': 'USDT',\n",
       " 'quotePrecision': 8,\n",
       " 'quoteAssetPrecision': 8,\n",
       " 'baseCommissionPrecision': 8,\n",
       " 'quoteCommissionPrecision': 8,\n",
       " 'orderTypes': ['LIMIT',\n",
       "  'LIMIT_MAKER',\n",
       "  'MARKET',\n",
       "  'STOP_LOSS_LIMIT',\n",
       "  'TAKE_PROFIT_LIMIT'],\n",
       " 'icebergAllowed': True,\n",
       " 'ocoAllowed': True,\n",
       " 'quoteOrderQtyMarketAllowed': True,\n",
       " 'isSpotTradingAllowed': True,\n",
       " 'isMarginTradingAllowed': True,\n",
       " 'filters': [{'filterType': 'PRICE_FILTER',\n",
       "   'minPrice': '0.01000000',\n",
       "   'maxPrice': '1000000.00000000',\n",
       "   'tickSize': '0.01000000'},\n",
       "  {'filterType': 'PERCENT_PRICE',\n",
       "   'multiplierUp': '5',\n",
       "   'multiplierDown': '0.2',\n",
       "   'avgPriceMins': 5},\n",
       "  {'filterType': 'LOT_SIZE',\n",
       "   'minQty': '0.00001000',\n",
       "   'maxQty': '9000.00000000',\n",
       "   'stepSize': '0.00001000'},\n",
       "  {'filterType': 'MIN_NOTIONAL',\n",
       "   'minNotional': '10.00000000',\n",
       "   'applyToMarket': True,\n",
       "   'avgPriceMins': 5},\n",
       "  {'filterType': 'ICEBERG_PARTS', 'limit': 10},\n",
       "  {'filterType': 'MARKET_LOT_SIZE',\n",
       "   'minQty': '0.00000000',\n",
       "   'maxQty': '138.03069434',\n",
       "   'stepSize': '0.00000000'},\n",
       "  {'filterType': 'MAX_NUM_ORDERS', 'maxNumOrders': 200},\n",
       "  {'filterType': 'MAX_NUM_ALGO_ORDERS', 'maxNumAlgoOrders': 5}],\n",
       " 'permissions': ['SPOT', 'MARGIN']}"
      ]
     },
     "execution_count": 9,
     "metadata": {},
     "output_type": "execute_result"
    }
   ],
   "source": [
    "client.get_symbol_info('BTCUSDT')"
   ]
  },
  {
   "cell_type": "code",
   "execution_count": 11,
   "id": "ce6f197f-9f36-4a0b-9009-308e48f4f90e",
   "metadata": {},
   "outputs": [],
   "source": [
    "from binance.enums import *"
   ]
  },
  {
   "cell_type": "markdown",
   "id": "a80ba100-d213-4992-8f58-a92cfcce92c9",
   "metadata": {},
   "source": [
    "## Take out loan for max"
   ]
  },
  {
   "cell_type": "code",
   "execution_count": 37,
   "id": "5b4fb8be-8731-4399-b1b2-e717599edfd9",
   "metadata": {},
   "outputs": [],
   "source": [
    "max_loan = client.get_max_margin_loan(asset='USDT', isolatedSymbol=\"BTCUSDT\")"
   ]
  },
  {
   "cell_type": "code",
   "execution_count": 38,
   "id": "891d610e-0d96-4861-865a-41f0e282747e",
   "metadata": {},
   "outputs": [
    {
     "data": {
      "text/plain": [
       "{'amount': '17.91081081', 'borrowLimit': '700000'}"
      ]
     },
     "execution_count": 38,
     "metadata": {},
     "output_type": "execute_result"
    }
   ],
   "source": [
    "max_loan"
   ]
  },
  {
   "cell_type": "code",
   "execution_count": 42,
   "id": "28776005-f09d-4f0b-bf86-aceb13f02583",
   "metadata": {},
   "outputs": [],
   "source": [
    "order_l = client.create_margin_loan(asset='USDT', amount=max_loan['amount'], symbol='BTCUSDT', isIsolated='TRUE')\n"
   ]
  },
  {
   "cell_type": "code",
   "execution_count": 43,
   "id": "d015b10c-95dc-49e0-bb3e-fad4571c461a",
   "metadata": {},
   "outputs": [
    {
     "data": {
      "text/plain": [
       "{'tranId': 88646866353, 'clientTag': ''}"
      ]
     },
     "execution_count": 43,
     "metadata": {},
     "output_type": "execute_result"
    }
   ],
   "source": [
    "order_l"
   ]
  },
  {
   "cell_type": "markdown",
   "id": "62071d65-fc7d-4818-827f-61149ef3d415",
   "metadata": {},
   "source": [
    "## Find out how much BTC can buy with loan+capital"
   ]
  },
  {
   "cell_type": "code",
   "execution_count": 74,
   "id": "29500281-5f50-4a8f-a72e-160d0a07a9c9",
   "metadata": {},
   "outputs": [
    {
     "data": {
      "text/plain": [
       "54094.58"
      ]
     },
     "execution_count": 74,
     "metadata": {},
     "output_type": "execute_result"
    }
   ],
   "source": [
    "price = float(client.get_recent_trades(symbol='BTCUSDT')[-1]['price'])\n",
    "price"
   ]
  },
  {
   "cell_type": "code",
   "execution_count": 75,
   "id": "119ebe1e-e7c7-4993-8948-74baabf977d5",
   "metadata": {},
   "outputs": [
    {
     "data": {
      "text/plain": [
       "5"
      ]
     },
     "execution_count": 75,
     "metadata": {},
     "output_type": "execute_result"
    }
   ],
   "source": [
    "dp = bh.get_decimal_place(client, 'BTCUSDT')\n",
    "dp"
   ]
  },
  {
   "cell_type": "code",
   "execution_count": 100,
   "id": "9668f95a-132e-4e9f-88d5-0bec6747c9e6",
   "metadata": {},
   "outputs": [
    {
     "data": {
      "text/plain": [
       "'BTC'"
      ]
     },
     "execution_count": 100,
     "metadata": {},
     "output_type": "execute_result"
    }
   ],
   "source": [
    "a = \"BTCUSDT\"\n",
    "a[:-4]"
   ]
  },
  {
   "cell_type": "code",
   "execution_count": 76,
   "id": "2d9b632c-b496-497e-a033-083d992590fd",
   "metadata": {},
   "outputs": [
    {
     "data": {
      "text/plain": [
       "19.89891081"
      ]
     },
     "execution_count": 76,
     "metadata": {},
     "output_type": "execute_result"
    }
   ],
   "source": [
    "m = client.get_isolated_margin_account()\n",
    "usdta = list(filter(lambda x: x['baseAsset']['asset'] == 'BTC' and x['quoteAsset']['asset'] == 'USDT', m['assets']))[0]\n",
    "usdta = float(usdta['quoteAsset']['free'])\n",
    "usdta"
   ]
  },
  {
   "cell_type": "code",
   "execution_count": 77,
   "id": "24fb1241-fc46-474f-8a39-fbd6b9521398",
   "metadata": {},
   "outputs": [],
   "source": [
    "amt = bh.binance_floor(0.95*usdta/price, dp)"
   ]
  },
  {
   "cell_type": "code",
   "execution_count": 78,
   "id": "a1ae3158-46ed-4064-be82-8c04a3331af7",
   "metadata": {},
   "outputs": [
    {
     "data": {
      "text/plain": [
       "0.00034"
      ]
     },
     "execution_count": 78,
     "metadata": {},
     "output_type": "execute_result"
    }
   ],
   "source": [
    "amt"
   ]
  },
  {
   "cell_type": "markdown",
   "id": "328b7fca-d5aa-419f-ac5f-5524750c8917",
   "metadata": {},
   "source": [
    "## BUY BTC and then sell it"
   ]
  },
  {
   "cell_type": "code",
   "execution_count": 79,
   "id": "78b5b6d2-fcac-440b-aee2-a8128fd67a2f",
   "metadata": {
    "tags": []
   },
   "outputs": [],
   "source": [
    "orderb = client.create_margin_order(\n",
    "    symbol=\"BTCUSDT\",\n",
    "    side=SIDE_BUY,\n",
    "    type=ORDER_TYPE_MARKET,\n",
    "    quantity=amt,\n",
    "    newOrderRespType = \"RESULT\",\n",
    "    isIsolated='TRUE')\n"
   ]
  },
  {
   "cell_type": "code",
   "execution_count": 80,
   "id": "706ab990-2843-4f93-859e-18eba9bd6963",
   "metadata": {},
   "outputs": [
    {
     "data": {
      "text/plain": [
       "0.00033"
      ]
     },
     "execution_count": 80,
     "metadata": {},
     "output_type": "execute_result"
    }
   ],
   "source": [
    "m = client.get_isolated_margin_account()\n",
    "a = list(filter(lambda x: x['baseAsset']['asset'] == 'BTC' and x['quoteAsset']['asset'] == 'USDT', m['assets']))[0]\n",
    "samt = bh.binance_floor(float(a['baseAsset']['free']), dp)\n",
    "samt"
   ]
  },
  {
   "cell_type": "code",
   "execution_count": 81,
   "id": "5811bcd1-51c6-4910-8fd0-a26ebabc9c6d",
   "metadata": {},
   "outputs": [],
   "source": [
    "orders = client.create_margin_order(\n",
    "    symbol=\"BTCUSDT\",\n",
    "    side=SIDE_SELL,\n",
    "    type=ORDER_TYPE_MARKET,\n",
    "    quantity=samt,\n",
    "    newOrderRespType = \"RESULT\",\n",
    "    isIsolated='TRUE')\n"
   ]
  },
  {
   "cell_type": "markdown",
   "id": "3fe8d19a-3d0b-48f8-99f8-fb44a211e4e4",
   "metadata": {},
   "source": [
    "## Repay loan"
   ]
  },
  {
   "cell_type": "code",
   "execution_count": 102,
   "id": "280b562f-f6ea-4365-a99e-fb2f4014d2a4",
   "metadata": {
    "collapsed": true,
    "jupyter": {
     "outputs_hidden": true
    },
    "tags": []
   },
   "outputs": [
    {
     "data": {
      "text/plain": [
       "{'baseAsset': {'asset': 'BTC',\n",
       "  'borrowEnabled': True,\n",
       "  'borrowed': '0',\n",
       "  'free': '0',\n",
       "  'interest': '0',\n",
       "  'locked': '0',\n",
       "  'netAsset': '0',\n",
       "  'netAssetOfBtc': '0',\n",
       "  'repayEnabled': True,\n",
       "  'totalAsset': '0'},\n",
       " 'quoteAsset': {'asset': 'USDT',\n",
       "  'borrowEnabled': True,\n",
       "  'borrowed': '0',\n",
       "  'free': '0',\n",
       "  'interest': '0',\n",
       "  'locked': '0',\n",
       "  'netAsset': '0',\n",
       "  'netAssetOfBtc': '0',\n",
       "  'repayEnabled': True,\n",
       "  'totalAsset': '0'},\n",
       " 'symbol': 'BTCUSDT',\n",
       " 'isolatedCreated': True,\n",
       " 'marginLevel': '999',\n",
       " 'marginLevelStatus': 'EXCESSIVE',\n",
       " 'marginRatio': '10',\n",
       " 'indexPrice': '54266.50184182',\n",
       " 'liquidatePrice': '0',\n",
       " 'liquidateRate': '0',\n",
       " 'tradeEnabled': True,\n",
       " 'enabled': True}"
      ]
     },
     "execution_count": 102,
     "metadata": {},
     "output_type": "execute_result"
    }
   ],
   "source": [
    "m = client.get_isolated_margin_account()\n",
    "a = list(filter(lambda x: x['baseAsset']['asset'] == 'BTC' and x['quoteAsset']['asset'] == 'USDT', m['assets']))[0]\n",
    "a"
   ]
  },
  {
   "cell_type": "code",
   "execution_count": 86,
   "id": "383c802d-6fbe-4d83-a7df-d1d5a0bd1219",
   "metadata": {},
   "outputs": [
    {
     "data": {
      "text/plain": [
       "'19.34376499'"
      ]
     },
     "execution_count": 86,
     "metadata": {},
     "output_type": "execute_result"
    }
   ],
   "source": [
    "m = client.get_isolated_margin_account()\n",
    "a = list(filter(lambda x: x['baseAsset']['asset'] == 'BTC' and x['quoteAsset']['asset'] == 'USDT', m['assets']))[0]\n",
    "d = a['quoteAsset']['free']\n",
    "d"
   ]
  },
  {
   "cell_type": "code",
   "execution_count": 87,
   "id": "f86fbafd-fd8d-405a-8e69-17130cf9a21e",
   "metadata": {},
   "outputs": [],
   "source": [
    "rpl = client.repay_margin_loan(asset='USDT', amount=d, symbol='BTCUSDT', isIsolated='TRUE')\n"
   ]
  },
  {
   "cell_type": "code",
   "execution_count": 90,
   "id": "b396b0fd-c324-4371-88cd-d39c128c45a9",
   "metadata": {
    "collapsed": true,
    "jupyter": {
     "outputs_hidden": true
    },
    "tags": []
   },
   "outputs": [
    {
     "ename": "BinanceAPIException",
     "evalue": "APIError(code=-3015): Repay amount exceeds borrow amount.",
     "output_type": "error",
     "traceback": [
      "\u001b[0;31m---------------------------------------------------------------------------\u001b[0m",
      "\u001b[0;31mBinanceAPIException\u001b[0m                       Traceback (most recent call last)",
      "\u001b[0;32m/var/folders/4n/h7p57sb17sn7vtrtjz3m1xhr0000gn/T/ipykernel_8892/3803152131.py\u001b[0m in \u001b[0;36m<module>\u001b[0;34m\u001b[0m\n\u001b[0;32m----> 1\u001b[0;31m \u001b[0mrpl\u001b[0m \u001b[0;34m=\u001b[0m \u001b[0mclient\u001b[0m\u001b[0;34m.\u001b[0m\u001b[0mrepay_margin_loan\u001b[0m\u001b[0;34m(\u001b[0m\u001b[0masset\u001b[0m\u001b[0;34m=\u001b[0m\u001b[0;34m'USDT'\u001b[0m\u001b[0;34m,\u001b[0m \u001b[0mamount\u001b[0m\u001b[0;34m=\u001b[0m\u001b[0md\u001b[0m\u001b[0;34m,\u001b[0m \u001b[0msymbol\u001b[0m\u001b[0;34m=\u001b[0m\u001b[0;34m'BTCUSDT'\u001b[0m\u001b[0;34m,\u001b[0m \u001b[0misIsolated\u001b[0m\u001b[0;34m=\u001b[0m\u001b[0;34m'TRUE'\u001b[0m\u001b[0;34m)\u001b[0m\u001b[0;34m\u001b[0m\u001b[0;34m\u001b[0m\u001b[0m\n\u001b[0m",
      "\u001b[0;32m~/Documents/Programming/ytprinter/env/lib/python3.9/site-packages/binance/client.py\u001b[0m in \u001b[0;36mrepay_margin_loan\u001b[0;34m(self, **params)\u001b[0m\n\u001b[1;32m   3500\u001b[0m \u001b[0;34m\u001b[0m\u001b[0m\n\u001b[1;32m   3501\u001b[0m         \"\"\"\n\u001b[0;32m-> 3502\u001b[0;31m         \u001b[0;32mreturn\u001b[0m \u001b[0mself\u001b[0m\u001b[0;34m.\u001b[0m\u001b[0m_request_margin_api\u001b[0m\u001b[0;34m(\u001b[0m\u001b[0;34m'post'\u001b[0m\u001b[0;34m,\u001b[0m \u001b[0;34m'margin/repay'\u001b[0m\u001b[0;34m,\u001b[0m \u001b[0msigned\u001b[0m\u001b[0;34m=\u001b[0m\u001b[0;32mTrue\u001b[0m\u001b[0;34m,\u001b[0m \u001b[0mdata\u001b[0m\u001b[0;34m=\u001b[0m\u001b[0mparams\u001b[0m\u001b[0;34m)\u001b[0m\u001b[0;34m\u001b[0m\u001b[0;34m\u001b[0m\u001b[0m\n\u001b[0m\u001b[1;32m   3503\u001b[0m \u001b[0;34m\u001b[0m\u001b[0m\n\u001b[1;32m   3504\u001b[0m     \u001b[0;32mdef\u001b[0m \u001b[0mcreate_margin_order\u001b[0m\u001b[0;34m(\u001b[0m\u001b[0mself\u001b[0m\u001b[0;34m,\u001b[0m \u001b[0;34m**\u001b[0m\u001b[0mparams\u001b[0m\u001b[0;34m)\u001b[0m\u001b[0;34m:\u001b[0m\u001b[0;34m\u001b[0m\u001b[0;34m\u001b[0m\u001b[0m\n",
      "\u001b[0;32m~/Documents/Programming/ytprinter/env/lib/python3.9/site-packages/binance/client.py\u001b[0m in \u001b[0;36m_request_margin_api\u001b[0;34m(self, method, path, signed, **kwargs)\u001b[0m\n\u001b[1;32m    362\u001b[0m         \u001b[0muri\u001b[0m \u001b[0;34m=\u001b[0m \u001b[0mself\u001b[0m\u001b[0;34m.\u001b[0m\u001b[0m_create_margin_api_uri\u001b[0m\u001b[0;34m(\u001b[0m\u001b[0mpath\u001b[0m\u001b[0;34m)\u001b[0m\u001b[0;34m\u001b[0m\u001b[0;34m\u001b[0m\u001b[0m\n\u001b[1;32m    363\u001b[0m \u001b[0;34m\u001b[0m\u001b[0m\n\u001b[0;32m--> 364\u001b[0;31m         \u001b[0;32mreturn\u001b[0m \u001b[0mself\u001b[0m\u001b[0;34m.\u001b[0m\u001b[0m_request\u001b[0m\u001b[0;34m(\u001b[0m\u001b[0mmethod\u001b[0m\u001b[0;34m,\u001b[0m \u001b[0muri\u001b[0m\u001b[0;34m,\u001b[0m \u001b[0msigned\u001b[0m\u001b[0;34m,\u001b[0m \u001b[0;34m**\u001b[0m\u001b[0mkwargs\u001b[0m\u001b[0;34m)\u001b[0m\u001b[0;34m\u001b[0m\u001b[0;34m\u001b[0m\u001b[0m\n\u001b[0m\u001b[1;32m    365\u001b[0m \u001b[0;34m\u001b[0m\u001b[0m\n\u001b[1;32m    366\u001b[0m     \u001b[0;32mdef\u001b[0m \u001b[0m_request_website\u001b[0m\u001b[0;34m(\u001b[0m\u001b[0mself\u001b[0m\u001b[0;34m,\u001b[0m \u001b[0mmethod\u001b[0m\u001b[0;34m,\u001b[0m \u001b[0mpath\u001b[0m\u001b[0;34m,\u001b[0m \u001b[0msigned\u001b[0m\u001b[0;34m=\u001b[0m\u001b[0;32mFalse\u001b[0m\u001b[0;34m,\u001b[0m \u001b[0;34m**\u001b[0m\u001b[0mkwargs\u001b[0m\u001b[0;34m)\u001b[0m \u001b[0;34m->\u001b[0m \u001b[0mDict\u001b[0m\u001b[0;34m:\u001b[0m\u001b[0;34m\u001b[0m\u001b[0;34m\u001b[0m\u001b[0m\n",
      "\u001b[0;32m~/Documents/Programming/ytprinter/env/lib/python3.9/site-packages/binance/client.py\u001b[0m in \u001b[0;36m_request\u001b[0;34m(self, method, uri, signed, force_params, **kwargs)\u001b[0m\n\u001b[1;32m    313\u001b[0m \u001b[0;34m\u001b[0m\u001b[0m\n\u001b[1;32m    314\u001b[0m         \u001b[0mself\u001b[0m\u001b[0;34m.\u001b[0m\u001b[0mresponse\u001b[0m \u001b[0;34m=\u001b[0m \u001b[0mgetattr\u001b[0m\u001b[0;34m(\u001b[0m\u001b[0mself\u001b[0m\u001b[0;34m.\u001b[0m\u001b[0msession\u001b[0m\u001b[0;34m,\u001b[0m \u001b[0mmethod\u001b[0m\u001b[0;34m)\u001b[0m\u001b[0;34m(\u001b[0m\u001b[0muri\u001b[0m\u001b[0;34m,\u001b[0m \u001b[0;34m**\u001b[0m\u001b[0mkwargs\u001b[0m\u001b[0;34m)\u001b[0m\u001b[0;34m\u001b[0m\u001b[0;34m\u001b[0m\u001b[0m\n\u001b[0;32m--> 315\u001b[0;31m         \u001b[0;32mreturn\u001b[0m \u001b[0mself\u001b[0m\u001b[0;34m.\u001b[0m\u001b[0m_handle_response\u001b[0m\u001b[0;34m(\u001b[0m\u001b[0mself\u001b[0m\u001b[0;34m.\u001b[0m\u001b[0mresponse\u001b[0m\u001b[0;34m)\u001b[0m\u001b[0;34m\u001b[0m\u001b[0;34m\u001b[0m\u001b[0m\n\u001b[0m\u001b[1;32m    316\u001b[0m \u001b[0;34m\u001b[0m\u001b[0m\n\u001b[1;32m    317\u001b[0m     \u001b[0;34m@\u001b[0m\u001b[0mstaticmethod\u001b[0m\u001b[0;34m\u001b[0m\u001b[0;34m\u001b[0m\u001b[0m\n",
      "\u001b[0;32m~/Documents/Programming/ytprinter/env/lib/python3.9/site-packages/binance/client.py\u001b[0m in \u001b[0;36m_handle_response\u001b[0;34m(response)\u001b[0m\n\u001b[1;32m    322\u001b[0m         \"\"\"\n\u001b[1;32m    323\u001b[0m         \u001b[0;32mif\u001b[0m \u001b[0;32mnot\u001b[0m \u001b[0;34m(\u001b[0m\u001b[0;36m200\u001b[0m \u001b[0;34m<=\u001b[0m \u001b[0mresponse\u001b[0m\u001b[0;34m.\u001b[0m\u001b[0mstatus_code\u001b[0m \u001b[0;34m<\u001b[0m \u001b[0;36m300\u001b[0m\u001b[0;34m)\u001b[0m\u001b[0;34m:\u001b[0m\u001b[0;34m\u001b[0m\u001b[0;34m\u001b[0m\u001b[0m\n\u001b[0;32m--> 324\u001b[0;31m             \u001b[0;32mraise\u001b[0m \u001b[0mBinanceAPIException\u001b[0m\u001b[0;34m(\u001b[0m\u001b[0mresponse\u001b[0m\u001b[0;34m,\u001b[0m \u001b[0mresponse\u001b[0m\u001b[0;34m.\u001b[0m\u001b[0mstatus_code\u001b[0m\u001b[0;34m,\u001b[0m \u001b[0mresponse\u001b[0m\u001b[0;34m.\u001b[0m\u001b[0mtext\u001b[0m\u001b[0;34m)\u001b[0m\u001b[0;34m\u001b[0m\u001b[0;34m\u001b[0m\u001b[0m\n\u001b[0m\u001b[1;32m    325\u001b[0m         \u001b[0;32mtry\u001b[0m\u001b[0;34m:\u001b[0m\u001b[0;34m\u001b[0m\u001b[0;34m\u001b[0m\u001b[0m\n\u001b[1;32m    326\u001b[0m             \u001b[0;32mreturn\u001b[0m \u001b[0mresponse\u001b[0m\u001b[0;34m.\u001b[0m\u001b[0mjson\u001b[0m\u001b[0;34m(\u001b[0m\u001b[0;34m)\u001b[0m\u001b[0;34m\u001b[0m\u001b[0;34m\u001b[0m\u001b[0m\n",
      "\u001b[0;31mBinanceAPIException\u001b[0m: APIError(code=-3015): Repay amount exceeds borrow amount."
     ]
    }
   ],
   "source": [
    "rpl = client.repay_margin_loan(asset='USDT', amount=d, symbol='BTCUSDT', isIsolated='TRUE')\n"
   ]
  },
  {
   "cell_type": "code",
   "execution_count": 89,
   "id": "eab009c0-b7c7-4e73-8b96-f88be43f07eb",
   "metadata": {
    "collapsed": true,
    "jupyter": {
     "outputs_hidden": true
    },
    "tags": []
   },
   "outputs": [
    {
     "data": {
      "text/plain": [
       "{'baseAsset': {'asset': 'BTC',\n",
       "  'borrowEnabled': True,\n",
       "  'borrowed': '0',\n",
       "  'free': '0.00000973',\n",
       "  'interest': '0',\n",
       "  'locked': '0',\n",
       "  'netAsset': '0.00000973',\n",
       "  'netAssetOfBtc': '0.00000973',\n",
       "  'repayEnabled': True,\n",
       "  'totalAsset': '0.00000973'},\n",
       " 'quoteAsset': {'asset': 'USDT',\n",
       "  'borrowEnabled': True,\n",
       "  'borrowed': '0',\n",
       "  'free': '1.4325064',\n",
       "  'interest': '0',\n",
       "  'locked': '0',\n",
       "  'netAsset': '1.4325064',\n",
       "  'netAssetOfBtc': '0.00002644',\n",
       "  'repayEnabled': True,\n",
       "  'totalAsset': '1.4325064'},\n",
       " 'symbol': 'BTCUSDT',\n",
       " 'isolatedCreated': True,\n",
       " 'marginLevel': '999',\n",
       " 'marginLevelStatus': 'EXCESSIVE',\n",
       " 'marginRatio': '10',\n",
       " 'indexPrice': '54178.68102514',\n",
       " 'liquidatePrice': '0',\n",
       " 'liquidateRate': '0',\n",
       " 'tradeEnabled': True,\n",
       " 'enabled': True}"
      ]
     },
     "execution_count": 89,
     "metadata": {},
     "output_type": "execute_result"
    }
   ],
   "source": [
    "m = client.get_isolated_margin_account()\n",
    "a = list(filter(lambda x: x['baseAsset']['asset'] == 'BTC' and x['quoteAsset']['asset'] == 'USDT', m['assets']))[0]\n",
    "a"
   ]
  },
  {
   "cell_type": "code",
   "execution_count": 17,
   "id": "159ef5ab-7136-4fed-b4f5-97c46e74cdf4",
   "metadata": {},
   "outputs": [
    {
     "data": {
      "text/plain": [
       "{'amount': '1.9881'}"
      ]
     },
     "execution_count": 17,
     "metadata": {},
     "output_type": "execute_result"
    }
   ],
   "source": [
    "client.get_max_margin_transfer(asset='USDT', isolatedSymbol=\"BTCUSDT\")"
   ]
  },
  {
   "cell_type": "code",
   "execution_count": 91,
   "id": "6b6fbc7a-021e-409b-be59-cd398726dae5",
   "metadata": {},
   "outputs": [
    {
     "data": {
      "text/plain": [
       "'1.4325064'"
      ]
     },
     "execution_count": 91,
     "metadata": {},
     "output_type": "execute_result"
    }
   ],
   "source": [
    "m = client.get_isolated_margin_account()\n",
    "m = list(filter(lambda x: x['baseAsset']['asset'] == 'BTC' and x['quoteAsset']['asset'] == 'USDT', m['assets']))[0]\n",
    "tamt = m['quoteAsset']['free']\n",
    "tamt"
   ]
  },
  {
   "cell_type": "code",
   "execution_count": 94,
   "id": "8d23f380-e15b-4cb3-9570-949c2d8b40cd",
   "metadata": {},
   "outputs": [
    {
     "data": {
      "text/plain": [
       "'0.00000973'"
      ]
     },
     "execution_count": 94,
     "metadata": {},
     "output_type": "execute_result"
    }
   ],
   "source": [
    "m = client.get_isolated_margin_account()\n",
    "m = list(filter(lambda x: x['baseAsset']['asset'] == 'BTC' and x['quoteAsset']['asset'] == 'USDT', m['assets']))[0]\n",
    "bamt = m['baseAsset']['free']\n",
    "bamt"
   ]
  },
  {
   "cell_type": "markdown",
   "id": "7887eb58-76ec-49de-b014-f43b8434bc93",
   "metadata": {},
   "source": [
    "## TRansfer back"
   ]
  },
  {
   "cell_type": "code",
   "execution_count": 92,
   "id": "5cee2e59-6139-4fd9-8e3f-08848e6b51d9",
   "metadata": {},
   "outputs": [
    {
     "data": {
      "text/plain": [
       "{'tranId': 88650722881, 'clientTag': ''}"
      ]
     },
     "execution_count": 92,
     "metadata": {},
     "output_type": "execute_result"
    }
   ],
   "source": [
    "client.transfer_isolated_margin_to_spot(asset='USDT', symbol=\"BTCUSDT\", amount=tamt)"
   ]
  },
  {
   "cell_type": "code",
   "execution_count": 95,
   "id": "5d460763-1805-4f9e-ac9e-d7dc5bc4fa44",
   "metadata": {},
   "outputs": [
    {
     "data": {
      "text/plain": [
       "{'tranId': 88650811294, 'clientTag': ''}"
      ]
     },
     "execution_count": 95,
     "metadata": {},
     "output_type": "execute_result"
    }
   ],
   "source": [
    "client.transfer_isolated_margin_to_spot(asset='BTC', symbol=\"BTCUSDT\", amount=bamt)"
   ]
  },
  {
   "cell_type": "markdown",
   "id": "2deffb4f-ccd5-4a99-814b-e74f56cd8055",
   "metadata": {},
   "source": [
    "## Analysis"
   ]
  },
  {
   "cell_type": "code",
   "execution_count": 104,
   "id": "02cf7827-a5d8-4c01-a681-9fdbc089983d",
   "metadata": {},
   "outputs": [
    {
     "data": {
      "text/plain": [
       "{'symbol': 'BTCUSDT',\n",
       " 'orderId': 8428295625,\n",
       " 'clientOrderId': 'm1E8RsDjRlVwomx2Gt2PRM',\n",
       " 'transactTime': 1638073816614,\n",
       " 'price': '0',\n",
       " 'origQty': '0.00033',\n",
       " 'executedQty': '0.00033',\n",
       " 'cummulativeQuoteQty': '17.85003',\n",
       " 'status': 'FILLED',\n",
       " 'timeInForce': 'GTC',\n",
       " 'type': 'MARKET',\n",
       " 'side': 'SELL',\n",
       " 'isIsolated': True}"
      ]
     },
     "execution_count": 104,
     "metadata": {},
     "output_type": "execute_result"
    }
   ],
   "source": [
    "orders"
   ]
  },
  {
   "cell_type": "code",
   "execution_count": null,
   "id": "c75e79fe-6657-48e2-852e-d67da475965c",
   "metadata": {},
   "outputs": [],
   "source": []
  }
 ],
 "metadata": {
  "kernelspec": {
   "display_name": "Python 3 (ipykernel)",
   "language": "python",
   "name": "python3"
  },
  "language_info": {
   "codemirror_mode": {
    "name": "ipython",
    "version": 3
   },
   "file_extension": ".py",
   "mimetype": "text/x-python",
   "name": "python",
   "nbconvert_exporter": "python",
   "pygments_lexer": "ipython3",
   "version": "3.9.7"
  }
 },
 "nbformat": 4,
 "nbformat_minor": 5
}
