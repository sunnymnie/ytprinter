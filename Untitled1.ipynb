{
 "cells": [
  {
   "cell_type": "markdown",
   "id": "92c80655-ccb4-4816-b726-5a607c60d13a",
   "metadata": {},
   "source": [
    "# Tests"
   ]
  },
  {
   "cell_type": "code",
   "execution_count": 20,
   "id": "5ba5c661-c038-4897-bbbb-d2377908751e",
   "metadata": {},
   "outputs": [],
   "source": [
    "import json\n",
    "import os\n",
    "import random\n",
    "import sys, os, traceback, types"
   ]
  },
  {
   "cell_type": "code",
   "execution_count": 47,
   "id": "0a969b0c-7ebb-4b34-8ce1-3a548743eb75",
   "metadata": {},
   "outputs": [
    {
     "data": {
      "text/plain": [
       "'761e57cd-769a-4cc4-8149-3ae7ae79f44f'"
      ]
     },
     "execution_count": 47,
     "metadata": {},
     "output_type": "execute_result"
    }
   ],
   "source": [
    "import uuid\n",
    "str(uuid.uuid4())"
   ]
  },
  {
   "cell_type": "code",
   "execution_count": 52,
   "id": "c11ef562-bc94-41f2-bcc2-858dccc3b678",
   "metadata": {},
   "outputs": [],
   "source": [
    "import json\n",
    "import os\n",
    "\n",
    "filename = 'test.json'\n",
    "with open(filename, 'r') as f:\n",
    "    data = json.load(f)\n",
    "\n",
    "data['testt'] = [12341234,3241,23534362463,5234415,4]\n",
    "data['id'] = ['dfsd','dfewg','we']\n",
    "\n",
    "with open(filename, 'w') as f:\n",
    "    json.dump(data, f, indent=4)"
   ]
  },
  {
   "cell_type": "code",
   "execution_count": 38,
   "id": "551a5622-d626-4fbd-b71a-002a52ef28c9",
   "metadata": {},
   "outputs": [
    {
     "ename": "SyntaxError",
     "evalue": "invalid syntax (71458399.py, line 3)",
     "output_type": "error",
     "traceback": [
      "\u001b[0;36m  File \u001b[0;32m\"/var/folders/4n/h7p57sb17sn7vtrtjz3m1xhr0000gn/T/ipykernel_2336/71458399.py\"\u001b[0;36m, line \u001b[0;32m3\u001b[0m\n\u001b[0;31m    json.dump({\"hi\":3-}, f, indent=4)\u001b[0m\n\u001b[0m                      ^\u001b[0m\n\u001b[0;31mSyntaxError\u001b[0m\u001b[0;31m:\u001b[0m invalid syntax\n"
     ]
    }
   ],
   "source": [
    "os.remove('strats1.json')\n",
    "with open('strats1.json', 'w') as f:\n",
    "    json.dump({\"hi\":3-}, f, indent=4)"
   ]
  },
  {
   "cell_type": "code",
   "execution_count": 34,
   "id": "af692124-db90-4624-a077-cbb574976793",
   "metadata": {},
   "outputs": [],
   "source": [
    "import strategy"
   ]
  },
  {
   "cell_type": "code",
   "execution_count": 35,
   "id": "3894e18a-00e5-4c96-8f78-2c6264740fab",
   "metadata": {},
   "outputs": [],
   "source": [
    "strategy.save_strat(strats)"
   ]
  },
  {
   "cell_type": "code",
   "execution_count": 30,
   "id": "c03e86c1-246f-4b82-8ad6-16f953ef1684",
   "metadata": {},
   "outputs": [],
   "source": [
    "save_strat(strats)"
   ]
  },
  {
   "cell_type": "code",
   "execution_count": 15,
   "id": "a75a150e-aca4-4748-b83f-10ef89709f07",
   "metadata": {},
   "outputs": [
    {
     "data": {
      "text/plain": [
       "5"
      ]
     },
     "execution_count": 15,
     "metadata": {},
     "output_type": "execute_result"
    }
   ],
   "source": [
    "random.randint(0, 5)"
   ]
  },
  {
   "cell_type": "code",
   "execution_count": 8,
   "id": "7e7f90fe-c66a-4ebb-be33-d76464107b2c",
   "metadata": {},
   "outputs": [],
   "source": [
    "from strategy import *"
   ]
  },
  {
   "cell_type": "code",
   "execution_count": 9,
   "id": "32642ccc-7a82-4be4-9ac7-e0c72475aeb8",
   "metadata": {},
   "outputs": [],
   "source": [
    "a = read_strat()"
   ]
  },
  {
   "cell_type": "code",
   "execution_count": 11,
   "id": "a13d3542-e27f-49de-bd10-7884cb064200",
   "metadata": {},
   "outputs": [
    {
     "ename": "AttributeError",
     "evalue": "'dict' object has no attribute 'close'",
     "output_type": "error",
     "traceback": [
      "\u001b[0;31m---------------------------------------------------------------------------\u001b[0m",
      "\u001b[0;31mAttributeError\u001b[0m                            Traceback (most recent call last)",
      "\u001b[0;32m/var/folders/4n/h7p57sb17sn7vtrtjz3m1xhr0000gn/T/ipykernel_2336/2803436046.py\u001b[0m in \u001b[0;36m<module>\u001b[0;34m\u001b[0m\n\u001b[0;32m----> 1\u001b[0;31m \u001b[0ma\u001b[0m\u001b[0;34m.\u001b[0m\u001b[0mclose\u001b[0m\u001b[0;34m(\u001b[0m\u001b[0;34m)\u001b[0m\u001b[0;34m\u001b[0m\u001b[0;34m\u001b[0m\u001b[0m\n\u001b[0m",
      "\u001b[0;31mAttributeError\u001b[0m: 'dict' object has no attribute 'close'"
     ]
    }
   ],
   "source": [
    "a.close()"
   ]
  },
  {
   "cell_type": "code",
   "execution_count": 16,
   "id": "9950b077-84cb-4ad9-a01a-b4e2f4076beb",
   "metadata": {},
   "outputs": [],
   "source": [
    "def save_strat(strat):\n",
    "    \"\"\"\n",
    "    takes in json of the strat and saves it\n",
    "    \"\"\"\n",
    "    # os.remove(\"test1.json\")\n",
    "    with open(\"delete.json\", 'w') as f:\n",
    "        json.dump(strat, f, indent=4)\n"
   ]
  },
  {
   "cell_type": "code",
   "execution_count": 17,
   "id": "023cf48a-6359-4826-9bae-6cbf368fa009",
   "metadata": {},
   "outputs": [],
   "source": [
    "save_strat(None)"
   ]
  },
  {
   "cell_type": "code",
   "execution_count": 7,
   "id": "2e9d9384-2ab4-425f-a324-2bbc1cb4ef48",
   "metadata": {},
   "outputs": [],
   "source": [
    "import youtube_checker as yt\n",
    "import keys\n",
    "import requests"
   ]
  },
  {
   "cell_type": "code",
   "execution_count": 52,
   "id": "6550feb3-0e25-4e30-af23-3f061e42c278",
   "metadata": {},
   "outputs": [],
   "source": [
    "API = keys.key('youtube', 'api')"
   ]
  },
  {
   "cell_type": "code",
   "execution_count": 53,
   "id": "004e49de-19eb-4fb9-89d1-bec48d7ff5ae",
   "metadata": {},
   "outputs": [],
   "source": [
    "api = API[5]"
   ]
  },
  {
   "cell_type": "code",
   "execution_count": 54,
   "id": "31489465-cb21-4b25-bf94-11e356ea67ea",
   "metadata": {},
   "outputs": [],
   "source": [
    "url = f'https://www.googleapis.com/youtube/v3/playlistItems?playlistId=UUqK_GSMbpiV8spgD3ZGloSw&key={api}&part=snippet&maxResults=1'"
   ]
  },
  {
   "cell_type": "code",
   "execution_count": 55,
   "id": "f8d807a7-92b7-4ffc-a0b1-b391de121fb5",
   "metadata": {},
   "outputs": [
    {
     "data": {
      "text/plain": [
       "['crypto', 'news', 'polygon', 'terra', 'algo', 'massive', 'hacks', 'more']"
      ]
     },
     "execution_count": 55,
     "metadata": {},
     "output_type": "execute_result"
    }
   ],
   "source": [
    "yt.get_latest_video_title(api)"
   ]
  },
  {
   "cell_type": "code",
   "execution_count": 56,
   "id": "a893d993-ccbd-4f68-aa0a-30483faef473",
   "metadata": {},
   "outputs": [],
   "source": [
    "response = requests.get(url)"
   ]
  },
  {
   "cell_type": "code",
   "execution_count": 57,
   "id": "a8d427b9-779f-4adf-ace2-c6f8b29243e4",
   "metadata": {},
   "outputs": [
    {
     "data": {
      "text/plain": [
       "{'kind': 'youtube#playlistItemListResponse',\n",
       " 'etag': 'drmL37SDw-qZSBvX0Er62vqrSKI',\n",
       " 'nextPageToken': 'EAAaBlBUOkNBRQ',\n",
       " 'items': [{'kind': 'youtube#playlistItem',\n",
       "   'etag': 'cisqTHrNHax0Fdvy27TANJg567A',\n",
       "   'id': 'VVVxS19HU01icGlWOHNwZ0QzWkdsb1N3LlhLMnQ0NWZ5Nzl3',\n",
       "   'snippet': {'publishedAt': '2021-12-06T15:39:13Z',\n",
       "    'channelId': 'UCqK_GSMbpiV8spgD3ZGloSw',\n",
       "    'title': 'Crypto News: Polygon, Terra, ALGO, Massive Hacks & More!!',\n",
       "    'description': '📲 Insider Info in my Socials 👉 https://guy.coinbureau.com/socials/\\n🛒 Get The Hottest Crypto Deals 👉 https://guy.coinbureau.com/deals/\\n👕 My Merch Store 👉https://store.coinbureau.com\\n🔥 TOP Crypto TIPS In My Newsletter 👉 https://guy.coinbureau.com/signup/\\n\\n~~~~~\\n\\n📺Essential Videos📺\\n\\nLast Week’s Crypto Review 👉 https://youtu.be/IrFJsQC_fik\\nLatin American Bitcoin Adoption 👉 https://youtu.be/LvtQ11kg-Hs\\nCryptocurrency Custody 101 👉 https://youtu.be/MA2HJ0xew2Q\\nFiat Ponzi Scheme 👉 https://youtu.be/L_f6R0DHNH0\\nSolana Update 👉 https://youtu.be/enAoz-87D7A\\nExchange Tokens 👉 https://youtu.be/TB3SL9VarQ4\\nCrypto.com CRO Analysis 👉 https://youtu.be/b1n5j00GDzI\\nRegulated Cryptocurrency Exchanges 👉 https://youtu.be/CSj8smV63Es\\nRichest People In Crypto 👉 https://youtu.be/ebcW_kq8UEY\\nCompanies Buying Bitcoin 👉 https://youtu.be/ZIOoRnaw9Do\\nCryptocurrency ESG Explained 👉 https://youtu.be/zVxiFEzCp2U\\nGary Gensler Crypto Comments 👉 https://youtu.be/-VWE3dY_jv4\\nStacks STX Potential 👉 https://youtu.be/rmDPFHdE448\\nWho Is Buying USDT 👉 https://youtu.be/_ZDAZYnkugs\\n\\n~~~~~\\n\\n⛓️ 🔗 Useful Links 🔗 ⛓️\\n\\n► El Salvador Buys The Dip: https://cointelegraph.com/news/el-salvador-stacks-150-bitcoin-after-btc-price-crashes-below-50k\\n► Microstrategy Buys The Dip: https://cointelegraph.com/news/microstrategy-purchases-414-4-million-worth-of-bitcoin-with-total-btc-balance-eclipsing-3-5-billion\\n► Bitcoin Backed Loans At Big Banks: https://www.coindesk.com/business/2021/12/02/goldman-sachs-other-wall-street-banks-exploring-bitcoin-backed-loans-sources/\\n► Solana Grayscale Trust: https://www.coindesk.com/business/2021/11/30/grayscale-launches-new-trust-dedicated-to-solana/\\n► Polygon ETP: https://www.coindesk.com/business/2021/12/01/21shares-to-list-europes-first-polygon-etp-in-paris-amsterdam/\\n► Algorand 500 Million Dollar Fund: https://cointelegraph.com/news/borderless-capital-launches-half-billion-dollar-fund-for-algorand-projects\\n► Aave Institutional Platform: https://www.coindesk.com/business/2021/12/03/aaves-push-for-institutional-defi-gets-second-kyc-provider-proposal/\\n► Crypto.com Acquires 2 US Exchanges: https://cointelegraph.com/news/crypto-com-to-acquire-two-us-exchanges-for-derivatives-and-futures-offerings\\n► FTX 1.5B Raise: https://www.coindesk.com/business/2021/12/04/ftx-to-seek-15b-in-new-funding-round-at-32b-valuation-report/\\n► Bitmart Hack: https://cointelegraph.com/news/bitmart-hacked-for-200m-following-ethereum-binance-smart-chain-exploit\\n► Badger DAO Hack: https://cointelegraph.com/news/badgerdao-reportedly-suffers-security-breach-and-loses-10m\\n► Celsius Affected: https://www.coindesk.com/markets/2021/12/03/crypto-lender-celsius-admits-losses-in-120m-badgerdao-hack/\\n► Forbes 30 Under 30 Crypto: https://cointelegraph.com/news/15-crypto-leaders-make-the-cut-for-forbes-30-under-30\\n\\n~~~~~\\n\\n- TIMESTAMPS -\\n0:00 Intro\\n2:18 BTFD on BTC\\n4:03 Bitcoin Loans\\n6:09 Institutional Altcoin Investment \\n8:06 Cryptocurrency Exchanges Exposed \\n9:54 Cryptocurrency Hacks \\n11:46 Forbes 30 Under 30 Ft. Crypto \\n12:59 Jack Dorsey Leaves Twitter \\n15:04 Cryptocurrency vs. Fiat \\n16:43 Weekly Market Forecast \\n19:41 Outro\\n\\n~~~~~\\n\\n📜 Disclaimer 📜\\n\\nThe information contained herein is for informational purposes only. Nothing herein shall be construed to be financial legal or tax advice. The content of this video is solely the opinions of the speaker who is not a licensed financial advisor or registered investment advisor. Trading cryptocurrencies poses considerable risk of loss. The speaker does not guarantee any particular outcome.\\n\\n#Crypto #News #bitcoin #terra #algorand #cryptocurrency',\n",
       "    'thumbnails': {'default': {'url': 'https://i.ytimg.com/vi/XK2t45fy79w/default.jpg',\n",
       "      'width': 120,\n",
       "      'height': 90},\n",
       "     'medium': {'url': 'https://i.ytimg.com/vi/XK2t45fy79w/mqdefault.jpg',\n",
       "      'width': 320,\n",
       "      'height': 180},\n",
       "     'high': {'url': 'https://i.ytimg.com/vi/XK2t45fy79w/hqdefault.jpg',\n",
       "      'width': 480,\n",
       "      'height': 360},\n",
       "     'standard': {'url': 'https://i.ytimg.com/vi/XK2t45fy79w/sddefault.jpg',\n",
       "      'width': 640,\n",
       "      'height': 480},\n",
       "     'maxres': {'url': 'https://i.ytimg.com/vi/XK2t45fy79w/maxresdefault.jpg',\n",
       "      'width': 1280,\n",
       "      'height': 720}},\n",
       "    'channelTitle': 'Coin Bureau',\n",
       "    'playlistId': 'UUqK_GSMbpiV8spgD3ZGloSw',\n",
       "    'position': 0,\n",
       "    'resourceId': {'kind': 'youtube#video', 'videoId': 'XK2t45fy79w'},\n",
       "    'videoOwnerChannelTitle': 'Coin Bureau',\n",
       "    'videoOwnerChannelId': 'UCqK_GSMbpiV8spgD3ZGloSw'}}],\n",
       " 'pageInfo': {'totalResults': 554, 'resultsPerPage': 1}}"
      ]
     },
     "execution_count": 57,
     "metadata": {},
     "output_type": "execute_result"
    }
   ],
   "source": [
    "response.json()"
   ]
  },
  {
   "cell_type": "code",
   "execution_count": 1,
   "id": "e2e8622e-5070-4136-8338-69207c7fc84b",
   "metadata": {},
   "outputs": [],
   "source": [
    "import trader as t\n",
    "import portfolio_manager as pm\n",
    "import binance_helpers as bh\n",
    "client = bh.new_binance_client()"
   ]
  },
  {
   "cell_type": "code",
   "execution_count": 2,
   "id": "995598af-5cba-44b4-bca1-d4ad7a2c65f4",
   "metadata": {},
   "outputs": [],
   "source": [
    "import strategy"
   ]
  },
  {
   "cell_type": "code",
   "execution_count": 3,
   "id": "d7294610-63a8-448f-8343-abe6e42f69b2",
   "metadata": {},
   "outputs": [],
   "source": [
    "strats = strategy.read_strat()"
   ]
  },
  {
   "cell_type": "code",
   "execution_count": 4,
   "id": "cc34cbd3-8fe0-440e-a762-fadbc8373d08",
   "metadata": {},
   "outputs": [
    {
     "name": "stdout",
     "output_type": "stream",
     "text": [
      "Warning: unable to buy 8.297877968976014e-06 ZECUSDT\n",
      "Warning: unable to buy 2.0127673227311046e-05 XMRUSDT\n",
      "Successfully init previous portfolio at 10:24:27\n"
     ]
    }
   ],
   "source": [
    "pm.init_previous_portfolio(strats)"
   ]
  },
  {
   "cell_type": "code",
   "execution_count": 9,
   "id": "379e07b6-2dfc-459a-9903-148d1c76f271",
   "metadata": {},
   "outputs": [
    {
     "ename": "NameError",
     "evalue": "name 'hb' is not defined",
     "output_type": "error",
     "traceback": [
      "\u001b[0;31m---------------------------------------------------------------------------\u001b[0m",
      "\u001b[0;31mNameError\u001b[0m                                 Traceback (most recent call last)",
      "\u001b[0;32m/var/folders/4n/h7p57sb17sn7vtrtjz3m1xhr0000gn/T/ipykernel_1240/1526819908.py\u001b[0m in \u001b[0;36m<module>\u001b[0;34m\u001b[0m\n\u001b[0;32m----> 1\u001b[0;31m \u001b[0mt\u001b[0m\u001b[0;34m.\u001b[0m\u001b[0m_margin_order\u001b[0m\u001b[0;34m(\u001b[0m\u001b[0mclient\u001b[0m\u001b[0;34m,\u001b[0m \u001b[0;34m\"ATOMUSDT\"\u001b[0m\u001b[0;34m,\u001b[0m \u001b[0;34m\"BUY\"\u001b[0m\u001b[0;34m,\u001b[0m \u001b[0;36m0.5421193875420651\u001b[0m\u001b[0;34m,\u001b[0m \u001b[0misolated\u001b[0m\u001b[0;34m=\u001b[0m\u001b[0;34m'FALSE'\u001b[0m\u001b[0;34m)\u001b[0m\u001b[0;34m\u001b[0m\u001b[0;34m\u001b[0m\u001b[0m\n\u001b[0m",
      "\u001b[0;32m~/Documents/Programming/ytprinter/trader.py\u001b[0m in \u001b[0;36m_margin_order\u001b[0;34m(client, pair, side, amt, isolated)\u001b[0m\n\u001b[1;32m    117\u001b[0m     \u001b[0;34m-\u001b[0m \u001b[0misolated\u001b[0m\u001b[0;34m:\u001b[0m \u001b[0mdefault\u001b[0m \u001b[0;34m'FALSE'\u001b[0m\u001b[0;34m,\u001b[0m \u001b[0;34m'TRUE'\u001b[0m \u001b[0;32mfor\u001b[0m \u001b[0misolated\u001b[0m \u001b[0mmargin\u001b[0m\u001b[0;34m.\u001b[0m\u001b[0;34m\u001b[0m\u001b[0;34m\u001b[0m\u001b[0m\n\u001b[1;32m    118\u001b[0m     \"\"\"\n\u001b[0;32m--> 119\u001b[0;31m     \u001b[0mdp\u001b[0m \u001b[0;34m=\u001b[0m \u001b[0mbh\u001b[0m\u001b[0;34m.\u001b[0m\u001b[0mget_decimal_place\u001b[0m\u001b[0;34m(\u001b[0m\u001b[0mclient\u001b[0m\u001b[0;34m,\u001b[0m \u001b[0mpair\u001b[0m\u001b[0;34m)\u001b[0m\u001b[0;34m\u001b[0m\u001b[0;34m\u001b[0m\u001b[0m\n\u001b[0m\u001b[1;32m    120\u001b[0m     \u001b[0mamt\u001b[0m \u001b[0;34m=\u001b[0m \u001b[0mbh\u001b[0m\u001b[0;34m.\u001b[0m\u001b[0mbinance_floor\u001b[0m\u001b[0;34m(\u001b[0m\u001b[0mfloat\u001b[0m\u001b[0;34m(\u001b[0m\u001b[0mamt\u001b[0m\u001b[0;34m)\u001b[0m\u001b[0;34m,\u001b[0m \u001b[0mdp\u001b[0m\u001b[0;34m)\u001b[0m\u001b[0;34m\u001b[0m\u001b[0;34m\u001b[0m\u001b[0m\n\u001b[1;32m    121\u001b[0m     order = client.create_margin_order(\n",
      "\u001b[0;31mNameError\u001b[0m: name 'hb' is not defined"
     ]
    }
   ],
   "source": [
    "t._margin_order(client, \"ATOMUSDT\", \"BUY\", 0.5421193875420651, isolated='FALSE')"
   ]
  },
  {
   "cell_type": "code",
   "execution_count": 5,
   "id": "5667288a-2e80-48e4-9f1f-542342a76f82",
   "metadata": {},
   "outputs": [],
   "source": [
    "strats['long'] = None"
   ]
  },
  {
   "cell_type": "code",
   "execution_count": 6,
   "id": "bd4390eb-136f-48f1-a581-68865c736485",
   "metadata": {},
   "outputs": [],
   "source": [
    "strategy.save_strat(strats)"
   ]
  },
  {
   "cell_type": "code",
   "execution_count": 1,
   "id": "b2284470-4e63-41dc-af23-ab105482cfd2",
   "metadata": {},
   "outputs": [],
   "source": [
    "import printer"
   ]
  },
  {
   "cell_type": "code",
   "execution_count": 3,
   "id": "78449892-534e-4a48-9660-310d9bc43d3a",
   "metadata": {},
   "outputs": [],
   "source": [
    "import portfolio_manager"
   ]
  },
  {
   "cell_type": "code",
   "execution_count": 2,
   "id": "ad759305-cd89-4fe4-af66-89f46d0a71c1",
   "metadata": {},
   "outputs": [
    {
     "name": "stdout",
     "output_type": "stream",
     "text": [
      "Starting printer...\n",
      "Waiting for post...\n",
      "1638686864.9412649\n",
      "New video detected at: 22:47:47\n",
      "1638686867.1666718\n",
      "1638686869.2962189\n",
      "1638686871.529053\n",
      "1638686873.6687622\n",
      "1638686875.8079581\n",
      "1638686877.945906\n",
      "1638686880.078193\n",
      "1638686882.242711\n",
      "1638686884.4684732\n",
      "1638686886.581894\n",
      "1638686888.708282\n",
      "1638686890.8394392\n",
      "1638686893.085139\n",
      "1638686895.220119\n"
     ]
    },
    {
     "name": "stderr",
     "output_type": "stream",
     "text": [
      "ERROR:root:Internal Python error in the inspect module.\n",
      "Below is the traceback from this internal error.\n",
      "\n"
     ]
    },
    {
     "name": "stdout",
     "output_type": "stream",
     "text": [
      "Traceback (most recent call last):\n",
      "  File \"/Users/SunnyNie/Documents/Programming/ytprinter/env/lib/python3.9/site-packages/IPython/core/interactiveshell.py\", line 3444, in run_code\n",
      "    exec(code_obj, self.user_global_ns, self.user_ns)\n",
      "  File \"/var/folders/4n/h7p57sb17sn7vtrtjz3m1xhr0000gn/T/ipykernel_18928/532216932.py\", line 1, in <module>\n",
      "    printer.main()\n",
      "  File \"/Users/SunnyNie/Documents/Programming/ytprinter/printer.py\", line 12, in main\n",
      "    strats = yc.await_for_post(strats)\n",
      "  File \"/Users/SunnyNie/Documents/Programming/ytprinter/youtube_checker.py\", line 28, in await_for_post\n",
      "    time.sleep(interval)\n",
      "KeyboardInterrupt\n",
      "\n",
      "During handling of the above exception, another exception occurred:\n",
      "\n",
      "Traceback (most recent call last):\n",
      "  File \"/Users/SunnyNie/Documents/Programming/ytprinter/env/lib/python3.9/site-packages/IPython/core/interactiveshell.py\", line 2064, in showtraceback\n",
      "    stb = value._render_traceback_()\n",
      "AttributeError: 'KeyboardInterrupt' object has no attribute '_render_traceback_'\n",
      "\n",
      "During handling of the above exception, another exception occurred:\n",
      "\n",
      "Traceback (most recent call last):\n",
      "  File \"/Users/SunnyNie/Documents/Programming/ytprinter/env/lib/python3.9/site-packages/IPython/core/ultratb.py\", line 1101, in get_records\n",
      "    return _fixed_getinnerframes(etb, number_of_lines_of_context, tb_offset)\n",
      "  File \"/Users/SunnyNie/Documents/Programming/ytprinter/env/lib/python3.9/site-packages/IPython/core/ultratb.py\", line 248, in wrapped\n",
      "    return f(*args, **kwargs)\n",
      "  File \"/Users/SunnyNie/Documents/Programming/ytprinter/env/lib/python3.9/site-packages/IPython/core/ultratb.py\", line 281, in _fixed_getinnerframes\n",
      "    records = fix_frame_records_filenames(inspect.getinnerframes(etb, context))\n",
      "  File \"/Users/SunnyNie/Documents/Programming/ytprinter/env/lib/python3.9/inspect.py\", line 1541, in getinnerframes\n",
      "    frameinfo = (tb.tb_frame,) + getframeinfo(tb, context)\n",
      "  File \"/Users/SunnyNie/Documents/Programming/ytprinter/env/lib/python3.9/inspect.py\", line 1499, in getframeinfo\n",
      "    filename = getsourcefile(frame) or getfile(frame)\n",
      "  File \"/Users/SunnyNie/Documents/Programming/ytprinter/env/lib/python3.9/inspect.py\", line 709, in getsourcefile\n",
      "    if getattr(getmodule(object, filename), '__loader__', None) is not None:\n",
      "  File \"/Users/SunnyNie/Documents/Programming/ytprinter/env/lib/python3.9/inspect.py\", line 755, in getmodule\n",
      "    os.path.realpath(f)] = module.__name__\n",
      "  File \"/Users/SunnyNie/Documents/Programming/ytprinter/env/lib/python3.9/posixpath.py\", line 392, in realpath\n",
      "    path, ok = _joinrealpath(filename[:0], filename, {})\n",
      "  File \"/Users/SunnyNie/Documents/Programming/ytprinter/env/lib/python3.9/posixpath.py\", line 425, in _joinrealpath\n",
      "    newpath = join(path, name)\n",
      "  File \"/Users/SunnyNie/Documents/Programming/ytprinter/env/lib/python3.9/posixpath.py\", line 76, in join\n",
      "    a = os.fspath(a)\n",
      "KeyboardInterrupt\n"
     ]
    },
    {
     "ename": "TypeError",
     "evalue": "object of type 'NoneType' has no len()",
     "output_type": "error",
     "traceback": [
      "\u001b[0;31m---------------------------------------------------------------------------\u001b[0m",
      "\u001b[0;31mKeyboardInterrupt\u001b[0m                         Traceback (most recent call last)",
      "    \u001b[0;31m[... skipping hidden 1 frame]\u001b[0m\n",
      "\u001b[0;32m/var/folders/4n/h7p57sb17sn7vtrtjz3m1xhr0000gn/T/ipykernel_18928/532216932.py\u001b[0m in \u001b[0;36m<module>\u001b[0;34m\u001b[0m\n\u001b[0;32m----> 1\u001b[0;31m \u001b[0mprinter\u001b[0m\u001b[0;34m.\u001b[0m\u001b[0mmain\u001b[0m\u001b[0;34m(\u001b[0m\u001b[0;34m)\u001b[0m\u001b[0;34m\u001b[0m\u001b[0;34m\u001b[0m\u001b[0m\n\u001b[0m",
      "\u001b[0;32m~/Documents/Programming/ytprinter/printer.py\u001b[0m in \u001b[0;36mmain\u001b[0;34m()\u001b[0m\n\u001b[1;32m     11\u001b[0m         \u001b[0mprint\u001b[0m\u001b[0;34m(\u001b[0m\u001b[0;34m\"Waiting for post...\"\u001b[0m\u001b[0;34m)\u001b[0m\u001b[0;34m\u001b[0m\u001b[0;34m\u001b[0m\u001b[0m\n\u001b[0;32m---> 12\u001b[0;31m         \u001b[0mstrats\u001b[0m \u001b[0;34m=\u001b[0m \u001b[0myc\u001b[0m\u001b[0;34m.\u001b[0m\u001b[0mawait_for_post\u001b[0m\u001b[0;34m(\u001b[0m\u001b[0mstrats\u001b[0m\u001b[0;34m)\u001b[0m\u001b[0;34m\u001b[0m\u001b[0;34m\u001b[0m\u001b[0m\n\u001b[0m\u001b[1;32m     13\u001b[0m         \u001b[0mprint\u001b[0m\u001b[0;34m(\u001b[0m\u001b[0;34mf\"Now trading {strats['long']}...\"\u001b[0m\u001b[0;34m)\u001b[0m\u001b[0;34m\u001b[0m\u001b[0;34m\u001b[0m\u001b[0m\n",
      "\u001b[0;32m~/Documents/Programming/ytprinter/youtube_checker.py\u001b[0m in \u001b[0;36mawait_for_post\u001b[0;34m(strats)\u001b[0m\n\u001b[1;32m     27\u001b[0m         \u001b[0;32melse\u001b[0m\u001b[0;34m:\u001b[0m \u001b[0minterval\u001b[0m \u001b[0;34m=\u001b[0m \u001b[0;36m2\u001b[0m\u001b[0;34m\u001b[0m\u001b[0;34m\u001b[0m\u001b[0m\n\u001b[0;32m---> 28\u001b[0;31m         \u001b[0mtime\u001b[0m\u001b[0;34m.\u001b[0m\u001b[0msleep\u001b[0m\u001b[0;34m(\u001b[0m\u001b[0minterval\u001b[0m\u001b[0;34m)\u001b[0m\u001b[0;34m\u001b[0m\u001b[0;34m\u001b[0m\u001b[0m\n\u001b[0m\u001b[1;32m     29\u001b[0m         \u001b[0mapi\u001b[0m \u001b[0;34m=\u001b[0m \u001b[0mget_api\u001b[0m\u001b[0;34m(\u001b[0m\u001b[0mstrats\u001b[0m\u001b[0;34m)\u001b[0m\u001b[0;34m\u001b[0m\u001b[0;34m\u001b[0m\u001b[0m\n",
      "\u001b[0;31mKeyboardInterrupt\u001b[0m: ",
      "\nDuring handling of the above exception, another exception occurred:\n",
      "\u001b[0;31mAttributeError\u001b[0m                            Traceback (most recent call last)",
      "\u001b[0;32m~/Documents/Programming/ytprinter/env/lib/python3.9/site-packages/IPython/core/interactiveshell.py\u001b[0m in \u001b[0;36mshowtraceback\u001b[0;34m(self, exc_tuple, filename, tb_offset, exception_only, running_compiled_code)\u001b[0m\n\u001b[1;32m   2063\u001b[0m                         \u001b[0;31m# in the engines. This should return a list of strings.\u001b[0m\u001b[0;34m\u001b[0m\u001b[0;34m\u001b[0m\u001b[0m\n\u001b[0;32m-> 2064\u001b[0;31m                         \u001b[0mstb\u001b[0m \u001b[0;34m=\u001b[0m \u001b[0mvalue\u001b[0m\u001b[0;34m.\u001b[0m\u001b[0m_render_traceback_\u001b[0m\u001b[0;34m(\u001b[0m\u001b[0;34m)\u001b[0m\u001b[0;34m\u001b[0m\u001b[0;34m\u001b[0m\u001b[0m\n\u001b[0m\u001b[1;32m   2065\u001b[0m                     \u001b[0;32mexcept\u001b[0m \u001b[0mException\u001b[0m\u001b[0;34m:\u001b[0m\u001b[0;34m\u001b[0m\u001b[0;34m\u001b[0m\u001b[0m\n",
      "\u001b[0;31mAttributeError\u001b[0m: 'KeyboardInterrupt' object has no attribute '_render_traceback_'",
      "\nDuring handling of the above exception, another exception occurred:\n",
      "\u001b[0;31mTypeError\u001b[0m                                 Traceback (most recent call last)",
      "    \u001b[0;31m[... skipping hidden 1 frame]\u001b[0m\n",
      "\u001b[0;32m~/Documents/Programming/ytprinter/env/lib/python3.9/site-packages/IPython/core/interactiveshell.py\u001b[0m in \u001b[0;36mshowtraceback\u001b[0;34m(self, exc_tuple, filename, tb_offset, exception_only, running_compiled_code)\u001b[0m\n\u001b[1;32m   2064\u001b[0m                         \u001b[0mstb\u001b[0m \u001b[0;34m=\u001b[0m \u001b[0mvalue\u001b[0m\u001b[0;34m.\u001b[0m\u001b[0m_render_traceback_\u001b[0m\u001b[0;34m(\u001b[0m\u001b[0;34m)\u001b[0m\u001b[0;34m\u001b[0m\u001b[0;34m\u001b[0m\u001b[0m\n\u001b[1;32m   2065\u001b[0m                     \u001b[0;32mexcept\u001b[0m \u001b[0mException\u001b[0m\u001b[0;34m:\u001b[0m\u001b[0;34m\u001b[0m\u001b[0;34m\u001b[0m\u001b[0m\n\u001b[0;32m-> 2066\u001b[0;31m                         stb = self.InteractiveTB.structured_traceback(etype,\n\u001b[0m\u001b[1;32m   2067\u001b[0m                                             value, tb, tb_offset=tb_offset)\n\u001b[1;32m   2068\u001b[0m \u001b[0;34m\u001b[0m\u001b[0m\n",
      "\u001b[0;32m~/Documents/Programming/ytprinter/env/lib/python3.9/site-packages/IPython/core/ultratb.py\u001b[0m in \u001b[0;36mstructured_traceback\u001b[0;34m(self, etype, value, tb, tb_offset, number_of_lines_of_context)\u001b[0m\n\u001b[1;32m   1365\u001b[0m         \u001b[0;32melse\u001b[0m\u001b[0;34m:\u001b[0m\u001b[0;34m\u001b[0m\u001b[0;34m\u001b[0m\u001b[0m\n\u001b[1;32m   1366\u001b[0m             \u001b[0mself\u001b[0m\u001b[0;34m.\u001b[0m\u001b[0mtb\u001b[0m \u001b[0;34m=\u001b[0m \u001b[0mtb\u001b[0m\u001b[0;34m\u001b[0m\u001b[0;34m\u001b[0m\u001b[0m\n\u001b[0;32m-> 1367\u001b[0;31m         return FormattedTB.structured_traceback(\n\u001b[0m\u001b[1;32m   1368\u001b[0m             self, etype, value, tb, tb_offset, number_of_lines_of_context)\n\u001b[1;32m   1369\u001b[0m \u001b[0;34m\u001b[0m\u001b[0m\n",
      "\u001b[0;32m~/Documents/Programming/ytprinter/env/lib/python3.9/site-packages/IPython/core/ultratb.py\u001b[0m in \u001b[0;36mstructured_traceback\u001b[0;34m(self, etype, value, tb, tb_offset, number_of_lines_of_context)\u001b[0m\n\u001b[1;32m   1265\u001b[0m         \u001b[0;32mif\u001b[0m \u001b[0mmode\u001b[0m \u001b[0;32min\u001b[0m \u001b[0mself\u001b[0m\u001b[0;34m.\u001b[0m\u001b[0mverbose_modes\u001b[0m\u001b[0;34m:\u001b[0m\u001b[0;34m\u001b[0m\u001b[0;34m\u001b[0m\u001b[0m\n\u001b[1;32m   1266\u001b[0m             \u001b[0;31m# Verbose modes need a full traceback\u001b[0m\u001b[0;34m\u001b[0m\u001b[0;34m\u001b[0m\u001b[0m\n\u001b[0;32m-> 1267\u001b[0;31m             return VerboseTB.structured_traceback(\n\u001b[0m\u001b[1;32m   1268\u001b[0m                 \u001b[0mself\u001b[0m\u001b[0;34m,\u001b[0m \u001b[0metype\u001b[0m\u001b[0;34m,\u001b[0m \u001b[0mvalue\u001b[0m\u001b[0;34m,\u001b[0m \u001b[0mtb\u001b[0m\u001b[0;34m,\u001b[0m \u001b[0mtb_offset\u001b[0m\u001b[0;34m,\u001b[0m \u001b[0mnumber_of_lines_of_context\u001b[0m\u001b[0;34m\u001b[0m\u001b[0;34m\u001b[0m\u001b[0m\n\u001b[1;32m   1269\u001b[0m             )\n",
      "\u001b[0;32m~/Documents/Programming/ytprinter/env/lib/python3.9/site-packages/IPython/core/ultratb.py\u001b[0m in \u001b[0;36mstructured_traceback\u001b[0;34m(self, etype, evalue, etb, tb_offset, number_of_lines_of_context)\u001b[0m\n\u001b[1;32m   1122\u001b[0m         \u001b[0;34m\"\"\"Return a nice text document describing the traceback.\"\"\"\u001b[0m\u001b[0;34m\u001b[0m\u001b[0;34m\u001b[0m\u001b[0m\n\u001b[1;32m   1123\u001b[0m \u001b[0;34m\u001b[0m\u001b[0m\n\u001b[0;32m-> 1124\u001b[0;31m         formatted_exception = self.format_exception_as_a_whole(etype, evalue, etb, number_of_lines_of_context,\n\u001b[0m\u001b[1;32m   1125\u001b[0m                                                                tb_offset)\n\u001b[1;32m   1126\u001b[0m \u001b[0;34m\u001b[0m\u001b[0m\n",
      "\u001b[0;32m~/Documents/Programming/ytprinter/env/lib/python3.9/site-packages/IPython/core/ultratb.py\u001b[0m in \u001b[0;36mformat_exception_as_a_whole\u001b[0;34m(self, etype, evalue, etb, number_of_lines_of_context, tb_offset)\u001b[0m\n\u001b[1;32m   1080\u001b[0m \u001b[0;34m\u001b[0m\u001b[0m\n\u001b[1;32m   1081\u001b[0m \u001b[0;34m\u001b[0m\u001b[0m\n\u001b[0;32m-> 1082\u001b[0;31m         \u001b[0mlast_unique\u001b[0m\u001b[0;34m,\u001b[0m \u001b[0mrecursion_repeat\u001b[0m \u001b[0;34m=\u001b[0m \u001b[0mfind_recursion\u001b[0m\u001b[0;34m(\u001b[0m\u001b[0morig_etype\u001b[0m\u001b[0;34m,\u001b[0m \u001b[0mevalue\u001b[0m\u001b[0;34m,\u001b[0m \u001b[0mrecords\u001b[0m\u001b[0;34m)\u001b[0m\u001b[0;34m\u001b[0m\u001b[0;34m\u001b[0m\u001b[0m\n\u001b[0m\u001b[1;32m   1083\u001b[0m \u001b[0;34m\u001b[0m\u001b[0m\n\u001b[1;32m   1084\u001b[0m         \u001b[0mframes\u001b[0m \u001b[0;34m=\u001b[0m \u001b[0mself\u001b[0m\u001b[0;34m.\u001b[0m\u001b[0mformat_records\u001b[0m\u001b[0;34m(\u001b[0m\u001b[0mrecords\u001b[0m\u001b[0;34m,\u001b[0m \u001b[0mlast_unique\u001b[0m\u001b[0;34m,\u001b[0m \u001b[0mrecursion_repeat\u001b[0m\u001b[0;34m)\u001b[0m\u001b[0;34m\u001b[0m\u001b[0;34m\u001b[0m\u001b[0m\n",
      "\u001b[0;32m~/Documents/Programming/ytprinter/env/lib/python3.9/site-packages/IPython/core/ultratb.py\u001b[0m in \u001b[0;36mfind_recursion\u001b[0;34m(etype, value, records)\u001b[0m\n\u001b[1;32m    380\u001b[0m     \u001b[0;31m# first frame (from in to out) that looks different.\u001b[0m\u001b[0;34m\u001b[0m\u001b[0;34m\u001b[0m\u001b[0m\n\u001b[1;32m    381\u001b[0m     \u001b[0;32mif\u001b[0m \u001b[0;32mnot\u001b[0m \u001b[0mis_recursion_error\u001b[0m\u001b[0;34m(\u001b[0m\u001b[0metype\u001b[0m\u001b[0;34m,\u001b[0m \u001b[0mvalue\u001b[0m\u001b[0;34m,\u001b[0m \u001b[0mrecords\u001b[0m\u001b[0;34m)\u001b[0m\u001b[0;34m:\u001b[0m\u001b[0;34m\u001b[0m\u001b[0;34m\u001b[0m\u001b[0m\n\u001b[0;32m--> 382\u001b[0;31m         \u001b[0;32mreturn\u001b[0m \u001b[0mlen\u001b[0m\u001b[0;34m(\u001b[0m\u001b[0mrecords\u001b[0m\u001b[0;34m)\u001b[0m\u001b[0;34m,\u001b[0m \u001b[0;36m0\u001b[0m\u001b[0;34m\u001b[0m\u001b[0;34m\u001b[0m\u001b[0m\n\u001b[0m\u001b[1;32m    383\u001b[0m \u001b[0;34m\u001b[0m\u001b[0m\n\u001b[1;32m    384\u001b[0m     \u001b[0;31m# Select filename, lineno, func_name to track frames with\u001b[0m\u001b[0;34m\u001b[0m\u001b[0;34m\u001b[0m\u001b[0m\n",
      "\u001b[0;31mTypeError\u001b[0m: object of type 'NoneType' has no len()"
     ]
    }
   ],
   "source": [
    "printer.main()"
   ]
  },
  {
   "cell_type": "code",
   "execution_count": 9,
   "id": "f0faa16d-7a32-4d8d-a6c0-a071fc707443",
   "metadata": {},
   "outputs": [],
   "source": [
    "import random"
   ]
  },
  {
   "cell_type": "code",
   "execution_count": 18,
   "id": "aa6e3b86-d457-4388-89fa-02dd85e3c5be",
   "metadata": {},
   "outputs": [
    {
     "data": {
      "text/plain": [
       "[9133, 8973, 9029, 8547, 8876]"
      ]
     },
     "execution_count": 18,
     "metadata": {},
     "output_type": "execute_result"
    }
   ],
   "source": [
    "randomlist = random.sample(range(8500, 9500), 5)\n",
    "randomlist"
   ]
  },
  {
   "cell_type": "code",
   "execution_count": 43,
   "id": "0590b6d3-59f3-41c1-b624-889802cd3e7a",
   "metadata": {},
   "outputs": [],
   "source": [
    "l = []"
   ]
  },
  {
   "cell_type": "code",
   "execution_count": 44,
   "id": "675116ac-532d-4d25-8695-6125d22980ce",
   "metadata": {},
   "outputs": [
    {
     "data": {
      "text/plain": [
       "-1"
      ]
     },
     "execution_count": 44,
     "metadata": {},
     "output_type": "execute_result"
    }
   ],
   "source": [
    "next((i for i, x in enumerate(l) if x), -1) # x!= 0 for strict match\n"
   ]
  },
  {
   "cell_type": "code",
   "execution_count": null,
   "id": "ac936cb2-7e78-436b-a289-87760b8f44b6",
   "metadata": {},
   "outputs": [
    {
     "name": "stdout",
     "output_type": "stream",
     "text": [
      "Starting printer...\n",
      "Waiting for post...\n",
      "New video detected at: 21:38:59\n",
      "Error in checking YT with api [2] at time 21:39:01\n",
      "Error in checking YT with api [3] at time 21:39:02\n",
      "Error in checking YT with api [4] at time 21:39:03\n",
      "Error in checking YT with api [5] at time 21:39:04\n",
      "Error in checking YT with api [6] at time 21:39:06\n",
      "Error in checking YT with api [7] at time 21:39:07\n",
      "Error in checking YT with api [2] at time 21:39:15\n",
      "Error in checking YT with api [3] at time 21:39:16\n",
      "Error in checking YT with api [4] at time 21:39:17\n",
      "Error in checking YT with api [5] at time 21:39:18\n",
      "Error in checking YT with api [6] at time 21:39:20\n",
      "Error in checking YT with api [7] at time 21:39:21\n",
      "Error in checking YT with api [2] at time 21:39:29\n",
      "Error in checking YT with api [3] at time 21:39:30\n",
      "Error in checking YT with api [4] at time 21:39:31\n",
      "Error in checking YT with api [5] at time 21:39:32\n",
      "Error in checking YT with api [6] at time 21:39:33\n",
      "Error in checking YT with api [7] at time 21:39:34\n",
      "Error in checking YT with api [2] at time 21:39:43\n",
      "Error in checking YT with api [3] at time 21:39:44\n",
      "Error in checking YT with api [4] at time 21:39:45\n",
      "Error in checking YT with api [5] at time 21:39:46\n",
      "Error in checking YT with api [6] at time 21:39:47\n"
     ]
    },
    {
     "ename": "KeyboardInterrupt",
     "evalue": "",
     "output_type": "error",
     "traceback": [
      "\u001b[0;31m---------------------------------------------------------------------------\u001b[0m",
      "\u001b[0;31mKeyboardInterrupt\u001b[0m                         Traceback (most recent call last)",
      "\u001b[0;32m/var/folders/4n/h7p57sb17sn7vtrtjz3m1xhr0000gn/T/ipykernel_16887/532216932.py\u001b[0m in \u001b[0;36m<module>\u001b[0;34m\u001b[0m\n\u001b[0;32m----> 1\u001b[0;31m \u001b[0mprinter\u001b[0m\u001b[0;34m.\u001b[0m\u001b[0mmain\u001b[0m\u001b[0;34m(\u001b[0m\u001b[0;34m)\u001b[0m\u001b[0;34m\u001b[0m\u001b[0;34m\u001b[0m\u001b[0m\n\u001b[0m",
      "\u001b[0;32m~/Documents/Programming/ytprinter/printer.py\u001b[0m in \u001b[0;36mmain\u001b[0;34m()\u001b[0m\n\u001b[1;32m     10\u001b[0m     \u001b[0;32mwhile\u001b[0m \u001b[0mstrats\u001b[0m\u001b[0;34m[\u001b[0m\u001b[0;34m\"finished\"\u001b[0m\u001b[0;34m]\u001b[0m \u001b[0;34m==\u001b[0m \u001b[0;36m0\u001b[0m\u001b[0;34m:\u001b[0m\u001b[0;34m\u001b[0m\u001b[0;34m\u001b[0m\u001b[0m\n\u001b[1;32m     11\u001b[0m         \u001b[0mprint\u001b[0m\u001b[0;34m(\u001b[0m\u001b[0;34m\"Waiting for post...\"\u001b[0m\u001b[0;34m)\u001b[0m\u001b[0;34m\u001b[0m\u001b[0;34m\u001b[0m\u001b[0m\n\u001b[0;32m---> 12\u001b[0;31m         \u001b[0mstrats\u001b[0m \u001b[0;34m=\u001b[0m \u001b[0myc\u001b[0m\u001b[0;34m.\u001b[0m\u001b[0mawait_for_post\u001b[0m\u001b[0;34m(\u001b[0m\u001b[0mstrats\u001b[0m\u001b[0;34m)\u001b[0m\u001b[0;34m\u001b[0m\u001b[0;34m\u001b[0m\u001b[0m\n\u001b[0m\u001b[1;32m     13\u001b[0m         \u001b[0mprint\u001b[0m\u001b[0;34m(\u001b[0m\u001b[0;34mf\"Now trading {strats['long']}...\"\u001b[0m\u001b[0;34m)\u001b[0m\u001b[0;34m\u001b[0m\u001b[0;34m\u001b[0m\u001b[0m\n\u001b[1;32m     14\u001b[0m         \u001b[0;31m# strats = trader.trade(strats)\u001b[0m\u001b[0;34m\u001b[0m\u001b[0;34m\u001b[0m\u001b[0m\n",
      "\u001b[0;32m~/Documents/Programming/ytprinter/youtube_checker.py\u001b[0m in \u001b[0;36mawait_for_post\u001b[0;34m(strats)\u001b[0m\n\u001b[1;32m     24\u001b[0m         \u001b[0;32melif\u001b[0m \u001b[0;34m(\u001b[0m\u001b[0mhour\u001b[0m \u001b[0;34m>=\u001b[0m \u001b[0;36m14\u001b[0m \u001b[0;32mand\u001b[0m \u001b[0mhour\u001b[0m \u001b[0;34m<\u001b[0m\u001b[0;36m20\u001b[0m\u001b[0;34m)\u001b[0m\u001b[0;34m:\u001b[0m \u001b[0minterval\u001b[0m\u001b[0;34m=\u001b[0m\u001b[0;36m0.5\u001b[0m\u001b[0;34m\u001b[0m\u001b[0;34m\u001b[0m\u001b[0m\n\u001b[1;32m     25\u001b[0m         \u001b[0;32melse\u001b[0m\u001b[0;34m:\u001b[0m \u001b[0minterval\u001b[0m \u001b[0;34m=\u001b[0m \u001b[0;36m1\u001b[0m\u001b[0;34m\u001b[0m\u001b[0;34m\u001b[0m\u001b[0m\n\u001b[0;32m---> 26\u001b[0;31m         \u001b[0mtime\u001b[0m\u001b[0;34m.\u001b[0m\u001b[0msleep\u001b[0m\u001b[0;34m(\u001b[0m\u001b[0minterval\u001b[0m\u001b[0;34m)\u001b[0m\u001b[0;34m\u001b[0m\u001b[0;34m\u001b[0m\u001b[0m\n\u001b[0m\u001b[1;32m     27\u001b[0m         \u001b[0mi\u001b[0m \u001b[0;34m=\u001b[0m \u001b[0mi\u001b[0m\u001b[0;34m+\u001b[0m\u001b[0;36m1\u001b[0m \u001b[0;32mif\u001b[0m \u001b[0mi\u001b[0m\u001b[0;34m+\u001b[0m\u001b[0;36m1\u001b[0m\u001b[0;34m<\u001b[0m\u001b[0mlen\u001b[0m\u001b[0;34m(\u001b[0m\u001b[0mAPI\u001b[0m\u001b[0;34m)\u001b[0m \u001b[0;32melse\u001b[0m \u001b[0;36m0\u001b[0m\u001b[0;34m\u001b[0m\u001b[0;34m\u001b[0m\u001b[0m\n\u001b[1;32m     28\u001b[0m         \u001b[0;32mtry\u001b[0m\u001b[0;34m:\u001b[0m \u001b[0mstrats\u001b[0m \u001b[0;34m=\u001b[0m \u001b[0mcheck_post\u001b[0m\u001b[0;34m(\u001b[0m\u001b[0mstrats\u001b[0m\u001b[0;34m,\u001b[0m \u001b[0mAPI\u001b[0m\u001b[0;34m[\u001b[0m\u001b[0mi\u001b[0m\u001b[0;34m]\u001b[0m\u001b[0;34m)\u001b[0m\u001b[0;34m\u001b[0m\u001b[0;34m\u001b[0m\u001b[0m\n",
      "\u001b[0;31mKeyboardInterrupt\u001b[0m: "
     ]
    }
   ],
   "source": [
    "printer.main()"
   ]
  },
  {
   "cell_type": "code",
   "execution_count": null,
   "id": "2023fe66-a70c-4cd8-8aad-2b9cd834c486",
   "metadata": {},
   "outputs": [],
   "source": [
    "def await_for_post(strats = None):\n",
    "    \"\"\"\n",
    "    polling check for when Coin Bureau releases a video. Updates strats.json and ends as soon as video is published\n",
    "    interval is sleep time between polling check\n",
    "    \"\"\"\n",
    "    if strats==None: strats = read_strat()\n",
    "    i = -1 #index for api accessing, looping through apis\n",
    "    while strats['long'] == None:\n",
    "        hour = datetime.datetime.now(datetime.timezone(datetime.timedelta(0))).hour\n",
    "        if (hour==15 or hour == 16): interval = 0.3\n",
    "        elif (hour >= 14 and hour <20): interval=0.5\n",
    "        else: interval = 1\n",
    "        time.sleep(interval)\n",
    "        i = i+1 if i+1<len(API) else 0\n",
    "        try: strats = check_post(strats, API[i])\n",
    "        except: print(f\"Error in checking YT with api [{i}] at time {get_current_time()}\")\n",
    "    return strats\n"
   ]
  },
  {
   "cell_type": "code",
   "execution_count": 2,
   "id": "2c93fe29-efd0-478e-85bf-7fd7e42e0747",
   "metadata": {},
   "outputs": [],
   "source": [
    "import youtube_checker as yc\n",
    "import keys\n",
    "import requests"
   ]
  },
  {
   "cell_type": "code",
   "execution_count": 3,
   "id": "2f0c88c9-37f7-492b-a550-04441ea33f1f",
   "metadata": {},
   "outputs": [],
   "source": [
    "API = keys.key('youtube', 'api')"
   ]
  },
  {
   "cell_type": "code",
   "execution_count": 5,
   "id": "d36f76bb-b034-4835-8b37-59b1307f86aa",
   "metadata": {},
   "outputs": [
    {
     "ename": "IndexError",
     "evalue": "list index out of range",
     "output_type": "error",
     "traceback": [
      "\u001b[0;31m---------------------------------------------------------------------------\u001b[0m",
      "\u001b[0;31mIndexError\u001b[0m                                Traceback (most recent call last)",
      "\u001b[0;32m/var/folders/4n/h7p57sb17sn7vtrtjz3m1xhr0000gn/T/ipykernel_18083/1184707436.py\u001b[0m in \u001b[0;36m<module>\u001b[0;34m\u001b[0m\n\u001b[0;32m----> 1\u001b[0;31m \u001b[0mapi\u001b[0m \u001b[0;34m=\u001b[0m \u001b[0mAPI\u001b[0m\u001b[0;34m[\u001b[0m\u001b[0;36m12\u001b[0m\u001b[0;34m]\u001b[0m\u001b[0;34m\u001b[0m\u001b[0;34m\u001b[0m\u001b[0m\n\u001b[0m",
      "\u001b[0;31mIndexError\u001b[0m: list index out of range"
     ]
    }
   ],
   "source": [
    "api = API[12]"
   ]
  },
  {
   "cell_type": "code",
   "execution_count": 23,
   "id": "bcb5e328-8fad-4706-a722-77eabd9ad801",
   "metadata": {},
   "outputs": [],
   "source": [
    "url = f'https://www.googleapis.com/youtube/v3/playlistItems?playlistId=UUqK_GSMbpiV8spgD3ZGloSw&key={api}&part=snippet&maxResults=1'"
   ]
  },
  {
   "cell_type": "code",
   "execution_count": 24,
   "id": "e33099b0-178d-4c12-9422-63aa6085154d",
   "metadata": {},
   "outputs": [],
   "source": [
    "response = requests.get(url)"
   ]
  },
  {
   "cell_type": "code",
   "execution_count": 27,
   "id": "508145df-f7a8-4631-a50c-cfe6f5be51b9",
   "metadata": {},
   "outputs": [
    {
     "data": {
      "text/plain": [
       "{'error': {'code': 403,\n",
       "  'message': 'The request cannot be completed because you have exceeded your <a href=\"/youtube/v3/getting-started#quota\">quota</a>.',\n",
       "  'errors': [{'message': 'The request cannot be completed because you have exceeded your <a href=\"/youtube/v3/getting-started#quota\">quota</a>.',\n",
       "    'domain': 'youtube.quota',\n",
       "    'reason': 'quotaExceeded'}]}}"
      ]
     },
     "execution_count": 27,
     "metadata": {},
     "output_type": "execute_result"
    }
   ],
   "source": [
    "response.json()"
   ]
  },
  {
   "cell_type": "code",
   "execution_count": null,
   "id": "851cdd15-960d-47f9-93d8-f208cdf23983",
   "metadata": {},
   "outputs": [],
   "source": []
  }
 ],
 "metadata": {
  "kernelspec": {
   "display_name": "Python 3 (ipykernel)",
   "language": "python",
   "name": "python3"
  },
  "language_info": {
   "codemirror_mode": {
    "name": "ipython",
    "version": 3
   },
   "file_extension": ".py",
   "mimetype": "text/x-python",
   "name": "python",
   "nbconvert_exporter": "python",
   "pygments_lexer": "ipython3",
   "version": "3.9.7"
  }
 },
 "nbformat": 4,
 "nbformat_minor": 5
}
