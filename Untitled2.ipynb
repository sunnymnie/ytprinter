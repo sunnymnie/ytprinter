{
 "cells": [
  {
   "cell_type": "markdown",
   "id": "69d234bd-1f4a-4c02-9877-e305ad3ba7d3",
   "metadata": {},
   "source": [
    "# CM TEsts"
   ]
  },
  {
   "cell_type": "code",
   "execution_count": 129,
   "id": "51824746-bb4d-47d1-abf4-751d839e496e",
   "metadata": {},
   "outputs": [
    {
     "data": {
      "text/plain": [
       "<module 'trader' from '/Users/SunnyNie/Documents/Programming/ytprinter/trader.py'>"
      ]
     },
     "execution_count": 129,
     "metadata": {},
     "output_type": "execute_result"
    }
   ],
   "source": [
    "import importlib\n",
    "import trader as t #import the module here, so that it can be reloaded.\n",
    "importlib.reload(t)"
   ]
  },
  {
   "cell_type": "code",
   "execution_count": 130,
   "id": "55ede681-f68d-4888-81a5-f1431f48045f",
   "metadata": {},
   "outputs": [],
   "source": [
    "import binance_helpers as bh\n",
    "client = bh.new_binance_client()"
   ]
  },
  {
   "cell_type": "code",
   "execution_count": 133,
   "id": "02972d3f-c21b-48c8-9f12-d98e8ba4a99e",
   "metadata": {},
   "outputs": [
    {
     "data": {
      "text/plain": [
       "0.0"
      ]
     },
     "execution_count": 133,
     "metadata": {},
     "output_type": "execute_result"
    }
   ],
   "source": [
    "t.get_futures_holdings(client, \"BTCUSDT\")"
   ]
  },
  {
   "cell_type": "code",
   "execution_count": 113,
   "id": "af27a6ec-ca37-497c-908b-1758cadcda19",
   "metadata": {},
   "outputs": [],
   "source": [
    "def delete(t):\n",
    "    t['val'] = 5"
   ]
  },
  {
   "cell_type": "code",
   "execution_count": 114,
   "id": "341bf2f4-2280-4175-86cd-ccc3428d3bf0",
   "metadata": {},
   "outputs": [],
   "source": [
    "a = [{\"func\":delete, \"val\":0}]"
   ]
  },
  {
   "cell_type": "code",
   "execution_count": 115,
   "id": "9b997970-a7b9-4f8e-85b3-81a969b93594",
   "metadata": {},
   "outputs": [],
   "source": [
    "for i in a:\n",
    "    i['func'](i)"
   ]
  },
  {
   "cell_type": "code",
   "execution_count": 116,
   "id": "7d534ea1-6358-44a1-89c3-9dc335e7ff7d",
   "metadata": {},
   "outputs": [
    {
     "data": {
      "text/plain": [
       "[{'func': <function __main__.delete(t)>, 'val': 5}]"
      ]
     },
     "execution_count": 116,
     "metadata": {},
     "output_type": "execute_result"
    }
   ],
   "source": [
    "a"
   ]
  },
  {
   "cell_type": "code",
   "execution_count": 136,
   "id": "10395658-a070-49cd-af9c-8a497fb05afe",
   "metadata": {},
   "outputs": [
    {
     "data": {
      "text/plain": [
       "{'criterion': 'tgt',\n",
       " 'c_val': None,\n",
       " 'amt': 1.2,\n",
       " 'triggers': [{'criterion': 'pgt', 'c_val': None, 'func': 'be'},\n",
       "  {'criterion': 'pgt', 'c_val': None, 'func': 'ttp'}]}"
      ]
     },
     "execution_count": 136,
     "metadata": {},
     "output_type": "execute_result"
    }
   ],
   "source": [
    "c = cm.new_critical_moment(\"tgt\", 1.2, [t, t1])\n",
    "c"
   ]
  },
  {
   "cell_type": "code",
   "execution_count": 137,
   "id": "9aef2775-e23b-4b3f-b910-66943aa06339",
   "metadata": {},
   "outputs": [],
   "source": [
    "d = c['triggers']"
   ]
  },
  {
   "cell_type": "code",
   "execution_count": 138,
   "id": "b43ebe33-bdc0-44e0-9caa-866908a45ece",
   "metadata": {},
   "outputs": [],
   "source": [
    "d[0]['criterion'] = 'yay'"
   ]
  },
  {
   "cell_type": "code",
   "execution_count": 139,
   "id": "9c402574-e16b-4c09-b049-9cfbd8969b58",
   "metadata": {},
   "outputs": [
    {
     "data": {
      "text/plain": [
       "{'criterion': 'tgt',\n",
       " 'c_val': None,\n",
       " 'amt': 1.2,\n",
       " 'triggers': [{'criterion': 'yay', 'c_val': None, 'func': 'be'},\n",
       "  {'criterion': 'pgt', 'c_val': None, 'func': 'ttp'}]}"
      ]
     },
     "execution_count": 139,
     "metadata": {},
     "output_type": "execute_result"
    }
   ],
   "source": [
    "c"
   ]
  },
  {
   "cell_type": "code",
   "execution_count": 135,
   "id": "86dc1974-3f5f-43a6-84bf-4487bae471d1",
   "metadata": {},
   "outputs": [],
   "source": [
    "t = cm.new_trigger(\"pgt\", None, \"be\")\n",
    "t1 = cm.new_trigger(\"pgt\", None, \"ttp\")"
   ]
  },
  {
   "cell_type": "code",
   "execution_count": 91,
   "id": "a51886bf-3310-42ca-9516-2e14e7780ffb",
   "metadata": {},
   "outputs": [
    {
     "name": "stdout",
     "output_type": "stream",
     "text": [
      "time_greater_than None --> liquidate 1.2\n",
      "   -price_greater_than None --> trigger_break_even\n",
      "   -price_greater_than None --> trigger_trailing_take_profit\n",
      "\n"
     ]
    }
   ],
   "source": [
    "print(cm.critical_moment_to_str(c))"
   ]
  },
  {
   "cell_type": "code",
   "execution_count": 86,
   "id": "82cf1a70-a7b3-4a4f-8d50-17df5cb21adb",
   "metadata": {},
   "outputs": [],
   "source": [
    "m = f\"{cm.crit_dict[c['criterion']].__name__} {c['c_val']} --> liquidate {c['amt']}\\n\"\n",
    "for t in c['triggers']:\n",
    "    m += (f\"   - if {cm.crit_dict[t['criterion']].__name__} {t['c_val']} --> {cm.trig_dict[t['func']].__name__}\\n\")"
   ]
  },
  {
   "cell_type": "code",
   "execution_count": 87,
   "id": "a7c7bb6d-290a-4970-a327-eb3396e63586",
   "metadata": {},
   "outputs": [
    {
     "name": "stdout",
     "output_type": "stream",
     "text": [
      "time_greater_than None --> liquidate 1.2\n",
      "   - if price_greater_than None --> trigger_break_even\n",
      "   - if price_greater_than None --> trigger_trailing_take_profit\n",
      "\n"
     ]
    }
   ],
   "source": [
    "print(m)"
   ]
  },
  {
   "cell_type": "code",
   "execution_count": 73,
   "id": "072e3fb3-2917-4dd7-818e-d6018f53f623",
   "metadata": {},
   "outputs": [
    {
     "data": {
      "text/plain": [
       "'price_greater_than None --> trigger_break_even'"
      ]
     },
     "execution_count": 73,
     "metadata": {},
     "output_type": "execute_result"
    }
   ],
   "source": [
    "f\"{cm.crit_dict[t['criterion']].__name__} {t['c_val']} --> {cm.trig_dict[t['func']].__name__}\""
   ]
  },
  {
   "cell_type": "code",
   "execution_count": 64,
   "id": "76377296-9b73-4032-b695-9d2c2548898b",
   "metadata": {},
   "outputs": [
    {
     "name": "stdin",
     "output_type": "stream",
     "text": [
      " 4\n"
     ]
    }
   ],
   "source": [
    "a = float(input())"
   ]
  },
  {
   "cell_type": "code",
   "execution_count": 65,
   "id": "83f761a3-331e-4fbf-8837-eda8da5e0e00",
   "metadata": {},
   "outputs": [
    {
     "data": {
      "text/plain": [
       "4.0"
      ]
     },
     "execution_count": 65,
     "metadata": {},
     "output_type": "execute_result"
    }
   ],
   "source": [
    "a"
   ]
  },
  {
   "cell_type": "code",
   "execution_count": 61,
   "id": "f1f25dce-d20d-41d2-a305-d57e1d3e93d7",
   "metadata": {},
   "outputs": [
    {
     "data": {
      "text/plain": [
       "['tgt: time_greater_than', 'pgt: price_greater_than', 'plt: price_less_than']"
      ]
     },
     "execution_count": 61,
     "metadata": {},
     "output_type": "execute_result"
    }
   ],
   "source": [
    "list(map(lambda x: f\"{x}: {cm.crit_dict[x].__name__}\", cm.crit_dict))"
   ]
  },
  {
   "cell_type": "code",
   "execution_count": 49,
   "id": "4e450799-04cf-4359-bb48-75dfbee31a17",
   "metadata": {},
   "outputs": [
    {
     "data": {
      "text/plain": [
       "{'tgt': <function critical_moment.time_greater_than(price, time, c_val)>,\n",
       " 'pgt': <function critical_moment.price_greater_than(price, time, c_val)>,\n",
       " 'plt': <function critical_moment.price_less_than(price, time, c_val)>}"
      ]
     },
     "execution_count": 49,
     "metadata": {},
     "output_type": "execute_result"
    }
   ],
   "source": [
    "cm.crit_dict"
   ]
  },
  {
   "cell_type": "code",
   "execution_count": 1,
   "id": "1874e27c-4da8-470b-91f4-5b74522e962a",
   "metadata": {},
   "outputs": [],
   "source": [
    "def test():\n",
    "    print(1)\n",
    "def test1():\n",
    "    print(2)\n",
    "def test2():\n",
    "    print(3)"
   ]
  },
  {
   "cell_type": "code",
   "execution_count": 2,
   "id": "6b47d0a1-2375-413f-86de-f6e144aa5d9b",
   "metadata": {},
   "outputs": [],
   "source": [
    "funcdict = {\n",
    "    \"test\":test,\n",
    "    \"test1\":test1,\n",
    "    \"test2\":test2,\n",
    "    \n",
    "}"
   ]
  },
  {
   "cell_type": "code",
   "execution_count": 13,
   "id": "515456a7-7221-4af8-9456-ac39ba339d24",
   "metadata": {},
   "outputs": [
    {
     "data": {
      "text/plain": [
       "True"
      ]
     },
     "execution_count": 13,
     "metadata": {},
     "output_type": "execute_result"
    }
   ],
   "source": [
    "\"test1\" in funcdict"
   ]
  },
  {
   "cell_type": "code",
   "execution_count": 3,
   "id": "b59549e1-5658-42f6-8991-de3662caad1f",
   "metadata": {},
   "outputs": [
    {
     "name": "stdout",
     "output_type": "stream",
     "text": [
      "2\n"
     ]
    }
   ],
   "source": [
    "funcdict[\"test1\"]()"
   ]
  },
  {
   "cell_type": "code",
   "execution_count": 14,
   "id": "6e7f2ad8-5945-4022-8835-1af31828a9b5",
   "metadata": {},
   "outputs": [],
   "source": [
    "a = {\n",
    "    \"a\":{\"b\":[1,2,3], \"c\":5},\n",
    "    \"b\":{\"b\":[1,2,3], \"c\":5},\n",
    "    \"c\":{\"b\":[1,2,3], \"c\":5},\n",
    "}"
   ]
  },
  {
   "cell_type": "code",
   "execution_count": 15,
   "id": "6e7d7471-d87f-4a14-96f3-b7929e6852c0",
   "metadata": {},
   "outputs": [
    {
     "data": {
      "text/plain": [
       "{'a': {'b': [1, 2, 3], 'c': 5},\n",
       " 'b': {'b': [1, 2, 3], 'c': 5},\n",
       " 'c': {'b': [1, 2, 3], 'c': 5}}"
      ]
     },
     "execution_count": 15,
     "metadata": {},
     "output_type": "execute_result"
    }
   ],
   "source": [
    "a"
   ]
  },
  {
   "cell_type": "code",
   "execution_count": 16,
   "id": "e0331836-3edd-4270-be6a-80ffc416d225",
   "metadata": {},
   "outputs": [],
   "source": [
    "def test(v):\n",
    "    v['b']=[1,5,5]"
   ]
  },
  {
   "cell_type": "code",
   "execution_count": 17,
   "id": "3a46bf65-0421-499c-b002-e6317bb1255f",
   "metadata": {},
   "outputs": [],
   "source": [
    "test(a['b'])"
   ]
  },
  {
   "cell_type": "code",
   "execution_count": 18,
   "id": "4e1804f0-2059-4f76-b43b-f74852a53fd8",
   "metadata": {},
   "outputs": [
    {
     "data": {
      "text/plain": [
       "{'a': {'b': [1, 2, 3], 'c': 5},\n",
       " 'b': {'b': [1, 5, 5], 'c': 5},\n",
       " 'c': {'b': [1, 2, 3], 'c': 5}}"
      ]
     },
     "execution_count": 18,
     "metadata": {},
     "output_type": "execute_result"
    }
   ],
   "source": [
    "a"
   ]
  },
  {
   "cell_type": "code",
   "execution_count": 4,
   "id": "7b00d4a7-0516-4e8d-ac96-cc16d4045346",
   "metadata": {},
   "outputs": [],
   "source": [
    "from enum import Enum"
   ]
  },
  {
   "cell_type": "code",
   "execution_count": 5,
   "id": "e3a798f2-bb2e-4c6d-baed-b57d554f47fc",
   "metadata": {},
   "outputs": [],
   "source": [
    "class Type(Enum):\n",
    "    test:\"test\"\n",
    "    test1:\"test1\""
   ]
  },
  {
   "cell_type": "code",
   "execution_count": 11,
   "id": "8df4f354-10dc-4bdd-99d7-8ac457bd2453",
   "metadata": {},
   "outputs": [],
   "source": [
    "a = Type"
   ]
  },
  {
   "cell_type": "code",
   "execution_count": 12,
   "id": "299db41d-0ef8-453f-ae9b-ed7287702541",
   "metadata": {},
   "outputs": [
    {
     "data": {
      "text/plain": [
       "<enum 'Type'>"
      ]
     },
     "execution_count": 12,
     "metadata": {},
     "output_type": "execute_result"
    }
   ],
   "source": [
    "a"
   ]
  },
  {
   "cell_type": "code",
   "execution_count": null,
   "id": "9f0598e2-c103-41fc-bc97-0cb738c3b02f",
   "metadata": {},
   "outputs": [],
   "source": []
  }
 ],
 "metadata": {
  "kernelspec": {
   "display_name": "Python 3 (ipykernel)",
   "language": "python",
   "name": "python3"
  },
  "language_info": {
   "codemirror_mode": {
    "name": "ipython",
    "version": 3
   },
   "file_extension": ".py",
   "mimetype": "text/x-python",
   "name": "python",
   "nbconvert_exporter": "python",
   "pygments_lexer": "ipython3",
   "version": "3.9.7"
  }
 },
 "nbformat": 4,
 "nbformat_minor": 5
}
