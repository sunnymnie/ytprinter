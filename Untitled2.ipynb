{
 "cells": [
  {
   "cell_type": "markdown",
   "id": "8d96b4e8-c471-4e1e-9ba6-afe008ed39c2",
   "metadata": {},
   "source": [
    "# THREADING"
   ]
  },
  {
   "cell_type": "code",
   "execution_count": 25,
   "id": "0b07221e-7928-4651-88ee-8fd9ed39ae78",
   "metadata": {},
   "outputs": [],
   "source": [
    "import importlib\n",
    "import trader as t #import the module here, so that it can be reloaded.\n",
    "importlib.reload(t)\n",
    "import binance_helpers as bh\n",
    "client = bh.new_binance_client()"
   ]
  },
  {
   "cell_type": "code",
   "execution_count": 31,
   "id": "531c4312-518f-4993-ae1f-769caa1e8c0d",
   "metadata": {},
   "outputs": [],
   "source": [
    "portfolio = t.get_cross_margin_snapshot(client)\n",
    "pairs = list(filter(lambda x: x['asset'] != 'USDT', portfolio))"
   ]
  },
  {
   "cell_type": "code",
   "execution_count": 32,
   "id": "45c2c1a3-bd96-4529-b058-9e16ea7bf73a",
   "metadata": {
    "tags": []
   },
   "outputs": [
    {
     "data": {
      "text/plain": [
       "[{'asset': 'DOT',\n",
       "  'free': 0.009664,\n",
       "  'locked': 0.0,\n",
       "  'borrowed': 0.0,\n",
       "  'interest': 0.0,\n",
       "  'netAsset': 0.009664},\n",
       " {'asset': 'BTC',\n",
       "  'free': 9.8e-06,\n",
       "  'locked': 0.0,\n",
       "  'borrowed': 0.0,\n",
       "  'interest': 0.0,\n",
       "  'netAsset': 9.8e-06},\n",
       " {'asset': 'ONE',\n",
       "  'free': 0.06856,\n",
       "  'locked': 0.0,\n",
       "  'borrowed': 0.0,\n",
       "  'interest': 0.0,\n",
       "  'netAsset': 0.06856},\n",
       " {'asset': 'ATOM',\n",
       "  'free': 0.009648,\n",
       "  'locked': 0.0,\n",
       "  'borrowed': 0.0,\n",
       "  'interest': 0.0,\n",
       "  'netAsset': 0.009648},\n",
       " {'asset': 'MANA',\n",
       "  'free': 5.9944,\n",
       "  'locked': 0.0,\n",
       "  'borrowed': 0.0,\n",
       "  'interest': 0.0,\n",
       "  'netAsset': 5.9944},\n",
       " {'asset': 'CHR',\n",
       "  'free': 0.9888,\n",
       "  'locked': 0.0,\n",
       "  'borrowed': 0.0,\n",
       "  'interest': 0.0,\n",
       "  'netAsset': 0.9888}]"
      ]
     },
     "execution_count": 32,
     "metadata": {},
     "output_type": "execute_result"
    }
   ],
   "source": [
    "pairs"
   ]
  },
  {
   "cell_type": "code",
   "execution_count": 33,
   "id": "616510d3-9109-4943-beb1-b31c2c51651f",
   "metadata": {},
   "outputs": [],
   "source": [
    "import time"
   ]
  },
  {
   "cell_type": "code",
   "execution_count": 34,
   "id": "8635cd6f-6f3e-4516-bab5-6f25cf0cf5cb",
   "metadata": {},
   "outputs": [
    {
     "name": "stdout",
     "output_type": "stream",
     "text": [
      "Warning: failed to liquidate 9.8e-06 BTCUSDTUSDT\n",
      "Warning: failed to liquidate 0.009648 ATOMUSDTUSDT\n",
      "Warning: failed to liquidate 0.9888 CHRUSDTUSDT\n",
      "Warning: failed to liquidate 0.009664 DOTUSDTUSDT\n",
      "Warning: failed to liquidate 0.06856 ONEUSDTUSDT\n",
      "1.0748059749603271\n"
     ]
    }
   ],
   "source": [
    "now = time.time()\n",
    "t.liquidate_cross_margin_account(client, pairs)\n",
    "now = time.time()-now\n",
    "print(now)"
   ]
  },
  {
   "cell_type": "code",
   "execution_count": 35,
   "id": "89704dee-4f7d-457c-96ef-c057b94077c6",
   "metadata": {},
   "outputs": [
    {
     "data": {
      "text/plain": [
       "[{'asset': 'DOT',\n",
       "  'free': 0.009664,\n",
       "  'locked': 0.0,\n",
       "  'borrowed': 0.0,\n",
       "  'interest': 0.0,\n",
       "  'netAsset': 0.009664},\n",
       " {'asset': 'BTC',\n",
       "  'free': 9.8e-06,\n",
       "  'locked': 0.0,\n",
       "  'borrowed': 0.0,\n",
       "  'interest': 0.0,\n",
       "  'netAsset': 9.8e-06},\n",
       " {'asset': 'ONE',\n",
       "  'free': 0.06856,\n",
       "  'locked': 0.0,\n",
       "  'borrowed': 0.0,\n",
       "  'interest': 0.0,\n",
       "  'netAsset': 0.06856},\n",
       " {'asset': 'ATOM',\n",
       "  'free': 0.009648,\n",
       "  'locked': 0.0,\n",
       "  'borrowed': 0.0,\n",
       "  'interest': 0.0,\n",
       "  'netAsset': 0.009648},\n",
       " {'asset': 'MANA',\n",
       "  'free': 0.9944,\n",
       "  'locked': 0.0,\n",
       "  'borrowed': 0.0,\n",
       "  'interest': 0.0,\n",
       "  'netAsset': 0.9944},\n",
       " {'asset': 'CHR',\n",
       "  'free': 0.9888,\n",
       "  'locked': 0.0,\n",
       "  'borrowed': 0.0,\n",
       "  'interest': 0.0,\n",
       "  'netAsset': 0.9888}]"
      ]
     },
     "execution_count": 35,
     "metadata": {},
     "output_type": "execute_result"
    }
   ],
   "source": [
    "portfolio = t.get_cross_margin_snapshot(client)\n",
    "pairs = list(filter(lambda x: x['asset'] != 'USDT', portfolio))\n",
    "pairs"
   ]
  },
  {
   "cell_type": "code",
   "execution_count": 132,
   "id": "baac3f9e-003f-4420-9619-fe4a29b7a69a",
   "metadata": {},
   "outputs": [],
   "source": [
    "import threading\n",
    "import random"
   ]
  },
  {
   "cell_type": "code",
   "execution_count": 145,
   "id": "8ed42c44-e93e-4b0a-af1d-abb42381b0b0",
   "metadata": {},
   "outputs": [],
   "source": [
    "def foo(i, ii):\n",
    "    time.sleep(i)\n",
    "    print(f\"{i} and {ii}\\n\")\n",
    "    return 5"
   ]
  },
  {
   "cell_type": "code",
   "execution_count": 146,
   "id": "ded916ad-fa85-4bf5-a1b2-972ddf3529bf",
   "metadata": {},
   "outputs": [
    {
     "name": "stdout",
     "output_type": "stream",
     "text": [
      "0 and 1\n",
      "\n",
      "1 and 2\n",
      "\n",
      "2 and 3\n",
      "\n",
      "3 and 4\n",
      "\n",
      "4 and 5\n",
      "\n",
      "Time took: 4.00530219078064\n"
     ]
    }
   ],
   "source": [
    "t0 = time.time()\n",
    "threads = []\n",
    "for i in range(5):\n",
    "    t = threading.Thread(target=foo, args=(i, i+1))\n",
    "    threads.append(t)\n",
    "for t in threads:\n",
    "    t.start()\n",
    "for t in threads:\n",
    "    t.join()\n",
    "print(f\"Time took: {time.time() - t0}\")"
   ]
  },
  {
   "cell_type": "markdown",
   "id": "69d234bd-1f4a-4c02-9877-e305ad3ba7d3",
   "metadata": {},
   "source": [
    "# TICK DATA EXPLORING"
   ]
  },
  {
   "cell_type": "code",
   "execution_count": 31,
   "id": "9eff8347-386e-436b-8f34-e076f35043d6",
   "metadata": {},
   "outputs": [],
   "source": [
    "from datetime import datetime, timedelta\n",
    "import pandas as pd\n",
    "import numpy as np\n",
    "import binance_helpers as bh\n",
    "import time\n",
    "import matplotlib.pyplot as plt"
   ]
  },
  {
   "cell_type": "code",
   "execution_count": 3,
   "id": "a6ee7a26-a269-4659-924b-6ad972c2be80",
   "metadata": {},
   "outputs": [],
   "source": [
    "client = bh.new_binance_client()"
   ]
  },
  {
   "cell_type": "code",
   "execution_count": 118,
   "id": "2beb8179-0e18-43fc-a0af-1586132a6aa5",
   "metadata": {},
   "outputs": [],
   "source": [
    "start = int(datetime(2021, 12, 9, 8, 31, 50).timestamp()*1000)"
   ]
  },
  {
   "cell_type": "code",
   "execution_count": 119,
   "id": "c142fbfb-54ca-4fd2-82c6-f5ccc5e3cbaa",
   "metadata": {},
   "outputs": [],
   "source": [
    "agg_trades = client.get_aggregate_trades(symbol='MATICUSDT', startTime=start, endTime=start+10000)"
   ]
  },
  {
   "cell_type": "code",
   "execution_count": 120,
   "id": "1718ed3f-0302-49c0-98be-b3750bc375aa",
   "metadata": {},
   "outputs": [
    {
     "data": {
      "text/plain": [
       "92"
      ]
     },
     "execution_count": 120,
     "metadata": {},
     "output_type": "execute_result"
    }
   ],
   "source": [
    "len(agg_trades)"
   ]
  },
  {
   "cell_type": "code",
   "execution_count": 121,
   "id": "3fca6374-42c1-47ea-a53f-f278b388cceb",
   "metadata": {},
   "outputs": [],
   "source": [
    "df = pd.DataFrame(list(map(lambda x: x['p'], agg_trades)), \n",
    "                  index=list(map(lambda x: datetime.fromtimestamp(x['T'] / 1e3), agg_trades)), \n",
    "                  columns=['price'])"
   ]
  },
  {
   "cell_type": "code",
   "execution_count": 122,
   "id": "31d199de-40f4-4356-b3a6-c673eb61ea36",
   "metadata": {},
   "outputs": [
    {
     "data": {
      "text/html": [
       "<div>\n",
       "<style scoped>\n",
       "    .dataframe tbody tr th:only-of-type {\n",
       "        vertical-align: middle;\n",
       "    }\n",
       "\n",
       "    .dataframe tbody tr th {\n",
       "        vertical-align: top;\n",
       "    }\n",
       "\n",
       "    .dataframe thead th {\n",
       "        text-align: right;\n",
       "    }\n",
       "</style>\n",
       "<table border=\"1\" class=\"dataframe\">\n",
       "  <thead>\n",
       "    <tr style=\"text-align: right;\">\n",
       "      <th></th>\n",
       "      <th>price</th>\n",
       "    </tr>\n",
       "  </thead>\n",
       "  <tbody>\n",
       "    <tr>\n",
       "      <th>2021-12-09 08:31:50.214</th>\n",
       "      <td>2.17400000</td>\n",
       "    </tr>\n",
       "    <tr>\n",
       "      <th>2021-12-09 08:31:50.231</th>\n",
       "      <td>2.17300000</td>\n",
       "    </tr>\n",
       "    <tr>\n",
       "      <th>2021-12-09 08:31:50.236</th>\n",
       "      <td>2.17400000</td>\n",
       "    </tr>\n",
       "    <tr>\n",
       "      <th>2021-12-09 08:31:50.532</th>\n",
       "      <td>2.17300000</td>\n",
       "    </tr>\n",
       "    <tr>\n",
       "      <th>2021-12-09 08:31:50.729</th>\n",
       "      <td>2.17300000</td>\n",
       "    </tr>\n",
       "    <tr>\n",
       "      <th>...</th>\n",
       "      <td>...</td>\n",
       "    </tr>\n",
       "    <tr>\n",
       "      <th>2021-12-09 08:31:58.895</th>\n",
       "      <td>2.17400000</td>\n",
       "    </tr>\n",
       "    <tr>\n",
       "      <th>2021-12-09 08:31:58.958</th>\n",
       "      <td>2.17500000</td>\n",
       "    </tr>\n",
       "    <tr>\n",
       "      <th>2021-12-09 08:31:59.356</th>\n",
       "      <td>2.17500000</td>\n",
       "    </tr>\n",
       "    <tr>\n",
       "      <th>2021-12-09 08:31:59.719</th>\n",
       "      <td>2.17500000</td>\n",
       "    </tr>\n",
       "    <tr>\n",
       "      <th>2021-12-09 08:31:59.969</th>\n",
       "      <td>2.17500000</td>\n",
       "    </tr>\n",
       "  </tbody>\n",
       "</table>\n",
       "<p>92 rows × 1 columns</p>\n",
       "</div>"
      ],
      "text/plain": [
       "                              price\n",
       "2021-12-09 08:31:50.214  2.17400000\n",
       "2021-12-09 08:31:50.231  2.17300000\n",
       "2021-12-09 08:31:50.236  2.17400000\n",
       "2021-12-09 08:31:50.532  2.17300000\n",
       "2021-12-09 08:31:50.729  2.17300000\n",
       "...                             ...\n",
       "2021-12-09 08:31:58.895  2.17400000\n",
       "2021-12-09 08:31:58.958  2.17500000\n",
       "2021-12-09 08:31:59.356  2.17500000\n",
       "2021-12-09 08:31:59.719  2.17500000\n",
       "2021-12-09 08:31:59.969  2.17500000\n",
       "\n",
       "[92 rows x 1 columns]"
      ]
     },
     "execution_count": 122,
     "metadata": {},
     "output_type": "execute_result"
    }
   ],
   "source": [
    "df"
   ]
  },
  {
   "cell_type": "code",
   "execution_count": 123,
   "id": "2d69b9ad-c143-4771-b819-2b696c385de3",
   "metadata": {},
   "outputs": [
    {
     "data": {
      "text/plain": [
       "[<matplotlib.lines.Line2D at 0x7ffe9d517fd0>]"
      ]
     },
     "execution_count": 123,
     "metadata": {},
     "output_type": "execute_result"
    },
    {
     "data": {
      "image/png": "[encoded data removed]",
      "text/plain": [
       "<Figure size 864x288 with 1 Axes>"
      ]
     },
     "metadata": {
      "needs_background": "light"
     },
     "output_type": "display_data"
    }
   ],
   "source": [
    "fig, ax = plt.subplots(figsize=(12,4))\n",
    "ax.plot(df.price)"
   ]
  },
  {
   "cell_type": "code",
   "execution_count": 129,
   "id": "51824746-bb4d-47d1-abf4-751d839e496e",
   "metadata": {},
   "outputs": [
    {
     "data": {
      "text/plain": [
       "<module 'trader' from '/Users/SunnyNie/Documents/Programming/ytprinter/trader.py'>"
      ]
     },
     "execution_count": 129,
     "metadata": {},
     "output_type": "execute_result"
    }
   ],
   "source": [
    "import importlib\n",
    "import trader as t #import the module here, so that it can be reloaded.\n",
    "importlib.reload(t)"
   ]
  },
  {
   "cell_type": "code",
   "execution_count": 130,
   "id": "55ede681-f68d-4888-81a5-f1431f48045f",
   "metadata": {},
   "outputs": [],
   "source": [
    "import binance_helpers as bh\n",
    "client = bh.new_binance_client()"
   ]
  },
  {
   "cell_type": "code",
   "execution_count": 133,
   "id": "02972d3f-c21b-48c8-9f12-d98e8ba4a99e",
   "metadata": {},
   "outputs": [
    {
     "data": {
      "text/plain": [
       "0.0"
      ]
     },
     "execution_count": 133,
     "metadata": {},
     "output_type": "execute_result"
    }
   ],
   "source": [
    "t.get_futures_holdings(client, \"BTCUSDT\")"
   ]
  },
  {
   "cell_type": "code",
   "execution_count": 113,
   "id": "af27a6ec-ca37-497c-908b-1758cadcda19",
   "metadata": {},
   "outputs": [],
   "source": [
    "def delete(t):\n",
    "    t['val'] = 5"
   ]
  },
  {
   "cell_type": "code",
   "execution_count": 114,
   "id": "341bf2f4-2280-4175-86cd-ccc3428d3bf0",
   "metadata": {},
   "outputs": [],
   "source": [
    "a = [{\"func\":delete, \"val\":0}]"
   ]
  },
  {
   "cell_type": "code",
   "execution_count": 115,
   "id": "9b997970-a7b9-4f8e-85b3-81a969b93594",
   "metadata": {},
   "outputs": [],
   "source": [
    "for i in a:\n",
    "    i['func'](i)"
   ]
  },
  {
   "cell_type": "code",
   "execution_count": 116,
   "id": "7d534ea1-6358-44a1-89c3-9dc335e7ff7d",
   "metadata": {},
   "outputs": [
    {
     "data": {
      "text/plain": [
       "[{'func': <function __main__.delete(t)>, 'val': 5}]"
      ]
     },
     "execution_count": 116,
     "metadata": {},
     "output_type": "execute_result"
    }
   ],
   "source": [
    "a"
   ]
  },
  {
   "cell_type": "code",
   "execution_count": 136,
   "id": "10395658-a070-49cd-af9c-8a497fb05afe",
   "metadata": {},
   "outputs": [
    {
     "data": {
      "text/plain": [
       "{'criterion': 'tgt',\n",
       " 'c_val': None,\n",
       " 'amt': 1.2,\n",
       " 'triggers': [{'criterion': 'pgt', 'c_val': None, 'func': 'be'},\n",
       "  {'criterion': 'pgt', 'c_val': None, 'func': 'ttp'}]}"
      ]
     },
     "execution_count": 136,
     "metadata": {},
     "output_type": "execute_result"
    }
   ],
   "source": [
    "c = cm.new_critical_moment(\"tgt\", 1.2, [t, t1])\n",
    "c"
   ]
  },
  {
   "cell_type": "code",
   "execution_count": 137,
   "id": "9aef2775-e23b-4b3f-b910-66943aa06339",
   "metadata": {},
   "outputs": [],
   "source": [
    "d = c['triggers']"
   ]
  },
  {
   "cell_type": "code",
   "execution_count": 138,
   "id": "b43ebe33-bdc0-44e0-9caa-866908a45ece",
   "metadata": {},
   "outputs": [],
   "source": [
    "d[0]['criterion'] = 'yay'"
   ]
  },
  {
   "cell_type": "code",
   "execution_count": 139,
   "id": "9c402574-e16b-4c09-b049-9cfbd8969b58",
   "metadata": {},
   "outputs": [
    {
     "data": {
      "text/plain": [
       "{'criterion': 'tgt',\n",
       " 'c_val': None,\n",
       " 'amt': 1.2,\n",
       " 'triggers': [{'criterion': 'yay', 'c_val': None, 'func': 'be'},\n",
       "  {'criterion': 'pgt', 'c_val': None, 'func': 'ttp'}]}"
      ]
     },
     "execution_count": 139,
     "metadata": {},
     "output_type": "execute_result"
    }
   ],
   "source": [
    "c"
   ]
  },
  {
   "cell_type": "code",
   "execution_count": 135,
   "id": "86dc1974-3f5f-43a6-84bf-4487bae471d1",
   "metadata": {},
   "outputs": [],
   "source": [
    "t = cm.new_trigger(\"pgt\", None, \"be\")\n",
    "t1 = cm.new_trigger(\"pgt\", None, \"ttp\")"
   ]
  },
  {
   "cell_type": "code",
   "execution_count": 91,
   "id": "a51886bf-3310-42ca-9516-2e14e7780ffb",
   "metadata": {},
   "outputs": [
    {
     "name": "stdout",
     "output_type": "stream",
     "text": [
      "time_greater_than None --> liquidate 1.2\n",
      "   -price_greater_than None --> trigger_break_even\n",
      "   -price_greater_than None --> trigger_trailing_take_profit\n",
      "\n"
     ]
    }
   ],
   "source": [
    "print(cm.critical_moment_to_str(c))"
   ]
  },
  {
   "cell_type": "code",
   "execution_count": 86,
   "id": "82cf1a70-a7b3-4a4f-8d50-17df5cb21adb",
   "metadata": {},
   "outputs": [],
   "source": [
    "m = f\"{cm.crit_dict[c['criterion']].__name__} {c['c_val']} --> liquidate {c['amt']}\\n\"\n",
    "for t in c['triggers']:\n",
    "    m += (f\"   - if {cm.crit_dict[t['criterion']].__name__} {t['c_val']} --> {cm.trig_dict[t['func']].__name__}\\n\")"
   ]
  },
  {
   "cell_type": "code",
   "execution_count": 87,
   "id": "a7c7bb6d-290a-4970-a327-eb3396e63586",
   "metadata": {},
   "outputs": [
    {
     "name": "stdout",
     "output_type": "stream",
     "text": [
      "time_greater_than None --> liquidate 1.2\n",
      "   - if price_greater_than None --> trigger_break_even\n",
      "   - if price_greater_than None --> trigger_trailing_take_profit\n",
      "\n"
     ]
    }
   ],
   "source": [
    "print(m)"
   ]
  },
  {
   "cell_type": "code",
   "execution_count": 73,
   "id": "072e3fb3-2917-4dd7-818e-d6018f53f623",
   "metadata": {},
   "outputs": [
    {
     "data": {
      "text/plain": [
       "'price_greater_than None --> trigger_break_even'"
      ]
     },
     "execution_count": 73,
     "metadata": {},
     "output_type": "execute_result"
    }
   ],
   "source": [
    "f\"{cm.crit_dict[t['criterion']].__name__} {t['c_val']} --> {cm.trig_dict[t['func']].__name__}\""
   ]
  },
  {
   "cell_type": "code",
   "execution_count": 64,
   "id": "76377296-9b73-4032-b695-9d2c2548898b",
   "metadata": {},
   "outputs": [
    {
     "name": "stdin",
     "output_type": "stream",
     "text": [
      " 4\n"
     ]
    }
   ],
   "source": [
    "a = float(input())"
   ]
  },
  {
   "cell_type": "code",
   "execution_count": 65,
   "id": "83f761a3-331e-4fbf-8837-eda8da5e0e00",
   "metadata": {},
   "outputs": [
    {
     "data": {
      "text/plain": [
       "4.0"
      ]
     },
     "execution_count": 65,
     "metadata": {},
     "output_type": "execute_result"
    }
   ],
   "source": [
    "a"
   ]
  },
  {
   "cell_type": "code",
   "execution_count": 61,
   "id": "f1f25dce-d20d-41d2-a305-d57e1d3e93d7",
   "metadata": {},
   "outputs": [
    {
     "data": {
      "text/plain": [
       "['tgt: time_greater_than', 'pgt: price_greater_than', 'plt: price_less_than']"
      ]
     },
     "execution_count": 61,
     "metadata": {},
     "output_type": "execute_result"
    }
   ],
   "source": [
    "list(map(lambda x: f\"{x}: {cm.crit_dict[x].__name__}\", cm.crit_dict))"
   ]
  },
  {
   "cell_type": "code",
   "execution_count": 49,
   "id": "4e450799-04cf-4359-bb48-75dfbee31a17",
   "metadata": {},
   "outputs": [
    {
     "data": {
      "text/plain": [
       "{'tgt': <function critical_moment.time_greater_than(price, time, c_val)>,\n",
       " 'pgt': <function critical_moment.price_greater_than(price, time, c_val)>,\n",
       " 'plt': <function critical_moment.price_less_than(price, time, c_val)>}"
      ]
     },
     "execution_count": 49,
     "metadata": {},
     "output_type": "execute_result"
    }
   ],
   "source": [
    "cm.crit_dict"
   ]
  },
  {
   "cell_type": "code",
   "execution_count": 1,
   "id": "1874e27c-4da8-470b-91f4-5b74522e962a",
   "metadata": {},
   "outputs": [],
   "source": [
    "def test():\n",
    "    print(1)\n",
    "def test1():\n",
    "    print(2)\n",
    "def test2():\n",
    "    print(3)"
   ]
  },
  {
   "cell_type": "code",
   "execution_count": 2,
   "id": "6b47d0a1-2375-413f-86de-f6e144aa5d9b",
   "metadata": {},
   "outputs": [],
   "source": [
    "funcdict = {\n",
    "    \"test\":test,\n",
    "    \"test1\":test1,\n",
    "    \"test2\":test2,\n",
    "    \n",
    "}"
   ]
  },
  {
   "cell_type": "code",
   "execution_count": 13,
   "id": "515456a7-7221-4af8-9456-ac39ba339d24",
   "metadata": {},
   "outputs": [
    {
     "data": {
      "text/plain": [
       "True"
      ]
     },
     "execution_count": 13,
     "metadata": {},
     "output_type": "execute_result"
    }
   ],
   "source": [
    "\"test1\" in funcdict"
   ]
  },
  {
   "cell_type": "code",
   "execution_count": 3,
   "id": "b59549e1-5658-42f6-8991-de3662caad1f",
   "metadata": {},
   "outputs": [
    {
     "name": "stdout",
     "output_type": "stream",
     "text": [
      "2\n"
     ]
    }
   ],
   "source": [
    "funcdict[\"test1\"]()"
   ]
  },
  {
   "cell_type": "code",
   "execution_count": 14,
   "id": "6e7f2ad8-5945-4022-8835-1af31828a9b5",
   "metadata": {},
   "outputs": [],
   "source": [
    "a = {\n",
    "    \"a\":{\"b\":[1,2,3], \"c\":5},\n",
    "    \"b\":{\"b\":[1,2,3], \"c\":5},\n",
    "    \"c\":{\"b\":[1,2,3], \"c\":5},\n",
    "}"
   ]
  },
  {
   "cell_type": "code",
   "execution_count": 15,
   "id": "6e7d7471-d87f-4a14-96f3-b7929e6852c0",
   "metadata": {},
   "outputs": [
    {
     "data": {
      "text/plain": [
       "{'a': {'b': [1, 2, 3], 'c': 5},\n",
       " 'b': {'b': [1, 2, 3], 'c': 5},\n",
       " 'c': {'b': [1, 2, 3], 'c': 5}}"
      ]
     },
     "execution_count": 15,
     "metadata": {},
     "output_type": "execute_result"
    }
   ],
   "source": [
    "a"
   ]
  },
  {
   "cell_type": "code",
   "execution_count": 16,
   "id": "e0331836-3edd-4270-be6a-80ffc416d225",
   "metadata": {},
   "outputs": [],
   "source": [
    "def test(v):\n",
    "    v['b']=[1,5,5]"
   ]
  },
  {
   "cell_type": "code",
   "execution_count": 17,
   "id": "3a46bf65-0421-499c-b002-e6317bb1255f",
   "metadata": {},
   "outputs": [],
   "source": [
    "test(a['b'])"
   ]
  },
  {
   "cell_type": "code",
   "execution_count": 18,
   "id": "4e1804f0-2059-4f76-b43b-f74852a53fd8",
   "metadata": {},
   "outputs": [
    {
     "data": {
      "text/plain": [
       "{'a': {'b': [1, 2, 3], 'c': 5},\n",
       " 'b': {'b': [1, 5, 5], 'c': 5},\n",
       " 'c': {'b': [1, 2, 3], 'c': 5}}"
      ]
     },
     "execution_count": 18,
     "metadata": {},
     "output_type": "execute_result"
    }
   ],
   "source": [
    "a"
   ]
  },
  {
   "cell_type": "code",
   "execution_count": 4,
   "id": "7b00d4a7-0516-4e8d-ac96-cc16d4045346",
   "metadata": {},
   "outputs": [],
   "source": [
    "from enum import Enum"
   ]
  },
  {
   "cell_type": "code",
   "execution_count": 5,
   "id": "e3a798f2-bb2e-4c6d-baed-b57d554f47fc",
   "metadata": {},
   "outputs": [],
   "source": [
    "class Type(Enum):\n",
    "    test:\"test\"\n",
    "    test1:\"test1\""
   ]
  },
  {
   "cell_type": "code",
   "execution_count": 11,
   "id": "8df4f354-10dc-4bdd-99d7-8ac457bd2453",
   "metadata": {},
   "outputs": [],
   "source": [
    "a = Type"
   ]
  },
  {
   "cell_type": "code",
   "execution_count": 12,
   "id": "299db41d-0ef8-453f-ae9b-ed7287702541",
   "metadata": {},
   "outputs": [
    {
     "data": {
      "text/plain": [
       "<enum 'Type'>"
      ]
     },
     "execution_count": 12,
     "metadata": {},
     "output_type": "execute_result"
    }
   ],
   "source": [
    "a"
   ]
  },
  {
   "cell_type": "code",
   "execution_count": null,
   "id": "9f0598e2-c103-41fc-bc97-0cb738c3b02f",
   "metadata": {},
   "outputs": [],
   "source": []
  }
 ],
 "metadata": {
  "kernelspec": {
   "display_name": "Python 3 (ipykernel)",
   "language": "python",
   "name": "python3"
  },
  "language_info": {
   "codemirror_mode": {
    "name": "ipython",
    "version": 3
   },
   "file_extension": ".py",
   "mimetype": "text/x-python",
   "name": "python",
   "nbconvert_exporter": "python",
   "pygments_lexer": "ipython3",
   "version": "3.9.7"
  }
 },
 "nbformat": 4,
 "nbformat_minor": 5
}
