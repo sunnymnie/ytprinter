{
 "cells": [
  {
   "cell_type": "markdown",
   "id": "74b5b756-67ab-439f-befb-f74b5e9ae34d",
   "metadata": {},
   "source": [
    "## CPSC 221 Tests"
   ]
  },
  {
   "cell_type": "code",
   "execution_count": 2,
   "id": "501e37e7-ebd1-4926-98d6-2711f79de2a4",
   "metadata": {},
   "outputs": [],
   "source": [
    "import binance_helpers as bh"
   ]
  },
  {
   "cell_type": "code",
   "execution_count": 3,
   "id": "792df544-25d6-45d6-b9f4-14a72a008e6c",
   "metadata": {},
   "outputs": [],
   "source": [
    "import time"
   ]
  },
  {
   "cell_type": "code",
   "execution_count": 10,
   "id": "07108381-0e69-4751-a80c-0a819bd90723",
   "metadata": {},
   "outputs": [
    {
     "data": {
      "text/plain": [
       "0.36345720291137695"
      ]
     },
     "execution_count": 10,
     "metadata": {},
     "output_type": "execute_result"
    }
   ],
   "source": [
    "a = time.time()\n",
    "client = bh.new_binance_client()\n",
    "time.time()-a"
   ]
  },
  {
   "cell_type": "code",
   "execution_count": 118,
   "id": "fe816e8d-5af0-461e-9eda-036e8e9e7c2c",
   "metadata": {},
   "outputs": [
    {
     "data": {
      "text/plain": [
       "[{'name': 'A', 'marked': 0, 'edges': [{'to': 'B', 'marked': 0}]},\n",
       " {'name': 'B', 'marked': 0, 'edges': [{'to': 'C', 'marked': 0}]},\n",
       " {'name': 'C', 'marked': 0, 'edges': []}]"
      ]
     },
     "execution_count": 118,
     "metadata": {},
     "output_type": "execute_result"
    }
   ],
   "source": [
    "graph = [\n",
    "    {\"name\":\"A\",\n",
    "     \"marked\":0,\n",
    "     \"edges\":[{\"to\":\"B\", \"marked\":0}]},\n",
    "    {\"name\":\"B\",\n",
    "     \"marked\":0,\n",
    "     \"edges\":[{\"to\":\"C\", \"marked\":0}]},\n",
    "    {\"name\":\"C\",\n",
    "     \"marked\":0,\n",
    "     \"edges\":[]}\n",
    "]\n",
    "graph"
   ]
  },
  {
   "cell_type": "code",
   "execution_count": 119,
   "id": "c6b9844f-12ee-4dcf-b42c-37a14186c6a0",
   "metadata": {},
   "outputs": [],
   "source": [
    "seq = []"
   ]
  },
  {
   "cell_type": "code",
   "execution_count": 120,
   "id": "df4891e4-35aa-437c-a60a-180b6286c6fc",
   "metadata": {},
   "outputs": [],
   "source": [
    "def DFSValid(G):\n",
    "    global seq\n",
    "    ## ASSUME ALL UNMARKED\n",
    "    for v in G:\n",
    "        if v['marked'] == 0:\n",
    "            DFS(G, v)\n",
    "            \n",
    "            \n",
    "    return seq"
   ]
  },
  {
   "cell_type": "code",
   "execution_count": 121,
   "id": "c9e8f7d8-a67d-467e-acd2-5b41e37a2978",
   "metadata": {},
   "outputs": [],
   "source": [
    "def DFS(G, v):\n",
    "    v['marked'] = 1\n",
    "    for w in v[\"edges\"]:\n",
    "        print(w['to'])\n",
    "        print(graph[find_ind(G, w['to'])])\n",
    "\n",
    "        if graph[find_ind(G, w['to'])]['marked'] == 0:\n",
    "            w['marked'] == \"TREE\"\n",
    "            DFS(G, graph[find_ind(G, w['to'])])\n",
    "        elif w['marked'] == 0: \n",
    "            w['marked'] == \"NONTREE\"\n"
   ]
  },
  {
   "cell_type": "code",
   "execution_count": 122,
   "id": "1df45b9e-674e-4194-aa5b-87d0b9eff305",
   "metadata": {},
   "outputs": [],
   "source": [
    "def find_ind(G, name):\n",
    "    for i in range(len(G)):\n",
    "        if G[i][\"name\"] == name:\n",
    "            return i"
   ]
  },
  {
   "cell_type": "code",
   "execution_count": 123,
   "id": "d65016b2-530b-4bec-b546-30a625c035ef",
   "metadata": {},
   "outputs": [
    {
     "name": "stdout",
     "output_type": "stream",
     "text": [
      "B\n",
      "{'name': 'B', 'marked': 0, 'edges': [{'to': 'C', 'marked': 0}]}\n",
      "C\n",
      "{'name': 'C', 'marked': 0, 'edges': []}\n"
     ]
    },
    {
     "data": {
      "text/plain": [
       "[]"
      ]
     },
     "execution_count": 123,
     "metadata": {},
     "output_type": "execute_result"
    }
   ],
   "source": [
    "DFSValid(graph)"
   ]
  },
  {
   "cell_type": "code",
   "execution_count": 116,
   "id": "326d8d60-21d8-494e-9c28-6fade0b203fd",
   "metadata": {},
   "outputs": [
    {
     "data": {
      "text/plain": [
       "[{'name': 'A', 'marked': 1, 'edges': [{'to': 'B', 'marked': 0}]},\n",
       " {'name': 'B', 'marked': 1, 'edges': [{'to': 'C', 'marked': 0}]},\n",
       " {'name': 'C', 'marked': 1, 'edges': []}]"
      ]
     },
     "execution_count": 116,
     "metadata": {},
     "output_type": "execute_result"
    }
   ],
   "source": [
    "graph"
   ]
  },
  {
   "cell_type": "code",
   "execution_count": 8,
   "id": "970225d4-be10-4746-ba7c-ce734e6430b6",
   "metadata": {},
   "outputs": [],
   "source": [
    "def test():\n",
    "    a = [1, 2, 3]\n",
    "    for item in a:\n",
    "        test1(item)"
   ]
  },
  {
   "cell_type": "code",
   "execution_count": null,
   "id": "b298429e-4374-4492-a695-b51443b5286e",
   "metadata": {},
   "outputs": [],
   "source": [
    "def test1(item):\n",
    "    "
   ]
  }
 ],
 "metadata": {
  "kernelspec": {
   "display_name": "Python 3 (ipykernel)",
   "language": "python",
   "name": "python3"
  },
  "language_info": {
   "codemirror_mode": {
    "name": "ipython",
    "version": 3
   },
   "file_extension": ".py",
   "mimetype": "text/x-python",
   "name": "python",
   "nbconvert_exporter": "python",
   "pygments_lexer": "ipython3",
   "version": "3.9.7"
  }
 },
 "nbformat": 4,
 "nbformat_minor": 5
}
