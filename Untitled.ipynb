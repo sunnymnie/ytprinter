{
 "cells": [
  {
   "cell_type": "markdown",
   "id": "74b5b756-67ab-439f-befb-f74b5e9ae34d",
   "metadata": {},
   "source": [
    "## CPSC 221 Tests"
   ]
  },
  {
   "cell_type": "code",
   "execution_count": 54,
   "id": "d19a79a1-6ae0-4f0c-a4c0-8972415618e3",
   "metadata": {},
   "outputs": [],
   "source": [
    "import binance_helpers as bh"
   ]
  },
  {
   "cell_type": "code",
   "execution_count": 223,
   "id": "d0881031-2b61-42a7-905f-58f8edadd063",
   "metadata": {},
   "outputs": [],
   "source": [
    "client = bh.new_binance_client()"
   ]
  },
  {
   "cell_type": "code",
   "execution_count": 233,
   "id": "66de9c80-5ed4-4c80-8b88-8c4ae7169f72",
   "metadata": {},
   "outputs": [],
   "source": [
    "portfolio = client.get_margin_account()"
   ]
  },
  {
   "cell_type": "code",
   "execution_count": 234,
   "id": "99a446ae-b65d-46ce-9ec4-bd5e58618db1",
   "metadata": {
    "collapsed": true,
    "jupyter": {
     "outputs_hidden": true
    },
    "tags": []
   },
   "outputs": [
    {
     "data": {
      "text/plain": [
       "{'tradeEnabled': True,\n",
       " 'transferEnabled': True,\n",
       " 'borrowEnabled': True,\n",
       " 'marginLevel': '999',\n",
       " 'totalAssetOfBtc': '0.00861463',\n",
       " 'totalLiabilityOfBtc': '0',\n",
       " 'totalNetAssetOfBtc': '0.00861463',\n",
       " 'userAssets': [{'asset': 'MATIC',\n",
       "   'free': '0',\n",
       "   'locked': '0',\n",
       "   'borrowed': '0',\n",
       "   'interest': '0',\n",
       "   'netAsset': '0'},\n",
       "  {'asset': 'STPT',\n",
       "   'free': '0',\n",
       "   'locked': '0',\n",
       "   'borrowed': '0',\n",
       "   'interest': '0',\n",
       "   'netAsset': '0'},\n",
       "  {'asset': 'VET',\n",
       "   'free': '0',\n",
       "   'locked': '0',\n",
       "   'borrowed': '0',\n",
       "   'interest': '0',\n",
       "   'netAsset': '0'},\n",
       "  {'asset': 'IOTX',\n",
       "   'free': '0',\n",
       "   'locked': '0',\n",
       "   'borrowed': '0',\n",
       "   'interest': '0',\n",
       "   'netAsset': '0'},\n",
       "  {'asset': 'SHIB',\n",
       "   'free': '0',\n",
       "   'locked': '0',\n",
       "   'borrowed': '0',\n",
       "   'interest': '0',\n",
       "   'netAsset': '0'},\n",
       "  {'asset': 'USDT',\n",
       "   'free': '1.65689826',\n",
       "   'locked': '0',\n",
       "   'borrowed': '0',\n",
       "   'interest': '0',\n",
       "   'netAsset': '1.65689826'},\n",
       "  {'asset': 'DOGE',\n",
       "   'free': '0',\n",
       "   'locked': '0',\n",
       "   'borrowed': '0',\n",
       "   'interest': '0',\n",
       "   'netAsset': '0'},\n",
       "  {'asset': 'SXP',\n",
       "   'free': '0',\n",
       "   'locked': '0',\n",
       "   'borrowed': '0',\n",
       "   'interest': '0',\n",
       "   'netAsset': '0'},\n",
       "  {'asset': 'RVN',\n",
       "   'free': '0',\n",
       "   'locked': '0',\n",
       "   'borrowed': '0',\n",
       "   'interest': '0',\n",
       "   'netAsset': '0'},\n",
       "  {'asset': 'NEAR',\n",
       "   'free': '0',\n",
       "   'locked': '0',\n",
       "   'borrowed': '0',\n",
       "   'interest': '0',\n",
       "   'netAsset': '0'},\n",
       "  {'asset': 'DASH',\n",
       "   'free': '0',\n",
       "   'locked': '0',\n",
       "   'borrowed': '0',\n",
       "   'interest': '0',\n",
       "   'netAsset': '0'},\n",
       "  {'asset': 'FLOW',\n",
       "   'free': '0',\n",
       "   'locked': '0',\n",
       "   'borrowed': '0',\n",
       "   'interest': '0',\n",
       "   'netAsset': '0'},\n",
       "  {'asset': 'COMP',\n",
       "   'free': '0',\n",
       "   'locked': '0',\n",
       "   'borrowed': '0',\n",
       "   'interest': '0',\n",
       "   'netAsset': '0'},\n",
       "  {'asset': 'WAVES',\n",
       "   'free': '0',\n",
       "   'locked': '0',\n",
       "   'borrowed': '0',\n",
       "   'interest': '0',\n",
       "   'netAsset': '0'},\n",
       "  {'asset': 'CHZ',\n",
       "   'free': '0',\n",
       "   'locked': '0',\n",
       "   'borrowed': '0',\n",
       "   'interest': '0',\n",
       "   'netAsset': '0'},\n",
       "  {'asset': 'XRP',\n",
       "   'free': '0',\n",
       "   'locked': '0',\n",
       "   'borrowed': '0',\n",
       "   'interest': '0',\n",
       "   'netAsset': '0'},\n",
       "  {'asset': 'TRX',\n",
       "   'free': '0',\n",
       "   'locked': '0',\n",
       "   'borrowed': '0',\n",
       "   'interest': '0',\n",
       "   'netAsset': '0'},\n",
       "  {'asset': 'KAVA',\n",
       "   'free': '0',\n",
       "   'locked': '0',\n",
       "   'borrowed': '0',\n",
       "   'interest': '0',\n",
       "   'netAsset': '0'},\n",
       "  {'asset': 'SAND',\n",
       "   'free': '0',\n",
       "   'locked': '0',\n",
       "   'borrowed': '0',\n",
       "   'interest': '0',\n",
       "   'netAsset': '0'},\n",
       "  {'asset': 'C98',\n",
       "   'free': '0',\n",
       "   'locked': '0',\n",
       "   'borrowed': '0',\n",
       "   'interest': '0',\n",
       "   'netAsset': '0'},\n",
       "  {'asset': 'IOST',\n",
       "   'free': '0',\n",
       "   'locked': '0',\n",
       "   'borrowed': '0',\n",
       "   'interest': '0',\n",
       "   'netAsset': '0'},\n",
       "  {'asset': 'BCH',\n",
       "   'free': '0',\n",
       "   'locked': '0',\n",
       "   'borrowed': '0',\n",
       "   'interest': '0',\n",
       "   'netAsset': '0'},\n",
       "  {'asset': 'CAKE',\n",
       "   'free': '0',\n",
       "   'locked': '0',\n",
       "   'borrowed': '0',\n",
       "   'interest': '0',\n",
       "   'netAsset': '0'},\n",
       "  {'asset': 'DOT',\n",
       "   'free': '3.037808',\n",
       "   'locked': '0',\n",
       "   'borrowed': '0',\n",
       "   'interest': '0',\n",
       "   'netAsset': '3.037808'},\n",
       "  {'asset': 'OMG',\n",
       "   'free': '0',\n",
       "   'locked': '0',\n",
       "   'borrowed': '0',\n",
       "   'interest': '0',\n",
       "   'netAsset': '0'},\n",
       "  {'asset': '1INCH',\n",
       "   'free': '0',\n",
       "   'locked': '0',\n",
       "   'borrowed': '0',\n",
       "   'interest': '0',\n",
       "   'netAsset': '0'},\n",
       "  {'asset': 'BTC',\n",
       "   'free': '0.0021183',\n",
       "   'locked': '0',\n",
       "   'borrowed': '0',\n",
       "   'interest': '0',\n",
       "   'netAsset': '0.0021183'},\n",
       "  {'asset': 'IOTA',\n",
       "   'free': '0',\n",
       "   'locked': '0',\n",
       "   'borrowed': '0',\n",
       "   'interest': '0',\n",
       "   'netAsset': '0'},\n",
       "  {'asset': 'AR',\n",
       "   'free': '0',\n",
       "   'locked': '0',\n",
       "   'borrowed': '0',\n",
       "   'interest': '0',\n",
       "   'netAsset': '0'},\n",
       "  {'asset': 'CHESS',\n",
       "   'free': '0',\n",
       "   'locked': '0',\n",
       "   'borrowed': '0',\n",
       "   'interest': '0',\n",
       "   'netAsset': '0'},\n",
       "  {'asset': 'AVAX',\n",
       "   'free': '0',\n",
       "   'locked': '0',\n",
       "   'borrowed': '0',\n",
       "   'interest': '0',\n",
       "   'netAsset': '0'},\n",
       "  {'asset': 'USDC',\n",
       "   'free': '0',\n",
       "   'locked': '0',\n",
       "   'borrowed': '0',\n",
       "   'interest': '0',\n",
       "   'netAsset': '0'},\n",
       "  {'asset': 'LTC',\n",
       "   'free': '0',\n",
       "   'locked': '0',\n",
       "   'borrowed': '0',\n",
       "   'interest': '0',\n",
       "   'netAsset': '0'},\n",
       "  {'asset': 'EGLD',\n",
       "   'free': '0',\n",
       "   'locked': '0',\n",
       "   'borrowed': '0',\n",
       "   'interest': '0',\n",
       "   'netAsset': '0'},\n",
       "  {'asset': 'UNFI',\n",
       "   'free': '0',\n",
       "   'locked': '0',\n",
       "   'borrowed': '0',\n",
       "   'interest': '0',\n",
       "   'netAsset': '0'},\n",
       "  {'asset': 'WIN',\n",
       "   'free': '0',\n",
       "   'locked': '0',\n",
       "   'borrowed': '0',\n",
       "   'interest': '0',\n",
       "   'netAsset': '0'},\n",
       "  {'asset': 'FTM',\n",
       "   'free': '0',\n",
       "   'locked': '0',\n",
       "   'borrowed': '0',\n",
       "   'interest': '0',\n",
       "   'netAsset': '0'},\n",
       "  {'asset': 'THETA',\n",
       "   'free': '0',\n",
       "   'locked': '0',\n",
       "   'borrowed': '0',\n",
       "   'interest': '0',\n",
       "   'netAsset': '0'},\n",
       "  {'asset': 'ENJ',\n",
       "   'free': '0',\n",
       "   'locked': '0',\n",
       "   'borrowed': '0',\n",
       "   'interest': '0',\n",
       "   'netAsset': '0'},\n",
       "  {'asset': 'BTT',\n",
       "   'free': '0',\n",
       "   'locked': '0',\n",
       "   'borrowed': '0',\n",
       "   'interest': '0',\n",
       "   'netAsset': '0'},\n",
       "  {'asset': 'YFII',\n",
       "   'free': '0',\n",
       "   'locked': '0',\n",
       "   'borrowed': '0',\n",
       "   'interest': '0',\n",
       "   'netAsset': '0'},\n",
       "  {'asset': 'CRV',\n",
       "   'free': '0',\n",
       "   'locked': '0',\n",
       "   'borrowed': '0',\n",
       "   'interest': '0',\n",
       "   'netAsset': '0'},\n",
       "  {'asset': 'FTT',\n",
       "   'free': '0',\n",
       "   'locked': '0',\n",
       "   'borrowed': '0',\n",
       "   'interest': '0',\n",
       "   'netAsset': '0'},\n",
       "  {'asset': 'BAKE',\n",
       "   'free': '0',\n",
       "   'locked': '0',\n",
       "   'borrowed': '0',\n",
       "   'interest': '0',\n",
       "   'netAsset': '0'},\n",
       "  {'asset': 'GRT',\n",
       "   'free': '0',\n",
       "   'locked': '0',\n",
       "   'borrowed': '0',\n",
       "   'interest': '0',\n",
       "   'netAsset': '0'},\n",
       "  {'asset': 'DYDX',\n",
       "   'free': '0',\n",
       "   'locked': '0',\n",
       "   'borrowed': '0',\n",
       "   'interest': '0',\n",
       "   'netAsset': '0'},\n",
       "  {'asset': 'ANKR',\n",
       "   'free': '0',\n",
       "   'locked': '0',\n",
       "   'borrowed': '0',\n",
       "   'interest': '0',\n",
       "   'netAsset': '0'},\n",
       "  {'asset': 'TFUEL',\n",
       "   'free': '0',\n",
       "   'locked': '0',\n",
       "   'borrowed': '0',\n",
       "   'interest': '0',\n",
       "   'netAsset': '0'},\n",
       "  {'asset': 'SUSHI',\n",
       "   'free': '0',\n",
       "   'locked': '0',\n",
       "   'borrowed': '0',\n",
       "   'interest': '0',\n",
       "   'netAsset': '0'},\n",
       "  {'asset': 'ENS',\n",
       "   'free': '0',\n",
       "   'locked': '0',\n",
       "   'borrowed': '0',\n",
       "   'interest': '0',\n",
       "   'netAsset': '0'},\n",
       "  {'asset': 'ALGO',\n",
       "   'free': '0',\n",
       "   'locked': '0',\n",
       "   'borrowed': '0',\n",
       "   'interest': '0',\n",
       "   'netAsset': '0'},\n",
       "  {'asset': 'ATOM',\n",
       "   'free': '0',\n",
       "   'locked': '0',\n",
       "   'borrowed': '0',\n",
       "   'interest': '0',\n",
       "   'netAsset': '0'},\n",
       "  {'asset': 'MASK',\n",
       "   'free': '0',\n",
       "   'locked': '0',\n",
       "   'borrowed': '0',\n",
       "   'interest': '0',\n",
       "   'netAsset': '0'},\n",
       "  {'asset': 'HIVE',\n",
       "   'free': '0',\n",
       "   'locked': '0',\n",
       "   'borrowed': '0',\n",
       "   'interest': '0',\n",
       "   'netAsset': '0'},\n",
       "  {'asset': 'UNI',\n",
       "   'free': '0',\n",
       "   'locked': '0',\n",
       "   'borrowed': '0',\n",
       "   'interest': '0',\n",
       "   'netAsset': '0'},\n",
       "  {'asset': 'AAVE',\n",
       "   'free': '0',\n",
       "   'locked': '0',\n",
       "   'borrowed': '0',\n",
       "   'interest': '0',\n",
       "   'netAsset': '0'},\n",
       "  {'asset': 'ONT',\n",
       "   'free': '0',\n",
       "   'locked': '0',\n",
       "   'borrowed': '0',\n",
       "   'interest': '0',\n",
       "   'netAsset': '0'},\n",
       "  {'asset': 'TLM',\n",
       "   'free': '0',\n",
       "   'locked': '0',\n",
       "   'borrowed': '0',\n",
       "   'interest': '0',\n",
       "   'netAsset': '0'},\n",
       "  {'asset': 'ALICE',\n",
       "   'free': '0',\n",
       "   'locked': '0',\n",
       "   'borrowed': '0',\n",
       "   'interest': '0',\n",
       "   'netAsset': '0'},\n",
       "  {'asset': 'XLM',\n",
       "   'free': '0',\n",
       "   'locked': '0',\n",
       "   'borrowed': '0',\n",
       "   'interest': '0',\n",
       "   'netAsset': '0'},\n",
       "  {'asset': 'LINK',\n",
       "   'free': '0',\n",
       "   'locked': '0',\n",
       "   'borrowed': '0',\n",
       "   'interest': '0',\n",
       "   'netAsset': '0'},\n",
       "  {'asset': 'SNX',\n",
       "   'free': '0',\n",
       "   'locked': '0',\n",
       "   'borrowed': '0',\n",
       "   'interest': '0',\n",
       "   'netAsset': '0'},\n",
       "  {'asset': 'QTUM',\n",
       "   'free': '0',\n",
       "   'locked': '0',\n",
       "   'borrowed': '0',\n",
       "   'interest': '0',\n",
       "   'netAsset': '0'},\n",
       "  {'asset': 'YFI',\n",
       "   'free': '0',\n",
       "   'locked': '0',\n",
       "   'borrowed': '0',\n",
       "   'interest': '0',\n",
       "   'netAsset': '0'},\n",
       "  {'asset': 'XTZ',\n",
       "   'free': '0',\n",
       "   'locked': '0',\n",
       "   'borrowed': '0',\n",
       "   'interest': '0',\n",
       "   'netAsset': '0'},\n",
       "  {'asset': 'LUNA',\n",
       "   'free': '0',\n",
       "   'locked': '0',\n",
       "   'borrowed': '0',\n",
       "   'interest': '0',\n",
       "   'netAsset': '0'},\n",
       "  {'asset': 'MANA',\n",
       "   'free': '0',\n",
       "   'locked': '0',\n",
       "   'borrowed': '0',\n",
       "   'interest': '0',\n",
       "   'netAsset': '0'},\n",
       "  {'asset': 'KSM',\n",
       "   'free': '0',\n",
       "   'locked': '0',\n",
       "   'borrowed': '0',\n",
       "   'interest': '0',\n",
       "   'netAsset': '0'},\n",
       "  {'asset': 'EOS',\n",
       "   'free': '0',\n",
       "   'locked': '0',\n",
       "   'borrowed': '0',\n",
       "   'interest': '0',\n",
       "   'netAsset': '0'},\n",
       "  {'asset': 'FIL',\n",
       "   'free': '0',\n",
       "   'locked': '0',\n",
       "   'borrowed': '0',\n",
       "   'interest': '0',\n",
       "   'netAsset': '0'},\n",
       "  {'asset': 'ROSE',\n",
       "   'free': '0',\n",
       "   'locked': '0',\n",
       "   'borrowed': '0',\n",
       "   'interest': '0',\n",
       "   'netAsset': '0'},\n",
       "  {'asset': 'GALA',\n",
       "   'free': '0',\n",
       "   'locked': '0',\n",
       "   'borrowed': '0',\n",
       "   'interest': '0',\n",
       "   'netAsset': '0'},\n",
       "  {'asset': 'SOL',\n",
       "   'free': '0.559552',\n",
       "   'locked': '0',\n",
       "   'borrowed': '0',\n",
       "   'interest': '0',\n",
       "   'netAsset': '0.559552'},\n",
       "  {'asset': 'DAR',\n",
       "   'free': '0',\n",
       "   'locked': '0',\n",
       "   'borrowed': '0',\n",
       "   'interest': '0',\n",
       "   'netAsset': '0'},\n",
       "  {'asset': 'ETC',\n",
       "   'free': '0',\n",
       "   'locked': '0',\n",
       "   'borrowed': '0',\n",
       "   'interest': '0',\n",
       "   'netAsset': '0'},\n",
       "  {'asset': 'BAT',\n",
       "   'free': '0',\n",
       "   'locked': '0',\n",
       "   'borrowed': '0',\n",
       "   'interest': '0',\n",
       "   'netAsset': '0'},\n",
       "  {'asset': 'BNB',\n",
       "   'free': '0',\n",
       "   'locked': '0',\n",
       "   'borrowed': '0',\n",
       "   'interest': '0',\n",
       "   'netAsset': '0'},\n",
       "  {'asset': 'ICP',\n",
       "   'free': '0',\n",
       "   'locked': '0',\n",
       "   'borrowed': '0',\n",
       "   'interest': '0',\n",
       "   'netAsset': '0'},\n",
       "  {'asset': 'ETH',\n",
       "   'free': '0.02877696',\n",
       "   'locked': '0',\n",
       "   'borrowed': '0',\n",
       "   'interest': '0',\n",
       "   'netAsset': '0.02877696'},\n",
       "  {'asset': 'ZEC',\n",
       "   'free': '0.0000078',\n",
       "   'locked': '0',\n",
       "   'borrowed': '0',\n",
       "   'interest': '0',\n",
       "   'netAsset': '0.0000078'},\n",
       "  {'asset': 'NEO',\n",
       "   'free': '0',\n",
       "   'locked': '0',\n",
       "   'borrowed': '0',\n",
       "   'interest': '0',\n",
       "   'netAsset': '0'},\n",
       "  {'asset': 'BUSD',\n",
       "   'free': '0',\n",
       "   'locked': '0',\n",
       "   'borrowed': '0',\n",
       "   'interest': '0',\n",
       "   'netAsset': '0'},\n",
       "  {'asset': 'XMR',\n",
       "   'free': '0.00001892',\n",
       "   'locked': '0',\n",
       "   'borrowed': '0',\n",
       "   'interest': '0',\n",
       "   'netAsset': '0.00001892'},\n",
       "  {'asset': 'LRC',\n",
       "   'free': '0',\n",
       "   'locked': '0',\n",
       "   'borrowed': '0',\n",
       "   'interest': '0',\n",
       "   'netAsset': '0'},\n",
       "  {'asset': 'ZIL',\n",
       "   'free': '0',\n",
       "   'locked': '0',\n",
       "   'borrowed': '0',\n",
       "   'interest': '0',\n",
       "   'netAsset': '0'},\n",
       "  {'asset': 'AXS',\n",
       "   'free': '0',\n",
       "   'locked': '0',\n",
       "   'borrowed': '0',\n",
       "   'interest': '0',\n",
       "   'netAsset': '0'},\n",
       "  {'asset': 'ADA',\n",
       "   'free': '0',\n",
       "   'locked': '0',\n",
       "   'borrowed': '0',\n",
       "   'interest': '0',\n",
       "   'netAsset': '0'}]}"
      ]
     },
     "execution_count": 234,
     "metadata": {},
     "output_type": "execute_result"
    }
   ],
   "source": [
    "portfolio"
   ]
  },
  {
   "cell_type": "code",
   "execution_count": 225,
   "id": "04f7f9ed-52ee-4bfc-b2b9-a0379509225c",
   "metadata": {},
   "outputs": [
    {
     "data": {
      "text/plain": [
       "<module 'trader' from '/Users/SunnyNie/Documents/Programming/ytprinter/trader.py'>"
      ]
     },
     "execution_count": 225,
     "metadata": {},
     "output_type": "execute_result"
    }
   ],
   "source": [
    "import importlib\n",
    "import trader as t #import the module here, so that it can be reloaded.\n",
    "importlib.reload(t)"
   ]
  },
  {
   "cell_type": "code",
   "execution_count": 232,
   "id": "f84bb05b-fd24-493b-8b2b-0e3a96078273",
   "metadata": {},
   "outputs": [
    {
     "ename": "AttributeError",
     "evalue": "'Client' object has no attribute 'get_margin_asset_balance'",
     "output_type": "error",
     "traceback": [
      "\u001b[0;31m---------------------------------------------------------------------------\u001b[0m",
      "\u001b[0;31mAttributeError\u001b[0m                            Traceback (most recent call last)",
      "\u001b[0;32m/var/folders/4n/h7p57sb17sn7vtrtjz3m1xhr0000gn/T/ipykernel_3559/869809468.py\u001b[0m in \u001b[0;36m<module>\u001b[0;34m\u001b[0m\n\u001b[0;32m----> 1\u001b[0;31m \u001b[0mfloat\u001b[0m\u001b[0;34m(\u001b[0m\u001b[0mclient\u001b[0m\u001b[0;34m.\u001b[0m\u001b[0mget_margin_asset_balance\u001b[0m\u001b[0;34m(\u001b[0m\u001b[0masset\u001b[0m\u001b[0;34m=\u001b[0m\u001b[0;34m'USDT'\u001b[0m\u001b[0;34m)\u001b[0m\u001b[0;34m[\u001b[0m\u001b[0;34m\"free\"\u001b[0m\u001b[0;34m]\u001b[0m\u001b[0;34m)\u001b[0m\u001b[0;34m\u001b[0m\u001b[0;34m\u001b[0m\u001b[0m\n\u001b[0m",
      "\u001b[0;31mAttributeError\u001b[0m: 'Client' object has no attribute 'get_margin_asset_balance'"
     ]
    }
   ],
   "source": [
    "float(client.get_margin_asset_balance(asset='USDT')[\"free\"])"
   ]
  },
  {
   "cell_type": "code",
   "execution_count": 236,
   "id": "ad2f5509-ebcb-46aa-91a5-608f7902317c",
   "metadata": {
    "tags": []
   },
   "outputs": [
    {
     "name": "stdout",
     "output_type": "stream",
     "text": [
      "time took: 0.3415641784667969\n"
     ]
    },
    {
     "data": {
      "text/plain": [
       "1.65689826"
      ]
     },
     "execution_count": 236,
     "metadata": {},
     "output_type": "execute_result"
    }
   ],
   "source": [
    "a = time.time()\n",
    "# res = t.futures_long_trade(client, \"BTCUSDT\", 5, 11)\n",
    "res = list(filter(lambda x: x['asset'] == 'USDT', t.get_cross_margin_snapshot(client)))[0]['free']\n",
    "print(f\"time took: {time.time()-a}\")\n",
    "res"
   ]
  },
  {
   "cell_type": "code",
   "execution_count": 218,
   "id": "bb58cce9-e966-4a0d-9113-107590509f9e",
   "metadata": {},
   "outputs": [
    {
     "data": {
      "text/plain": [
       "{'symbol': 'BTCUSDT',\n",
       " 'positionAmt': '0.001',\n",
       " 'entryPrice': '49061.07',\n",
       " 'markPrice': '49075.58618869',\n",
       " 'unRealizedProfit': '0.01451618',\n",
       " 'liquidationPrice': '33769.79735944',\n",
       " 'leverage': '20',\n",
       " 'maxNotionalValue': '7500000',\n",
       " 'marginType': 'cross',\n",
       " 'isolatedMargin': '0.00000000',\n",
       " 'isAutoAddMargin': 'false',\n",
       " 'positionSide': 'BOTH',\n",
       " 'notional': '49.07558618',\n",
       " 'isolatedWallet': '0',\n",
       " 'updateTime': 1638668899523}"
      ]
     },
     "execution_count": 218,
     "metadata": {},
     "output_type": "execute_result"
    }
   ],
   "source": [
    "res0 = list(filter(lambda x: x['symbol'] == \"BTCUSDT\", client.futures_position_information()))[0]\n",
    "res0"
   ]
  },
  {
   "cell_type": "code",
   "execution_count": 219,
   "id": "91ede87b-4ed4-4fff-a56a-cfd51376a8d4",
   "metadata": {},
   "outputs": [
    {
     "name": "stdout",
     "output_type": "stream",
     "text": [
      "time took: 0.5393784046173096\n"
     ]
    },
    {
     "data": {
      "text/plain": [
       "49075.09"
      ]
     },
     "execution_count": 219,
     "metadata": {},
     "output_type": "execute_result"
    }
   ],
   "source": [
    "a = time.time()\n",
    "res1 = t.futures_short_trade(client, \"BTCUSDT\", 0.001)\n",
    "print(f\"time took: {time.time()-a}\")\n",
    "res1"
   ]
  },
  {
   "cell_type": "code",
   "execution_count": 221,
   "id": "235c8b58-1dee-49fc-ab90-5b5a89f5559b",
   "metadata": {},
   "outputs": [],
   "source": [
    "def get_futures_holdings(client, pair):\n",
    "    \"\"\"\n",
    "    returns amount of 'pair' held in futures cross margin account\n",
    "    \"\"\"\n",
    "    return float(list(filter(lambda x: x['symbol'] == pair.upper(), client.futures_position_information()))[0]['positionAmt'])"
   ]
  },
  {
   "cell_type": "code",
   "execution_count": 222,
   "id": "f7c27d17-f66c-4aea-a6df-5ab0fa052f66",
   "metadata": {},
   "outputs": [
    {
     "data": {
      "text/plain": [
       "0.0"
      ]
     },
     "execution_count": 222,
     "metadata": {},
     "output_type": "execute_result"
    }
   ],
   "source": [
    "get_futures_holdings(client, \"BTCUSDT\")"
   ]
  },
  {
   "cell_type": "code",
   "execution_count": 166,
   "id": "0a27d4e9-4041-44a2-b513-45139142a6a2",
   "metadata": {},
   "outputs": [
    {
     "name": "stdout",
     "output_type": "stream",
     "text": [
      "3\n"
     ]
    }
   ],
   "source": [
    "def get_futures_precision(client, pair):\n",
    "    info = client.futures_exchange_info()\n",
    "    for x in info['symbols']:\n",
    "        if x['symbol'] == pair:\n",
    "            return x['quantityPrecision']\n",
    "\n",
    "print(get_precision(client, 'BTCUSDT'))"
   ]
  },
  {
   "cell_type": "code",
   "execution_count": 95,
   "id": "3057d537-c1c4-4f9a-888a-35bd7c56ec62",
   "metadata": {},
   "outputs": [
    {
     "data": {
      "text/plain": [
       "0.6803081035614014"
      ]
     },
     "execution_count": 95,
     "metadata": {},
     "output_type": "execute_result"
    }
   ],
   "source": [
    "a = time.time()\n",
    "transfer_cross_margin_to_futures(client, 0.5)\n",
    "time.time()-a"
   ]
  },
  {
   "cell_type": "code",
   "execution_count": 63,
   "id": "778af3fd-5dbf-48a7-aa21-e562dc4faaed",
   "metadata": {},
   "outputs": [
    {
     "data": {
      "text/plain": [
       "{'tranId': 89890496991}"
      ]
     },
     "execution_count": 63,
     "metadata": {},
     "output_type": "execute_result"
    }
   ],
   "source": [
    "client.futures_account_transfer(asset=\"USDT\", amount=1., type=1)"
   ]
  },
  {
   "cell_type": "code",
   "execution_count": 128,
   "id": "d6c6070e-f063-40d9-a56f-2379fdc72a47",
   "metadata": {},
   "outputs": [
    {
     "data": {
      "text/plain": [
       "49294.26"
      ]
     },
     "execution_count": 128,
     "metadata": {},
     "output_type": "execute_result"
    }
   ],
   "source": [
    "float(client.futures_symbol_ticker(symbol='BTCUSDT')['price'])"
   ]
  },
  {
   "cell_type": "code",
   "execution_count": null,
   "id": "78229fbd-3dab-4f5a-a0d0-36b63baa1f50",
   "metadata": {},
   "outputs": [],
   "source": [
    "client.transfer_margin_to_spot(asset='USDT', amount='1')"
   ]
  },
  {
   "cell_type": "code",
   "execution_count": 80,
   "id": "5b303cc0-e270-490f-8f3c-ca9bc2b9f4ce",
   "metadata": {},
   "outputs": [],
   "source": [
    "portfolio = list(filter(lambda x: x['free'] != '0', portfolio['userAssets']))"
   ]
  },
  {
   "cell_type": "code",
   "execution_count": 81,
   "id": "df3f3e62-25df-4058-a059-9b05cf2ff182",
   "metadata": {},
   "outputs": [],
   "source": [
    "def try_float(x):\n",
    "    \"\"\"tries to convert to float\"\"\"\n",
    "    try: return float(x)\n",
    "    except: return x"
   ]
  },
  {
   "cell_type": "code",
   "execution_count": 82,
   "id": "94aaccdd-7f7f-4b70-a8c1-5f5181a4f2c9",
   "metadata": {},
   "outputs": [],
   "source": [
    "result = [dict([a, try_float(x)] for a, x in b.items()) for b in portfolio]"
   ]
  },
  {
   "cell_type": "code",
   "execution_count": 84,
   "id": "95e98aaf-b6db-4c51-ba83-00c5898e20ef",
   "metadata": {},
   "outputs": [],
   "source": [
    "result = list(filter(lambda x: x['asset'] == 'USDT', result))"
   ]
  },
  {
   "cell_type": "code",
   "execution_count": 88,
   "id": "8ae2ffc0-5a48-4eaa-940c-339ff6aed144",
   "metadata": {},
   "outputs": [
    {
     "data": {
      "text/plain": [
       "1.65689826"
      ]
     },
     "execution_count": 88,
     "metadata": {},
     "output_type": "execute_result"
    }
   ],
   "source": [
    "result[0]['free']"
   ]
  },
  {
   "cell_type": "code",
   "execution_count": 42,
   "id": "4c60a182-ce50-4fdf-a7b5-dd13f64e8865",
   "metadata": {},
   "outputs": [],
   "source": [
    "a = list(map(lambda x: x['asset'], result))"
   ]
  },
  {
   "cell_type": "code",
   "execution_count": 46,
   "id": "1b567179-8995-43bb-8e4b-09019eb45c27",
   "metadata": {},
   "outputs": [
    {
     "ename": "ValueError",
     "evalue": "list.remove(x): x not in list",
     "output_type": "error",
     "traceback": [
      "\u001b[0;31m---------------------------------------------------------------------------\u001b[0m",
      "\u001b[0;31mValueError\u001b[0m                                Traceback (most recent call last)",
      "\u001b[0;32m/var/folders/4n/h7p57sb17sn7vtrtjz3m1xhr0000gn/T/ipykernel_3559/2421331652.py\u001b[0m in \u001b[0;36m<module>\u001b[0;34m\u001b[0m\n\u001b[0;32m----> 1\u001b[0;31m \u001b[0ma\u001b[0m\u001b[0;34m.\u001b[0m\u001b[0mremove\u001b[0m\u001b[0;34m(\u001b[0m\u001b[0;34m\"USDT\"\u001b[0m\u001b[0;34m)\u001b[0m\u001b[0;34m\u001b[0m\u001b[0;34m\u001b[0m\u001b[0m\n\u001b[0m",
      "\u001b[0;31mValueError\u001b[0m: list.remove(x): x not in list"
     ]
    }
   ],
   "source": [
    "a.remove(\"USDT\")"
   ]
  },
  {
   "cell_type": "code",
   "execution_count": 48,
   "id": "6e7681ff-af12-4226-8086-40fd78eb4972",
   "metadata": {},
   "outputs": [],
   "source": [
    "a = list(map(lambda x: f\"{x}USDT\", a))"
   ]
  },
  {
   "cell_type": "code",
   "execution_count": 49,
   "id": "c4122c3c-9c4d-4a1c-b651-bdb26a14095c",
   "metadata": {},
   "outputs": [
    {
     "data": {
      "text/plain": [
       "['DOTUSDT', 'BTCUSDT', 'SOLUSDT', 'ETHUSDT', 'ZECUSDT', 'XMRUSDT']"
      ]
     },
     "execution_count": 49,
     "metadata": {},
     "output_type": "execute_result"
    }
   ],
   "source": [
    "a"
   ]
  },
  {
   "cell_type": "code",
   "execution_count": 36,
   "id": "de91d3a6-f1de-4a87-ae2b-5a66cdfe58f7",
   "metadata": {},
   "outputs": [
    {
     "name": "stdout",
     "output_type": "stream",
     "text": [
      "USDT\n",
      "DOT\n",
      "BTC\n",
      "SOL\n",
      "ETH\n",
      "ZEC\n",
      "XMR\n"
     ]
    }
   ],
   "source": [
    "for asset in result:\n",
    "    print(asset['asset'])"
   ]
  },
  {
   "cell_type": "code",
   "execution_count": 3,
   "id": "3ef86bbd-061b-4ae7-8504-b16b359a3732",
   "metadata": {},
   "outputs": [
    {
     "name": "stdin",
     "output_type": "stream",
     "text": [
      "New btc price 17000\n",
      "new pct 69\n"
     ]
    },
    {
     "name": "stdout",
     "output_type": "stream",
     "text": [
      "Cash: 11730.0\n",
      "BTC: 0.31000000000000005, worth 5270.000000000001\n"
     ]
    },
    {
     "name": "stdin",
     "output_type": "stream",
     "text": [
      "New btc price 10000\n",
      "new pct 44\n"
     ]
    },
    {
     "name": "stdout",
     "output_type": "stream",
     "text": [
      "Cash: 6525.2\n",
      "BTC: 0.8304800000000001, worth 8304.800000000001\n"
     ]
    },
    {
     "name": "stdin",
     "output_type": "stream",
     "text": [
      "New btc price 10600\n",
      "new pct 49\n"
     ]
    },
    {
     "name": "stdout",
     "output_type": "stream",
     "text": [
      "Cash: 7510.861120000001\n",
      "BTC: 0.7374931018867925, worth 7817.426880000001\n"
     ]
    },
    {
     "name": "stdin",
     "output_type": "stream",
     "text": [
      "New btc price 6800\n",
      "new pct 30\n"
     ]
    },
    {
     "name": "stdout",
     "output_type": "stream",
     "text": [
      "Cash: 3757.744263849057\n",
      "BTC: 1.2894220513207548, worth 8768.069948981132\n"
     ]
    },
    {
     "name": "stdin",
     "output_type": "stream",
     "text": [
      "New btc price 9200\n",
      "new pct 43\n"
     ]
    },
    {
     "name": "stdout",
     "output_type": "stream",
     "text": [
      "Cash: 6716.78366848\n",
      "BTC: 0.9677873334260871, worth 8903.643467520002\n"
     ]
    },
    {
     "name": "stdin",
     "output_type": "stream",
     "text": [
      "New btc price 7400\n",
      "new pct 29\n"
     ]
    },
    {
     "name": "stdout",
     "output_type": "stream",
     "text": [
      "Cash: 4024.738881391583\n",
      "BTC: 1.3315771695191165, worth 9853.671054441462\n"
     ]
    },
    {
     "name": "stdin",
     "output_type": "stream",
     "text": [
      "New btc price 6300\n",
      "new pct 19\n"
     ]
    },
    {
     "name": "stdout",
     "output_type": "stream",
     "text": [
      "Cash: 2358.5982593787835\n",
      "BTC: 1.5960439349179736, worth 10055.076789983234\n"
     ]
    },
    {
     "name": "stdin",
     "output_type": "stream",
     "text": [
      "New btc price 7500\n",
      "new pct 32\n"
     ]
    },
    {
     "name": "stdout",
     "output_type": "stream",
     "text": [
      "Cash: 4585.256886804347\n",
      "BTC: 1.2991561179278983, worth 9743.670884459238\n"
     ]
    },
    {
     "name": "stdin",
     "output_type": "stream",
     "text": [
      "New btc price 7100\n",
      "new pct 28\n"
     ]
    },
    {
     "name": "stdout",
     "output_type": "stream",
     "text": [
      "Cash: 3866.594290745879\n",
      "BTC: 1.4003762018797952, worth 9942.671033346545\n"
     ]
    },
    {
     "name": "stdin",
     "output_type": "stream",
     "text": [
      "New btc price 6600\n",
      "new pct 23\n"
     ]
    },
    {
     "name": "stdout",
     "output_type": "stream",
     "text": [
      "Cash: 3015.0877613250805\n",
      "BTC: 1.5293923427011282, worth 10093.989461827447\n"
     ]
    },
    {
     "name": "stdin",
     "output_type": "stream",
     "text": [
      "New btc price 6300\n",
      "new pct 22\n"
     ]
    },
    {
     "name": "stdout",
     "output_type": "stream",
     "text": [
      "Cash: 2783.057094475282\n",
      "BTC: 1.5662226072804613, worth 9867.202425866906\n"
     ]
    },
    {
     "name": "stdin",
     "output_type": "stream",
     "text": [
      "New btc price 4100\n",
      "new pct 0\n"
     ]
    },
    {
     "name": "stdout",
     "output_type": "stream",
     "text": [
      "Cash: 4.547473508864641e-13\n",
      "BTC: 2.2450170205671154, worth 9204.569784325173\n"
     ]
    },
    {
     "name": "stdin",
     "output_type": "stream",
     "text": [
      "New btc price 4100\n",
      "new pct 11\n"
     ]
    },
    {
     "name": "stdout",
     "output_type": "stream",
     "text": [
      "Cash: 1012.5026762757693\n",
      "BTC: 1.9980651483047327, worth 8192.067108049405\n"
     ]
    },
    {
     "name": "stdin",
     "output_type": "stream",
     "text": [
      "New btc price 5400\n",
      "new pct 19\n"
     ]
    },
    {
     "name": "stdout",
     "output_type": "stream",
     "text": [
      "Cash: 2242.3903506530505\n",
      "BTC: 1.7703081715681992, worth 9559.664126468275\n"
     ]
    },
    {
     "name": "stdin",
     "output_type": "stream",
     "text": [
      "New btc price 8500\n",
      "new pct 42\n"
     ]
    },
    {
     "name": "stdout",
     "output_type": "stream",
     "text": [
      "Cash: 7261.804119772751\n",
      "BTC: 1.1797889046129404, worth 10028.205689209994\n"
     ]
    },
    {
     "name": "stdin",
     "output_type": "stream",
     "text": [
      "New btc price 10000\n",
      "new pct 57\n"
     ]
    },
    {
     "name": "stdout",
     "output_type": "stream",
     "text": [
      "Cash: 10864.025104564227\n",
      "BTC: 0.8195668061337928, worth 8195.668061337929\n"
     ]
    },
    {
     "name": "stdin",
     "output_type": "stream",
     "text": [
      "New btc price 10300\n",
      "new pct 48\n"
     ]
    },
    {
     "name": "stdout",
     "output_type": "stream",
     "text": [
      "Cash: 9266.670339716302\n",
      "BTC: 0.9746497930122322, worth 10038.892868025992\n"
     ]
    },
    {
     "name": "stdin",
     "output_type": "stream",
     "text": [
      "New btc price 8300\n",
      "new pct 31\n"
     ]
    },
    {
     "name": "stdout",
     "output_type": "stream",
     "text": [
      "Cash: 5380.441722732527\n",
      "BTC: 1.442870108311482, worth 11975.821898985301\n"
     ]
    },
    {
     "name": "stdin",
     "output_type": "stream",
     "text": [
      "New btc price 9200\n",
      "new pct 38\n"
     ]
    },
    {
     "name": "stdout",
     "output_type": "stream",
     "text": [
      "Cash: 7088.841753295303\n",
      "BTC: 1.2571744528155282, worth 11566.00496590286\n"
     ]
    },
    {
     "name": "stdin",
     "output_type": "stream",
     "text": [
      "New btc price 7400\n",
      "new pct 27\n"
     ]
    },
    {
     "name": "stdout",
     "output_type": "stream",
     "text": [
      "Cash: 4425.821830115157\n",
      "BTC: 1.6170420100020342, worth 11966.110874015052\n"
     ]
    },
    {
     "name": "stdin",
     "output_type": "stream",
     "text": [
      "New btc price 6900\n",
      "new pct 24\n"
     ]
    },
    {
     "name": "stdout",
     "output_type": "stream",
     "text": [
      "Cash: 3740.018807791006\n",
      "BTC: 1.7164337523678532, worth 11843.392891338188\n"
     ]
    },
    {
     "name": "stdin",
     "output_type": "stream",
     "text": [
      "New btc price 9300\n",
      "new pct 39\n"
     ]
    },
    {
     "name": "stdout",
     "output_type": "stream",
     "text": [
      "Cash: 7684.112554876696\n",
      "BTC: 1.2923376505306823, worth 12018.740149935345\n"
     ]
    },
    {
     "name": "stdin",
     "output_type": "stream",
     "text": [
      "New btc price 8500\n",
      "new pct 35\n"
     ]
    },
    {
     "name": "stdout",
     "output_type": "stream",
     "text": [
      "Cash: 6534.143904535624\n",
      "BTC: 1.4276280799825731, worth 12134.838679851871\n"
     ]
    },
    {
     "name": "stdin",
     "output_type": "stream",
     "text": [
      "New btc price 6600\n",
      "new pct 17\n"
     ]
    },
    {
     "name": "stdout",
     "output_type": "stream",
     "text": [
      "Cash: 2712.6031695115034\n",
      "BTC: 2.0066494034710765, worth 13243.886062909105\n"
     ]
    },
    {
     "name": "stdin",
     "output_type": "stream",
     "text": [
      "New btc price 8800\n",
      "new pct 35\n"
     ]
    },
    {
     "name": "stdout",
     "output_type": "stream",
     "text": [
      "Cash: 7129.891272019943\n",
      "BTC: 1.5046848463678446, worth 13241.226648037033\n"
     ]
    },
    {
     "name": "stdin",
     "output_type": "stream",
     "text": [
      "New btc price 9500\n",
      "new pct 40\n"
     ]
    },
    {
     "name": "stdout",
     "output_type": "stream",
     "text": [
      "Cash: 8569.758925005788\n",
      "BTC: 1.3531198302640715, worth 12854.63838750868\n"
     ]
    },
    {
     "name": "stdin",
     "output_type": "stream",
     "text": [
      "New btc price 9100\n",
      "new pct 37\n"
     ]
    },
    {
     "name": "stdout",
     "output_type": "stream",
     "text": [
      "Cash: 7726.76527075127\n",
      "BTC: 1.4457564955667659, worth 13156.384109657569\n"
     ]
    },
    {
     "name": "stdin",
     "output_type": "stream",
     "text": [
      "New btc price 11000\n",
      "new pct 47\n"
     ]
    },
    {
     "name": "stdout",
     "output_type": "stream",
     "text": [
      "Cash: 11106.140759333275\n",
      "BTC: 1.1385405420593109, worth 12523.94596265242\n"
     ]
    },
    {
     "name": "stdin",
     "output_type": "stream",
     "text": [
      "New btc price 11000\n",
      "new pct 48\n"
     ]
    },
    {
     "name": "stdout",
     "output_type": "stream",
     "text": [
      "Cash: 11342.441626553133\n",
      "BTC: 1.1170586450393238, worth 12287.645095432563\n"
     ]
    },
    {
     "name": "stdin",
     "output_type": "stream",
     "text": [
      "New btc price 10700\n",
      "new pct 42\n"
     ]
    },
    {
     "name": "stdout",
     "output_type": "stream",
     "text": [
      "Cash: 9783.887033959036\n",
      "BTC: 1.2627179527583983, worth 13511.08209451486\n"
     ]
    },
    {
     "name": "stdin",
     "output_type": "stream",
     "text": [
      "New btc price 13000\n",
      "new pct 52\n"
     ]
    },
    {
     "name": "stdout",
     "output_type": "stream",
     "text": [
      "Cash: 13623.59461830547\n",
      "BTC: 0.9673558308855956, worth 12575.625801512742\n"
     ]
    },
    {
     "name": "stdin",
     "output_type": "stream",
     "text": [
      "New btc price 18000\n",
      "new pct 60\n"
     ]
    },
    {
     "name": "stdout",
     "output_type": "stream",
     "text": [
      "Cash: 18621.599744547715\n",
      "BTC: 0.6896888794276931, worth 12414.399829698476\n"
     ]
    },
    {
     "name": "stdin",
     "output_type": "stream",
     "text": [
      "New btc price 32000\n",
      "new pct 69\n"
     ]
    },
    {
     "name": "stdout",
     "output_type": "stream",
     "text": [
      "Cash: 28077.234281501384\n",
      "BTC: 0.394200300147891, worth 12614.409604732511\n"
     ]
    },
    {
     "name": "stdin",
     "output_type": "stream",
     "text": [
      "New btc price 35000\n",
      "new pct 66\n"
     ]
    },
    {
     "name": "stdout",
     "output_type": "stream",
     "text": [
      "Cash: 27637.001559207198\n",
      "BTC: 0.4067783779277249, worth 14237.243227470371\n"
     ]
    },
    {
     "name": "stdin",
     "output_type": "stream",
     "text": [
      "New btc price 48000\n",
      "new pct 70\n"
     ]
    },
    {
     "name": "stdout",
     "output_type": "stream",
     "text": [
      "Cash: 33013.65458981659\n",
      "BTC: 0.29476477312336247, worth 14148.709109921398\n"
     ]
    },
    {
     "name": "stdin",
     "output_type": "stream",
     "text": [
      "New btc price 55000\n",
      "new pct 70\n"
     ]
    },
    {
     "name": "stdout",
     "output_type": "stream",
     "text": [
      "Cash: 34458.001978121065\n",
      "BTC: 0.2685039115178266, worth 14767.715133480462\n"
     ]
    },
    {
     "name": "stdin",
     "output_type": "stream",
     "text": [
      "New btc price 53000\n",
      "new pct 66\n"
     ]
    },
    {
     "name": "stdout",
     "output_type": "stream",
     "text": [
      "Cash: 32134.548130453477\n",
      "BTC: 0.3123426633606113, worth 16554.161158112398\n"
     ]
    },
    {
     "name": "stdin",
     "output_type": "stream",
     "text": [
      "New btc price 38000\n",
      "new pct 46\n"
     ]
    },
    {
     "name": "stdout",
     "output_type": "stream",
     "text": [
      "Cash: 20241.641895552086\n",
      "BTC: 0.6253138800685427, worth 23761.927442604625\n"
     ]
    },
    {
     "name": "stdin",
     "output_type": "stream",
     "text": [
      "New btc price 34000\n",
      "new pct 42\n"
     ]
    },
    {
     "name": "stdout",
     "output_type": "stream",
     "text": [
      "Cash: 17430.971803510663\n",
      "BTC: 0.7079806474815258, worth 24071.342014371876\n"
     ]
    },
    {
     "name": "stdin",
     "output_type": "stream",
     "text": [
      "New btc price 39000\n",
      "new pct 50\n"
     ]
    },
    {
     "name": "stdout",
     "output_type": "stream",
     "text": [
      "Cash: 22521.108527645087\n",
      "BTC: 0.5774643212216688, worth 22521.108527645083\n"
     ]
    },
    {
     "name": "stdin",
     "output_type": "stream",
     "text": [
      "New btc price 48000\n",
      "new pct 58\n"
     ]
    },
    {
     "name": "stdout",
     "output_type": "stream",
     "text": [
      "Cash: 29138.849648845404\n",
      "BTC: 0.43959471452999554, worth 21100.546297439785\n"
     ]
    },
    {
     "name": "stdin",
     "output_type": "stream",
     "text": [
      "New btc price 48000\n",
      "new pct 56\n"
     ]
    },
    {
     "name": "stdout",
     "output_type": "stream",
     "text": [
      "Cash: 28134.061729919707\n",
      "BTC: 0.4605277961742809, worth 22105.334216365485\n"
     ]
    },
    {
     "name": "stdin",
     "output_type": "stream",
     "text": [
      "New btc price 61000\n",
      "new pct 62\n"
     ]
    },
    {
     "name": "stdout",
     "output_type": "stream",
     "text": [
      "Cash: 34860.27952386152\n",
      "BTC: 0.3502619306998249, worth 21365.97777268932\n"
     ]
    },
    {
     "name": "stdin",
     "output_type": "stream",
     "text": [
      "New btc price 56000\n",
      "new pct 57\n"
     ]
    },
    {
     "name": "stdout",
     "output_type": "stream",
     "text": [
      "Cash: 31050.720156539475\n",
      "BTC: 0.41828977654486144, worth 23424.22748651224\n"
     ]
    },
    {
     "ename": "KeyboardInterrupt",
     "evalue": "Interrupted by user",
     "output_type": "error",
     "traceback": [
      "\u001b[0;31m---------------------------------------------------------------------------\u001b[0m",
      "\u001b[0;31mKeyboardInterrupt\u001b[0m                         Traceback (most recent call last)",
      "\u001b[0;32m/var/folders/4n/h7p57sb17sn7vtrtjz3m1xhr0000gn/T/ipykernel_15166/4061234339.py\u001b[0m in \u001b[0;36m<module>\u001b[0;34m\u001b[0m\n\u001b[1;32m      2\u001b[0m \u001b[0mbtc\u001b[0m \u001b[0;34m=\u001b[0m \u001b[0;36m0\u001b[0m\u001b[0;34m\u001b[0m\u001b[0;34m\u001b[0m\u001b[0m\n\u001b[1;32m      3\u001b[0m \u001b[0;32mwhile\u001b[0m \u001b[0;32mTrue\u001b[0m\u001b[0;34m:\u001b[0m\u001b[0;34m\u001b[0m\u001b[0;34m\u001b[0m\u001b[0m\n\u001b[0;32m----> 4\u001b[0;31m     \u001b[0mbtc_price\u001b[0m \u001b[0;34m=\u001b[0m \u001b[0mfloat\u001b[0m\u001b[0;34m(\u001b[0m\u001b[0minput\u001b[0m\u001b[0;34m(\u001b[0m\u001b[0;34m\"New btc price\"\u001b[0m\u001b[0;34m)\u001b[0m\u001b[0;34m)\u001b[0m\u001b[0;34m\u001b[0m\u001b[0;34m\u001b[0m\u001b[0m\n\u001b[0m\u001b[1;32m      5\u001b[0m     \u001b[0mpct\u001b[0m \u001b[0;34m=\u001b[0m \u001b[0;34m(\u001b[0m\u001b[0;36m1\u001b[0m\u001b[0;34m-\u001b[0m\u001b[0mfloat\u001b[0m\u001b[0;34m(\u001b[0m\u001b[0minput\u001b[0m\u001b[0;34m(\u001b[0m\u001b[0;34m\"new pct\"\u001b[0m\u001b[0;34m)\u001b[0m\u001b[0;34m)\u001b[0m\u001b[0;34m/\u001b[0m\u001b[0;36m100\u001b[0m\u001b[0;34m)\u001b[0m\u001b[0;34m\u001b[0m\u001b[0;34m\u001b[0m\u001b[0m\n\u001b[1;32m      6\u001b[0m \u001b[0;34m\u001b[0m\u001b[0m\n",
      "\u001b[0;32m~/Documents/Programming/ytprinter/env/lib/python3.9/site-packages/ipykernel/kernelbase.py\u001b[0m in \u001b[0;36mraw_input\u001b[0;34m(self, prompt)\u001b[0m\n\u001b[1;32m   1004\u001b[0m                 \u001b[0;34m\"raw_input was called, but this frontend does not support input requests.\"\u001b[0m\u001b[0;34m\u001b[0m\u001b[0;34m\u001b[0m\u001b[0m\n\u001b[1;32m   1005\u001b[0m             )\n\u001b[0;32m-> 1006\u001b[0;31m         return self._input_request(\n\u001b[0m\u001b[1;32m   1007\u001b[0m             \u001b[0mstr\u001b[0m\u001b[0;34m(\u001b[0m\u001b[0mprompt\u001b[0m\u001b[0;34m)\u001b[0m\u001b[0;34m,\u001b[0m\u001b[0;34m\u001b[0m\u001b[0;34m\u001b[0m\u001b[0m\n\u001b[1;32m   1008\u001b[0m             \u001b[0mself\u001b[0m\u001b[0;34m.\u001b[0m\u001b[0m_parent_ident\u001b[0m\u001b[0;34m[\u001b[0m\u001b[0;34m\"shell\"\u001b[0m\u001b[0;34m]\u001b[0m\u001b[0;34m,\u001b[0m\u001b[0;34m\u001b[0m\u001b[0;34m\u001b[0m\u001b[0m\n",
      "\u001b[0;32m~/Documents/Programming/ytprinter/env/lib/python3.9/site-packages/ipykernel/kernelbase.py\u001b[0m in \u001b[0;36m_input_request\u001b[0;34m(self, prompt, ident, parent, password)\u001b[0m\n\u001b[1;32m   1049\u001b[0m             \u001b[0;32mexcept\u001b[0m \u001b[0mKeyboardInterrupt\u001b[0m\u001b[0;34m:\u001b[0m\u001b[0;34m\u001b[0m\u001b[0;34m\u001b[0m\u001b[0m\n\u001b[1;32m   1050\u001b[0m                 \u001b[0;31m# re-raise KeyboardInterrupt, to truncate traceback\u001b[0m\u001b[0;34m\u001b[0m\u001b[0;34m\u001b[0m\u001b[0m\n\u001b[0;32m-> 1051\u001b[0;31m                 \u001b[0;32mraise\u001b[0m \u001b[0mKeyboardInterrupt\u001b[0m\u001b[0;34m(\u001b[0m\u001b[0;34m\"Interrupted by user\"\u001b[0m\u001b[0;34m)\u001b[0m \u001b[0;32mfrom\u001b[0m \u001b[0;32mNone\u001b[0m\u001b[0;34m\u001b[0m\u001b[0;34m\u001b[0m\u001b[0m\n\u001b[0m\u001b[1;32m   1052\u001b[0m             \u001b[0;32mexcept\u001b[0m \u001b[0mException\u001b[0m\u001b[0;34m:\u001b[0m\u001b[0;34m\u001b[0m\u001b[0;34m\u001b[0m\u001b[0m\n\u001b[1;32m   1053\u001b[0m                 \u001b[0mself\u001b[0m\u001b[0;34m.\u001b[0m\u001b[0mlog\u001b[0m\u001b[0;34m.\u001b[0m\u001b[0mwarning\u001b[0m\u001b[0;34m(\u001b[0m\u001b[0;34m\"Invalid Message:\"\u001b[0m\u001b[0;34m,\u001b[0m \u001b[0mexc_info\u001b[0m\u001b[0;34m=\u001b[0m\u001b[0;32mTrue\u001b[0m\u001b[0;34m)\u001b[0m\u001b[0;34m\u001b[0m\u001b[0;34m\u001b[0m\u001b[0m\n",
      "\u001b[0;31mKeyboardInterrupt\u001b[0m: Interrupted by user"
     ]
    }
   ],
   "source": [
    "cash = 17000\n",
    "btc = 0\n",
    "while True:\n",
    "    btc_price = float(input(\"New btc price\"))\n",
    "    pct = (1-float(input(\"new pct\"))/100)\n",
    "    \n",
    "    total = cash+(btc*btc_price)\n",
    "    # if (btc*btc_price)/total > pct:\n",
    "    trade_pct = pct - (btc*btc_price)/total\n",
    "    trade_amt = trade_pct*total\n",
    "    trade_amt_btc = trade_amt/btc_price\n",
    "    btc += trade_amt_btc\n",
    "    cash -= trade_amt_btc*btc_price\n",
    "    \n",
    "    print(f\"Cash: {cash}\")\n",
    "    print(f\"BTC: {btc}, worth {btc*btc_price}\")\n",
    "\n"
   ]
  },
  {
   "cell_type": "code",
   "execution_count": null,
   "id": "faba4986-f21d-4896-98c7-ac2e4c1d4d8e",
   "metadata": {},
   "outputs": [],
   "source": []
  },
  {
   "cell_type": "code",
   "execution_count": null,
   "id": "fa066e35-6c78-4d04-a18e-4c8f215c84f1",
   "metadata": {},
   "outputs": [],
   "source": []
  },
  {
   "cell_type": "code",
   "execution_count": null,
   "id": "0f0b9fe4-2a07-483c-a121-841b89740808",
   "metadata": {},
   "outputs": [],
   "source": []
  },
  {
   "cell_type": "code",
   "execution_count": null,
   "id": "8430515c-4022-4e54-a0c7-4c8f3f23c9c1",
   "metadata": {},
   "outputs": [],
   "source": []
  },
  {
   "cell_type": "code",
   "execution_count": null,
   "id": "becc423b-a3dc-4c65-badf-e282a5f7c47e",
   "metadata": {},
   "outputs": [],
   "source": []
  },
  {
   "cell_type": "code",
   "execution_count": 2,
   "id": "501e37e7-ebd1-4926-98d6-2711f79de2a4",
   "metadata": {},
   "outputs": [],
   "source": [
    "import binance_helpers as bh"
   ]
  },
  {
   "cell_type": "code",
   "execution_count": 3,
   "id": "792df544-25d6-45d6-b9f4-14a72a008e6c",
   "metadata": {},
   "outputs": [],
   "source": [
    "import time"
   ]
  },
  {
   "cell_type": "code",
   "execution_count": 10,
   "id": "07108381-0e69-4751-a80c-0a819bd90723",
   "metadata": {},
   "outputs": [
    {
     "data": {
      "text/plain": [
       "0.36345720291137695"
      ]
     },
     "execution_count": 10,
     "metadata": {},
     "output_type": "execute_result"
    }
   ],
   "source": [
    "a = time.time()\n",
    "client = bh.new_binance_client()\n",
    "time.time()-a"
   ]
  },
  {
   "cell_type": "code",
   "execution_count": 118,
   "id": "fe816e8d-5af0-461e-9eda-036e8e9e7c2c",
   "metadata": {},
   "outputs": [
    {
     "data": {
      "text/plain": [
       "[{'name': 'A', 'marked': 0, 'edges': [{'to': 'B', 'marked': 0}]},\n",
       " {'name': 'B', 'marked': 0, 'edges': [{'to': 'C', 'marked': 0}]},\n",
       " {'name': 'C', 'marked': 0, 'edges': []}]"
      ]
     },
     "execution_count": 118,
     "metadata": {},
     "output_type": "execute_result"
    }
   ],
   "source": [
    "graph = [\n",
    "    {\"name\":\"A\",\n",
    "     \"marked\":0,\n",
    "     \"edges\":[{\"to\":\"B\", \"marked\":0}]},\n",
    "    {\"name\":\"B\",\n",
    "     \"marked\":0,\n",
    "     \"edges\":[{\"to\":\"C\", \"marked\":0}]},\n",
    "    {\"name\":\"C\",\n",
    "     \"marked\":0,\n",
    "     \"edges\":[]}\n",
    "]\n",
    "graph"
   ]
  },
  {
   "cell_type": "code",
   "execution_count": 119,
   "id": "c6b9844f-12ee-4dcf-b42c-37a14186c6a0",
   "metadata": {},
   "outputs": [],
   "source": [
    "seq = []"
   ]
  },
  {
   "cell_type": "code",
   "execution_count": 120,
   "id": "df4891e4-35aa-437c-a60a-180b6286c6fc",
   "metadata": {},
   "outputs": [],
   "source": [
    "def DFSValid(G):\n",
    "    global seq\n",
    "    ## ASSUME ALL UNMARKED\n",
    "    for v in G:\n",
    "        if v['marked'] == 0:\n",
    "            DFS(G, v)\n",
    "            \n",
    "            \n",
    "    return seq"
   ]
  },
  {
   "cell_type": "code",
   "execution_count": 121,
   "id": "c9e8f7d8-a67d-467e-acd2-5b41e37a2978",
   "metadata": {},
   "outputs": [],
   "source": [
    "def DFS(G, v):\n",
    "    v['marked'] = 1\n",
    "    for w in v[\"edges\"]:\n",
    "        print(w['to'])\n",
    "        print(graph[find_ind(G, w['to'])])\n",
    "\n",
    "        if graph[find_ind(G, w['to'])]['marked'] == 0:\n",
    "            w['marked'] == \"TREE\"\n",
    "            DFS(G, graph[find_ind(G, w['to'])])\n",
    "        elif w['marked'] == 0: \n",
    "            w['marked'] == \"NONTREE\"\n"
   ]
  },
  {
   "cell_type": "code",
   "execution_count": 122,
   "id": "1df45b9e-674e-4194-aa5b-87d0b9eff305",
   "metadata": {},
   "outputs": [],
   "source": [
    "def find_ind(G, name):\n",
    "    for i in range(len(G)):\n",
    "        if G[i][\"name\"] == name:\n",
    "            return i"
   ]
  },
  {
   "cell_type": "code",
   "execution_count": 123,
   "id": "d65016b2-530b-4bec-b546-30a625c035ef",
   "metadata": {},
   "outputs": [
    {
     "name": "stdout",
     "output_type": "stream",
     "text": [
      "B\n",
      "{'name': 'B', 'marked': 0, 'edges': [{'to': 'C', 'marked': 0}]}\n",
      "C\n",
      "{'name': 'C', 'marked': 0, 'edges': []}\n"
     ]
    },
    {
     "data": {
      "text/plain": [
       "[]"
      ]
     },
     "execution_count": 123,
     "metadata": {},
     "output_type": "execute_result"
    }
   ],
   "source": [
    "DFSValid(graph)"
   ]
  },
  {
   "cell_type": "code",
   "execution_count": 116,
   "id": "326d8d60-21d8-494e-9c28-6fade0b203fd",
   "metadata": {},
   "outputs": [
    {
     "data": {
      "text/plain": [
       "[{'name': 'A', 'marked': 1, 'edges': [{'to': 'B', 'marked': 0}]},\n",
       " {'name': 'B', 'marked': 1, 'edges': [{'to': 'C', 'marked': 0}]},\n",
       " {'name': 'C', 'marked': 1, 'edges': []}]"
      ]
     },
     "execution_count": 116,
     "metadata": {},
     "output_type": "execute_result"
    }
   ],
   "source": [
    "graph"
   ]
  },
  {
   "cell_type": "code",
   "execution_count": 8,
   "id": "970225d4-be10-4746-ba7c-ce734e6430b6",
   "metadata": {},
   "outputs": [],
   "source": [
    "def test():\n",
    "    a = [1, 2, 3]\n",
    "    for item in a:\n",
    "        test1(item)"
   ]
  },
  {
   "cell_type": "code",
   "execution_count": null,
   "id": "b298429e-4374-4492-a695-b51443b5286e",
   "metadata": {},
   "outputs": [],
   "source": [
    "def test1(item):\n",
    "    "
   ]
  }
 ],
 "metadata": {
  "kernelspec": {
   "display_name": "Python 3 (ipykernel)",
   "language": "python",
   "name": "python3"
  },
  "language_info": {
   "codemirror_mode": {
    "name": "ipython",
    "version": 3
   },
   "file_extension": ".py",
   "mimetype": "text/x-python",
   "name": "python",
   "nbconvert_exporter": "python",
   "pygments_lexer": "ipython3",
   "version": "3.9.7"
  }
 },
 "nbformat": 4,
 "nbformat_minor": 5
}
