{
 "cells": [
  {
   "cell_type": "markdown",
   "id": "4215a6ed-7880-4f18-9bc7-23c4d3123407",
   "metadata": {},
   "source": [
    "# Model scaffold v0\n",
    "Heavily based off of prototype"
   ]
  },
  {
   "cell_type": "code",
   "execution_count": 1,
   "id": "b9d15d5b-b79e-4a06-9af3-830763d6eb79",
   "metadata": {},
   "outputs": [],
   "source": [
    "import pandas as pd\n",
    "import numpy as np"
   ]
  },
  {
   "cell_type": "code",
   "execution_count": 5,
   "id": "dc38d50a-78e1-404f-a121-3b9650654ff0",
   "metadata": {},
   "outputs": [],
   "source": [
    "a = pd.read_csv(\"../data/model/ARDRUSDT-past.csv\")\n",
    "b = pd.read_csv(\"../data/model/LSKUSDT-past.csv\")"
   ]
  },
  {
   "cell_type": "code",
   "execution_count": 11,
   "id": "8444ef4b-110d-4e12-b15d-fc9fe02f1b01",
   "metadata": {},
   "outputs": [],
   "source": [
    "a = a.set_index(\"timestamp\") #Do not set inplace cause reference\n",
    "b = b.set_index(\"timestamp\")"
   ]
  },
  {
   "cell_type": "code",
   "execution_count": 15,
   "id": "016d2beb-aabf-46ac-bedf-34df63e617f4",
   "metadata": {},
   "outputs": [],
   "source": [
    "df = pd.to_numeric(a.open.rename(\"A\")).to_frame()\n",
    "df[\"B\"] = pd.to_numeric(b.open)"
   ]
  },
  {
   "cell_type": "code",
   "execution_count": 18,
   "id": "126cf742-e3f1-4e29-b8e5-6819fd40c879",
   "metadata": {},
   "outputs": [
    {
     "ename": "AttributeError",
     "evalue": "'DataFrame' object has no attribute 'drop_na'",
     "output_type": "error",
     "traceback": [
      "\u001b[0;31m---------------------------------------------------------------------------\u001b[0m",
      "\u001b[0;31mAttributeError\u001b[0m                            Traceback (most recent call last)",
      "\u001b[0;32m<ipython-input-18-a1d14f71c680>\u001b[0m in \u001b[0;36m<module>\u001b[0;34m\u001b[0m\n\u001b[0;32m----> 1\u001b[0;31m \u001b[0mdf\u001b[0m\u001b[0;34m.\u001b[0m\u001b[0mdrop_na\u001b[0m\u001b[0;34m(\u001b[0m\u001b[0minplace\u001b[0m\u001b[0;34m=\u001b[0m\u001b[0;32mTrue\u001b[0m\u001b[0;34m)\u001b[0m\u001b[0;34m\u001b[0m\u001b[0;34m\u001b[0m\u001b[0m\n\u001b[0m",
      "\u001b[0;32m/Volumes/Storage/Programming/crypto-printer/env/lib/python3.9/site-packages/pandas/core/generic.py\u001b[0m in \u001b[0;36m__getattr__\u001b[0;34m(self, name)\u001b[0m\n\u001b[1;32m   5476\u001b[0m         ):\n\u001b[1;32m   5477\u001b[0m             \u001b[0;32mreturn\u001b[0m \u001b[0mself\u001b[0m\u001b[0;34m[\u001b[0m\u001b[0mname\u001b[0m\u001b[0;34m]\u001b[0m\u001b[0;34m\u001b[0m\u001b[0;34m\u001b[0m\u001b[0m\n\u001b[0;32m-> 5478\u001b[0;31m         \u001b[0;32mreturn\u001b[0m \u001b[0mobject\u001b[0m\u001b[0;34m.\u001b[0m\u001b[0m__getattribute__\u001b[0m\u001b[0;34m(\u001b[0m\u001b[0mself\u001b[0m\u001b[0;34m,\u001b[0m \u001b[0mname\u001b[0m\u001b[0;34m)\u001b[0m\u001b[0;34m\u001b[0m\u001b[0;34m\u001b[0m\u001b[0m\n\u001b[0m\u001b[1;32m   5479\u001b[0m \u001b[0;34m\u001b[0m\u001b[0m\n\u001b[1;32m   5480\u001b[0m     \u001b[0;32mdef\u001b[0m \u001b[0m__setattr__\u001b[0m\u001b[0;34m(\u001b[0m\u001b[0mself\u001b[0m\u001b[0;34m,\u001b[0m \u001b[0mname\u001b[0m\u001b[0;34m:\u001b[0m \u001b[0mstr\u001b[0m\u001b[0;34m,\u001b[0m \u001b[0mvalue\u001b[0m\u001b[0;34m)\u001b[0m \u001b[0;34m->\u001b[0m \u001b[0;32mNone\u001b[0m\u001b[0;34m:\u001b[0m\u001b[0;34m\u001b[0m\u001b[0;34m\u001b[0m\u001b[0m\n",
      "\u001b[0;31mAttributeError\u001b[0m: 'DataFrame' object has no attribute 'drop_na'"
     ]
    }
   ],
   "source": [
    "df.drop_na(inplace=True)"
   ]
  },
  {
   "cell_type": "code",
   "execution_count": 1,
   "id": "8bd68566-d19c-4e04-b9c2-2e847b5989be",
   "metadata": {},
   "outputs": [],
   "source": [
    "# Imports\n",
    "from binance.client import Client\n",
    "# from binance.enums import * #https://github.com/sammchardy/python-binance/blob/master/binance/enums.py\n",
    "\n",
    "# import schedule\n",
    "import time\n",
    "# from datetime import datetime, timedelta\n",
    "\n",
    "# import statsmodels.formula.api as sm\n",
    "import matplotlib.pyplot as plt\n",
    "import pandas as pd\n",
    "import numpy as np\n",
    "\n",
    "# python files\n",
    "from downloader import Downloader\n",
    "from magic import Magic\n",
    "import binance_helpers as bh\n",
    "\n",
    "from IPython.display import clear_output\n",
    "\n",
    "client = bh.new_binance_client()\n",
    "\n",
    "mode = 2"
   ]
  },
  {
   "cell_type": "code",
   "execution_count": 2,
   "id": "359260fc-f821-4d14-9efc-f0ff96a5281e",
   "metadata": {},
   "outputs": [],
   "source": [
    "from downloader import Downloader\n",
    "dl = Downloader()"
   ]
  },
  {
   "cell_type": "code",
   "execution_count": 5,
   "id": "e4dd63ab-184f-4f45-ab14-92915ed3ad8a",
   "metadata": {},
   "outputs": [
    {
     "name": "stdout",
     "output_type": "stream",
     "text": [
      "DL: read_df for LSKUSDT\n"
     ]
    }
   ],
   "source": [
    "df = dl.read_df(\"LSKUSDT\")"
   ]
  },
  {
   "cell_type": "code",
   "execution_count": 4,
   "id": "23a301f9-dafd-46a8-a83d-a30b97bb2d3a",
   "metadata": {},
   "outputs": [
    {
     "data": {
      "text/html": [
       "<div>\n",
       "<style scoped>\n",
       "    .dataframe tbody tr th:only-of-type {\n",
       "        vertical-align: middle;\n",
       "    }\n",
       "\n",
       "    .dataframe tbody tr th {\n",
       "        vertical-align: top;\n",
       "    }\n",
       "\n",
       "    .dataframe thead th {\n",
       "        text-align: right;\n",
       "    }\n",
       "</style>\n",
       "<table border=\"1\" class=\"dataframe\">\n",
       "  <thead>\n",
       "    <tr style=\"text-align: right;\">\n",
       "      <th></th>\n",
       "      <th>timestamp</th>\n",
       "      <th>open</th>\n",
       "    </tr>\n",
       "  </thead>\n",
       "  <tbody>\n",
       "    <tr>\n",
       "      <th>651697</th>\n",
       "      <td>1628701200000</td>\n",
       "      <td>0.27336</td>\n",
       "    </tr>\n",
       "    <tr>\n",
       "      <th>651698</th>\n",
       "      <td>1628701260000</td>\n",
       "      <td>0.27282</td>\n",
       "    </tr>\n",
       "  </tbody>\n",
       "</table>\n",
       "</div>"
      ],
      "text/plain": [
       "            timestamp     open\n",
       "651697  1628701200000  0.27336\n",
       "651698  1628701260000  0.27282"
      ]
     },
     "execution_count": 4,
     "metadata": {},
     "output_type": "execute_result"
    }
   ],
   "source": [
    "df.tail(2)"
   ]
  },
  {
   "cell_type": "code",
   "execution_count": 6,
   "id": "9bbfc259-cf24-4765-a806-7b7b5bd5e773",
   "metadata": {},
   "outputs": [
    {
     "data": {
      "text/html": [
       "<div>\n",
       "<style scoped>\n",
       "    .dataframe tbody tr th:only-of-type {\n",
       "        vertical-align: middle;\n",
       "    }\n",
       "\n",
       "    .dataframe tbody tr th {\n",
       "        vertical-align: top;\n",
       "    }\n",
       "\n",
       "    .dataframe thead th {\n",
       "        text-align: right;\n",
       "    }\n",
       "</style>\n",
       "<table border=\"1\" class=\"dataframe\">\n",
       "  <thead>\n",
       "    <tr style=\"text-align: right;\">\n",
       "      <th></th>\n",
       "      <th>timestamp</th>\n",
       "      <th>open</th>\n",
       "    </tr>\n",
       "  </thead>\n",
       "  <tbody>\n",
       "    <tr>\n",
       "      <th>793445</th>\n",
       "      <td>1628701200000</td>\n",
       "      <td>4.1595</td>\n",
       "    </tr>\n",
       "    <tr>\n",
       "      <th>793446</th>\n",
       "      <td>1628701260000</td>\n",
       "      <td>4.1516</td>\n",
       "    </tr>\n",
       "  </tbody>\n",
       "</table>\n",
       "</div>"
      ],
      "text/plain": [
       "            timestamp    open\n",
       "793445  1628701200000  4.1595\n",
       "793446  1628701260000  4.1516"
      ]
     },
     "execution_count": 6,
     "metadata": {},
     "output_type": "execute_result"
    }
   ],
   "source": [
    "df.tail(2)"
   ]
  },
  {
   "cell_type": "code",
   "execution_count": 1,
   "id": "dcc6cbfe-ba64-4b75-959e-1820a34f8d4d",
   "metadata": {},
   "outputs": [
    {
     "name": "stdout",
     "output_type": "stream",
     "text": [
      "STARTING STRATS LOOP\n",
      "STARTING STRATS LOOP FOR ARDRUSDT and LSKUSDT\n",
      "Model: get_position_and_max_trade_value\n",
      "Model: get_portfolio_value with btc_price 46722.39 with # of strats: 2\n",
      "Model: get_pair_value for pair:ARDRUSDT\n",
      "Model: get_pair_value for pair:LSKUSDT\n",
      "Model: get_pair_value for pair:CELRUSDT\n",
      "Model: get_pair_value for pair:FETUSDT\n",
      "Model: get_pair_value for pair:ARDRUSDT\n",
      "Model: get_pair_value for pair:LSKUSDT\n",
      "MODEL: pv=76.58218978530002, sv=51.001999999999995\n",
      "Model: is_short for pair: ARDRUSDT\n",
      "Model: is_short for pair: LSKUSDT\n",
      "Strat: consider trading\n",
      "Strat: update_data\n",
      "DL: update_data for pair:ARDRUSDT\n",
      "DL: binance_download for ARDRUSDT and start 1628710260000.0\n",
      "DL: get_filtered_dataframe\n",
      "DL: update_data for pair:LSKUSDT\n",
      "DL: binance_download for LSKUSDT and start 1628710260000.0\n",
      "DL: get_filtered_dataframe\n",
      "NON-NAN ZSCORE IS: 0.8034184205945994\n",
      "Strat: consider_liquidating\n",
      "Strat: consider_long_short\n",
      "ENDING STRATS LOOP FOR ARDRUSDT and LSKUSDT\n",
      "Strat: save_data, with last save 1628710260000.0\n",
      "DL: save_df_fast for ARDRUSDT with timestamp 1628710260000.0, latest df timestamp 1628975460000.0\n",
      "DL: save_df_fast for LSKUSDT with timestamp 1628710260000.0, latest df timestamp 1628975460000.0\n",
      "STARTING STRATS LOOP FOR CELRUSDT and FETUSDT\n",
      "Model: get_position_and_max_trade_value\n",
      "Model: get_portfolio_value with btc_price 46725.22 with # of strats: 2\n",
      "Model: get_pair_value for pair:ARDRUSDT\n",
      "Model: get_pair_value for pair:LSKUSDT\n",
      "Model: get_pair_value for pair:CELRUSDT\n",
      "Model: get_pair_value for pair:FETUSDT\n",
      "Model: get_pair_value for pair:CELRUSDT\n",
      "Model: get_pair_value for pair:FETUSDT\n",
      "MODEL: pv=76.58173178720001, sv=0.27336370720000003\n",
      "Model: is_short for pair: CELRUSDT\n",
      "Model: is_short for pair: FETUSDT\n",
      "Strat: consider trading\n",
      "Strat: update_data\n",
      "DL: update_data for pair:CELRUSDT\n",
      "DL: binance_download for CELRUSDT and start 1628889060000.0\n",
      "DL: get_filtered_dataframe\n",
      "DL: update_data for pair:FETUSDT\n",
      "DL: binance_download for FETUSDT and start 1628889000000.0\n",
      "DL: get_filtered_dataframe\n",
      "NON-NAN ZSCORE IS: -1.8440732176641839\n",
      "Strat: consider_liquidating\n",
      "Strat: consider_long_short\n",
      "ENDING STRATS LOOP FOR CELRUSDT and FETUSDT\n",
      "Strat: save_data, with last save 1628889060000.0\n",
      "DL: save_df_fast for CELRUSDT with timestamp 1628889060000.0, latest df timestamp 1628975460000.0\n",
      "DL: save_df_fast for FETUSDT with timestamp 1628889000000.0, latest df timestamp 1628975460000.0\n",
      "Current Time = 14:11:12\n",
      "Current Time = 14:11:13\n",
      "Current Time = 14:11:14\n",
      "Current Time = 14:11:15\n",
      "Current Time = 14:11:16\n",
      "Current Time = 14:11:17\n",
      "Current Time = 14:11:18\n",
      "Current Time = 14:11:19\n",
      "Current Time = 14:11:20\n",
      "Current Time = 14:11:21\n",
      "Current Time = 14:11:22\n",
      "Current Time = 14:11:23\n",
      "Current Time = 14:11:24\n",
      "Current Time = 14:11:25\n",
      "Current Time = 14:11:26\n",
      "Current Time = 14:11:27\n",
      "Current Time = 14:11:28\n",
      "Current Time = 14:11:29\n",
      "Current Time = 14:11:30\n",
      "Current Time = 14:11:31\n",
      "Current Time = 14:11:32\n",
      "Current Time = 14:11:33\n",
      "Current Time = 14:11:34\n",
      "Current Time = 14:11:35\n",
      "Current Time = 14:11:36\n",
      "Current Time = 14:11:37\n",
      "Current Time = 14:11:38\n",
      "Current Time = 14:11:39\n",
      "Current Time = 14:11:40\n",
      "Current Time = 14:11:41\n",
      "Current Time = 14:11:42\n",
      "Current Time = 14:11:43\n",
      "Current Time = 14:11:44\n",
      "Current Time = 14:11:45\n",
      "Current Time = 14:11:46\n",
      "Current Time = 14:11:47\n",
      "Current Time = 14:11:48\n",
      "Current Time = 14:11:49\n"
     ]
    },
    {
     "ename": "KeyboardInterrupt",
     "evalue": "",
     "output_type": "error",
     "traceback": [
      "\u001b[0;31m---------------------------------------------------------------------------\u001b[0m",
      "\u001b[0;31mKeyboardInterrupt\u001b[0m                         Traceback (most recent call last)",
      "\u001b[0;32m<ipython-input-1-76091113ce7d>\u001b[0m in \u001b[0;36m<module>\u001b[0;34m\u001b[0m\n\u001b[1;32m     11\u001b[0m \u001b[0mprinter\u001b[0m \u001b[0;34m=\u001b[0m \u001b[0mModel\u001b[0m\u001b[0;34m(\u001b[0m\u001b[0mstrats\u001b[0m\u001b[0;34m,\u001b[0m \u001b[0mmin_trade_amt\u001b[0m\u001b[0;34m=\u001b[0m\u001b[0;36m12\u001b[0m\u001b[0;34m)\u001b[0m\u001b[0;34m\u001b[0m\u001b[0;34m\u001b[0m\u001b[0m\n\u001b[1;32m     12\u001b[0m \u001b[0mprint\u001b[0m\u001b[0;34m(\u001b[0m\u001b[0;34m\"Running printer...\"\u001b[0m\u001b[0;34m)\u001b[0m\u001b[0;34m\u001b[0m\u001b[0;34m\u001b[0m\u001b[0m\n\u001b[0;32m---> 13\u001b[0;31m \u001b[0mprinter\u001b[0m\u001b[0;34m.\u001b[0m\u001b[0mturn_on\u001b[0m\u001b[0;34m(\u001b[0m\u001b[0;34m)\u001b[0m\u001b[0;34m\u001b[0m\u001b[0;34m\u001b[0m\u001b[0m\n\u001b[0m",
      "\u001b[0;32m/Volumes/Storage/Programming/crypto-printer/model/model.py\u001b[0m in \u001b[0;36mturn_on\u001b[0;34m(self)\u001b[0m\n\u001b[1;32m     62\u001b[0m             \u001b[0mcurrent_time\u001b[0m \u001b[0;34m=\u001b[0m \u001b[0mnow\u001b[0m\u001b[0;34m.\u001b[0m\u001b[0mstrftime\u001b[0m\u001b[0;34m(\u001b[0m\u001b[0;34m\"%H:%M:%S\"\u001b[0m\u001b[0;34m)\u001b[0m\u001b[0;34m\u001b[0m\u001b[0;34m\u001b[0m\u001b[0m\n\u001b[1;32m     63\u001b[0m             \u001b[0mprint\u001b[0m\u001b[0;34m(\u001b[0m\u001b[0;34m\"Current Time =\"\u001b[0m\u001b[0;34m,\u001b[0m \u001b[0mcurrent_time\u001b[0m\u001b[0;34m)\u001b[0m\u001b[0;34m\u001b[0m\u001b[0;34m\u001b[0m\u001b[0m\n\u001b[0;32m---> 64\u001b[0;31m             \u001b[0mtime\u001b[0m\u001b[0;34m.\u001b[0m\u001b[0msleep\u001b[0m\u001b[0;34m(\u001b[0m\u001b[0;36m1\u001b[0m\u001b[0;34m)\u001b[0m\u001b[0;34m\u001b[0m\u001b[0;34m\u001b[0m\u001b[0m\n\u001b[0m\u001b[1;32m     65\u001b[0m \u001b[0;34m\u001b[0m\u001b[0m\n\u001b[1;32m     66\u001b[0m \u001b[0;34m\u001b[0m\u001b[0m\n",
      "\u001b[0;31mKeyboardInterrupt\u001b[0m: "
     ]
    }
   ],
   "source": [
    "print(\"Importing...\")\n",
    "from strategy import Strategy\n",
    "from model import Model\n",
    "print(\"Init strats...\")\n",
    "#🛑 DO NOT RUN UNTIL ALL CODE IS FINISHED\n",
    "strats = [\n",
    "    Strategy(\"ARDRUSDT\", \"LSKUSDT\", 4, 0, 3000, 1.),\n",
    "    Strategy(\"CELRUSDT\", \"FETUSDT\", 3, 0, 4000, 1.)\n",
    "]\n",
    "print(\"Init printer\")\n",
    "printer = Model(strats, min_trade_amt=12)\n",
    "print(\"Running printer...\")\n",
    "printer.turn_on()"
   ]
  },
  {
   "cell_type": "code",
   "execution_count": 115,
   "id": "9b1b642a-38f8-4695-a387-6b8d77de0873",
   "metadata": {},
   "outputs": [
    {
     "data": {
      "text/plain": [
       "{'asset': 'FET',\n",
       " 'borrowEnabled': True,\n",
       " 'borrowed': '0',\n",
       " 'free': '0.14289781',\n",
       " 'interest': '0',\n",
       " 'locked': '0',\n",
       " 'netAsset': '0.14289781',\n",
       " 'netAssetOfBtc': '0.00000137',\n",
       " 'repayEnabled': True,\n",
       " 'totalAsset': '0.14289781'}"
      ]
     },
     "execution_count": 115,
     "metadata": {},
     "output_type": "execute_result"
    }
   ],
   "source": [
    "bh.get_margin_asset(client, \"FET\")"
   ]
  },
  {
   "cell_type": "code",
   "execution_count": 7,
   "id": "fbef0541-921a-445a-a946-dae21bbbfdf3",
   "metadata": {},
   "outputs": [],
   "source": [
    "import messenger\n",
    "message = messenger.get_history()"
   ]
  },
  {
   "cell_type": "code",
   "execution_count": 8,
   "id": "b77857d3-b549-4e73-800e-72d88d159425",
   "metadata": {},
   "outputs": [],
   "source": [
    "message"
   ]
  },
  {
   "cell_type": "code",
   "execution_count": 8,
   "id": "d9df2187-d755-4c13-b888-ef3b4464ecf7",
   "metadata": {},
   "outputs": [],
   "source": [
    "import json"
   ]
  },
  {
   "cell_type": "code",
   "execution_count": 9,
   "id": "a9323a2a-1aee-4c4e-a814-bf78c424ce68",
   "metadata": {},
   "outputs": [],
   "source": [
    "message = None\n",
    "with open('message.txt') as json_file:\n",
    "    new_message = json.load(json_file)\n",
    "\n",
    "    message = new_message"
   ]
  },
  {
   "cell_type": "code",
   "execution_count": 10,
   "id": "1641cea6-c72d-44d6-9021-c0886ee434f2",
   "metadata": {},
   "outputs": [
    {
     "data": {
      "text/plain": [
       "{'strategy': {'FETCELR': {'pct': 0.2321434, 'a': 13.324321, 'b': 12.234321}},\n",
       " 'portfolio': {'usdt': 100, 'total': 200},\n",
       " 'trades': []}"
      ]
     },
     "execution_count": 10,
     "metadata": {},
     "output_type": "execute_result"
    }
   ],
   "source": [
    "# message[\"strategy\"] = {\"FETCELR\":{\"pct\":0.8321434, \"a\":23.324321, \"b\":22.234321},\n",
    "#                       \"FETCELR\":{\"pct\":0.2321434, \"a\":13.324321, \"b\":12.234321}}\n",
    "message"
   ]
  },
  {
   "cell_type": "code",
   "execution_count": 40,
   "id": "739d8c7f-9f29-4544-933f-0273793eba07",
   "metadata": {},
   "outputs": [],
   "source": [
    "message[\"order\"].append({3:4})"
   ]
  },
  {
   "cell_type": "code",
   "execution_count": 41,
   "id": "cc6e67e1-2a75-4703-91ac-803ca296d221",
   "metadata": {},
   "outputs": [
    {
     "data": {
      "text/plain": [
       "{'order': [{3: 4}], 'portfolio': []}"
      ]
     },
     "execution_count": 41,
     "metadata": {},
     "output_type": "execute_result"
    }
   ],
   "source": [
    "message"
   ]
  },
  {
   "cell_type": "code",
   "execution_count": 17,
   "id": "60bf1dd4-daf3-4acf-9224-21ea8bfb1d06",
   "metadata": {},
   "outputs": [
    {
     "name": "stdout",
     "output_type": "stream",
     "text": [
      "hi\n"
     ]
    }
   ],
   "source": [
    "a.append(test())"
   ]
  },
  {
   "cell_type": "code",
   "execution_count": 19,
   "id": "305305c9-0f91-46bf-9e37-44ca5f250752",
   "metadata": {},
   "outputs": [],
   "source": [
    "a = list(filter(None, a))"
   ]
  },
  {
   "cell_type": "code",
   "execution_count": 1,
   "id": "5ffe2ee5-8596-42bb-8024-28a8b93ea911",
   "metadata": {},
   "outputs": [
    {
     "name": "stdout",
     "output_type": "stream",
     "text": [
      "Logged in\n"
     ]
    },
    {
     "name": "stderr",
     "output_type": "stream",
     "text": [
      "Ignoring exception in command None:\n",
      "discord.ext.commands.errors.CommandNotFound: Command \"portfolio\" is not found\n",
      "Ignoring exception in command None:\n",
      "discord.ext.commands.errors.CommandNotFound: Command \"summary\" is not found\n"
     ]
    },
    {
     "ename": "RuntimeError",
     "evalue": "Cannot close a running event loop",
     "output_type": "error",
     "traceback": [
      "\u001b[0;31m---------------------------------------------------------------------------\u001b[0m",
      "\u001b[0;31mRuntimeError\u001b[0m                              Traceback (most recent call last)",
      "\u001b[0;32m<ipython-input-1-346e31774d01>\u001b[0m in \u001b[0;36m<module>\u001b[0;34m\u001b[0m\n\u001b[1;32m      1\u001b[0m \u001b[0;32mimport\u001b[0m \u001b[0mnest_asyncio\u001b[0m\u001b[0;34m\u001b[0m\u001b[0;34m\u001b[0m\u001b[0m\n\u001b[1;32m      2\u001b[0m \u001b[0mnest_asyncio\u001b[0m\u001b[0;34m.\u001b[0m\u001b[0mapply\u001b[0m\u001b[0;34m(\u001b[0m\u001b[0;34m)\u001b[0m\u001b[0;34m\u001b[0m\u001b[0;34m\u001b[0m\u001b[0m\n\u001b[0;32m----> 3\u001b[0;31m \u001b[0;32mimport\u001b[0m \u001b[0mdiscord_manager\u001b[0m\u001b[0;34m\u001b[0m\u001b[0;34m\u001b[0m\u001b[0m\n\u001b[0m",
      "\u001b[0;32m/Volumes/Storage/Programming/crypto-printer/model/discord_manager.py\u001b[0m in \u001b[0;36m<module>\u001b[0;34m\u001b[0m\n\u001b[1;32m     58\u001b[0m     \u001b[0;32mawait\u001b[0m \u001b[0mbot\u001b[0m\u001b[0;34m.\u001b[0m\u001b[0mwait_until_ready\u001b[0m\u001b[0;34m(\u001b[0m\u001b[0;34m)\u001b[0m\u001b[0;34m\u001b[0m\u001b[0;34m\u001b[0m\u001b[0m\n\u001b[1;32m     59\u001b[0m \u001b[0;34m\u001b[0m\u001b[0m\n\u001b[0;32m---> 60\u001b[0;31m \u001b[0mbot\u001b[0m\u001b[0;34m.\u001b[0m\u001b[0mrun\u001b[0m\u001b[0;34m(\u001b[0m\u001b[0mkey\u001b[0m\u001b[0;34m(\u001b[0m\u001b[0;34m\"discord\"\u001b[0m\u001b[0;34m,\u001b[0m \u001b[0;34m\"api\"\u001b[0m\u001b[0;34m)\u001b[0m\u001b[0;34m)\u001b[0m\u001b[0;34m\u001b[0m\u001b[0;34m\u001b[0m\u001b[0m\n\u001b[0m\u001b[1;32m     61\u001b[0m \u001b[0;34m\u001b[0m\u001b[0m\n",
      "\u001b[0;32m/Volumes/Storage/Programming/crypto-printer/env/lib/python3.9/site-packages/discord/client.py\u001b[0m in \u001b[0;36mrun\u001b[0;34m(self, *args, **kwargs)\u001b[0m\n\u001b[1;32m    717\u001b[0m             \u001b[0mfuture\u001b[0m\u001b[0;34m.\u001b[0m\u001b[0mremove_done_callback\u001b[0m\u001b[0;34m(\u001b[0m\u001b[0mstop_loop_on_completion\u001b[0m\u001b[0;34m)\u001b[0m\u001b[0;34m\u001b[0m\u001b[0;34m\u001b[0m\u001b[0m\n\u001b[1;32m    718\u001b[0m             \u001b[0mlog\u001b[0m\u001b[0;34m.\u001b[0m\u001b[0minfo\u001b[0m\u001b[0;34m(\u001b[0m\u001b[0;34m'Cleaning up tasks.'\u001b[0m\u001b[0;34m)\u001b[0m\u001b[0;34m\u001b[0m\u001b[0;34m\u001b[0m\u001b[0m\n\u001b[0;32m--> 719\u001b[0;31m             \u001b[0m_cleanup_loop\u001b[0m\u001b[0;34m(\u001b[0m\u001b[0mloop\u001b[0m\u001b[0;34m)\u001b[0m\u001b[0;34m\u001b[0m\u001b[0;34m\u001b[0m\u001b[0m\n\u001b[0m\u001b[1;32m    720\u001b[0m \u001b[0;34m\u001b[0m\u001b[0m\n\u001b[1;32m    721\u001b[0m         \u001b[0;32mif\u001b[0m \u001b[0;32mnot\u001b[0m \u001b[0mfuture\u001b[0m\u001b[0;34m.\u001b[0m\u001b[0mcancelled\u001b[0m\u001b[0;34m(\u001b[0m\u001b[0;34m)\u001b[0m\u001b[0;34m:\u001b[0m\u001b[0;34m\u001b[0m\u001b[0;34m\u001b[0m\u001b[0m\n",
      "\u001b[0;32m/Volumes/Storage/Programming/crypto-printer/env/lib/python3.9/site-packages/discord/client.py\u001b[0m in \u001b[0;36m_cleanup_loop\u001b[0;34m(loop)\u001b[0m\n\u001b[1;32m     93\u001b[0m     \u001b[0;32mfinally\u001b[0m\u001b[0;34m:\u001b[0m\u001b[0;34m\u001b[0m\u001b[0;34m\u001b[0m\u001b[0m\n\u001b[1;32m     94\u001b[0m         \u001b[0mlog\u001b[0m\u001b[0;34m.\u001b[0m\u001b[0minfo\u001b[0m\u001b[0;34m(\u001b[0m\u001b[0;34m'Closing the event loop.'\u001b[0m\u001b[0;34m)\u001b[0m\u001b[0;34m\u001b[0m\u001b[0;34m\u001b[0m\u001b[0m\n\u001b[0;32m---> 95\u001b[0;31m         \u001b[0mloop\u001b[0m\u001b[0;34m.\u001b[0m\u001b[0mclose\u001b[0m\u001b[0;34m(\u001b[0m\u001b[0;34m)\u001b[0m\u001b[0;34m\u001b[0m\u001b[0;34m\u001b[0m\u001b[0m\n\u001b[0m\u001b[1;32m     96\u001b[0m \u001b[0;34m\u001b[0m\u001b[0m\n\u001b[1;32m     97\u001b[0m \u001b[0;32mclass\u001b[0m \u001b[0m_ClientEventTask\u001b[0m\u001b[0;34m(\u001b[0m\u001b[0masyncio\u001b[0m\u001b[0;34m.\u001b[0m\u001b[0mTask\u001b[0m\u001b[0;34m)\u001b[0m\u001b[0;34m:\u001b[0m\u001b[0;34m\u001b[0m\u001b[0;34m\u001b[0m\u001b[0m\n",
      "\u001b[0;32m/Volumes/Storage/Programming/crypto-printer/env/lib/python3.9/asyncio/unix_events.py\u001b[0m in \u001b[0;36mclose\u001b[0;34m(self)\u001b[0m\n\u001b[1;32m     56\u001b[0m \u001b[0;34m\u001b[0m\u001b[0m\n\u001b[1;32m     57\u001b[0m     \u001b[0;32mdef\u001b[0m \u001b[0mclose\u001b[0m\u001b[0;34m(\u001b[0m\u001b[0mself\u001b[0m\u001b[0;34m)\u001b[0m\u001b[0;34m:\u001b[0m\u001b[0;34m\u001b[0m\u001b[0;34m\u001b[0m\u001b[0m\n\u001b[0;32m---> 58\u001b[0;31m         \u001b[0msuper\u001b[0m\u001b[0;34m(\u001b[0m\u001b[0;34m)\u001b[0m\u001b[0;34m.\u001b[0m\u001b[0mclose\u001b[0m\u001b[0;34m(\u001b[0m\u001b[0;34m)\u001b[0m\u001b[0;34m\u001b[0m\u001b[0;34m\u001b[0m\u001b[0m\n\u001b[0m\u001b[1;32m     59\u001b[0m         \u001b[0;32mif\u001b[0m \u001b[0;32mnot\u001b[0m \u001b[0msys\u001b[0m\u001b[0;34m.\u001b[0m\u001b[0mis_finalizing\u001b[0m\u001b[0;34m(\u001b[0m\u001b[0;34m)\u001b[0m\u001b[0;34m:\u001b[0m\u001b[0;34m\u001b[0m\u001b[0;34m\u001b[0m\u001b[0m\n\u001b[1;32m     60\u001b[0m             \u001b[0;32mfor\u001b[0m \u001b[0msig\u001b[0m \u001b[0;32min\u001b[0m \u001b[0mlist\u001b[0m\u001b[0;34m(\u001b[0m\u001b[0mself\u001b[0m\u001b[0;34m.\u001b[0m\u001b[0m_signal_handlers\u001b[0m\u001b[0;34m)\u001b[0m\u001b[0;34m:\u001b[0m\u001b[0;34m\u001b[0m\u001b[0;34m\u001b[0m\u001b[0m\n",
      "\u001b[0;32m/Volumes/Storage/Programming/crypto-printer/env/lib/python3.9/asyncio/selector_events.py\u001b[0m in \u001b[0;36mclose\u001b[0;34m(self)\u001b[0m\n\u001b[1;32m     87\u001b[0m     \u001b[0;32mdef\u001b[0m \u001b[0mclose\u001b[0m\u001b[0;34m(\u001b[0m\u001b[0mself\u001b[0m\u001b[0;34m)\u001b[0m\u001b[0;34m:\u001b[0m\u001b[0;34m\u001b[0m\u001b[0;34m\u001b[0m\u001b[0m\n\u001b[1;32m     88\u001b[0m         \u001b[0;32mif\u001b[0m \u001b[0mself\u001b[0m\u001b[0;34m.\u001b[0m\u001b[0mis_running\u001b[0m\u001b[0;34m(\u001b[0m\u001b[0;34m)\u001b[0m\u001b[0;34m:\u001b[0m\u001b[0;34m\u001b[0m\u001b[0;34m\u001b[0m\u001b[0m\n\u001b[0;32m---> 89\u001b[0;31m             \u001b[0;32mraise\u001b[0m \u001b[0mRuntimeError\u001b[0m\u001b[0;34m(\u001b[0m\u001b[0;34m\"Cannot close a running event loop\"\u001b[0m\u001b[0;34m)\u001b[0m\u001b[0;34m\u001b[0m\u001b[0;34m\u001b[0m\u001b[0m\n\u001b[0m\u001b[1;32m     90\u001b[0m         \u001b[0;32mif\u001b[0m \u001b[0mself\u001b[0m\u001b[0;34m.\u001b[0m\u001b[0mis_closed\u001b[0m\u001b[0;34m(\u001b[0m\u001b[0;34m)\u001b[0m\u001b[0;34m:\u001b[0m\u001b[0;34m\u001b[0m\u001b[0;34m\u001b[0m\u001b[0m\n\u001b[1;32m     91\u001b[0m             \u001b[0;32mreturn\u001b[0m\u001b[0;34m\u001b[0m\u001b[0;34m\u001b[0m\u001b[0m\n",
      "\u001b[0;31mRuntimeError\u001b[0m: Cannot close a running event loop"
     ]
    }
   ],
   "source": [
    "import nest_asyncio\n",
    "nest_asyncio.apply()\n",
    "import discord_manager"
   ]
  },
  {
   "cell_type": "code",
   "execution_count": 21,
   "id": "aad862f8-5218-4409-bec7-0525f8b23361",
   "metadata": {},
   "outputs": [],
   "source": [
    "# message[\"strategy\"][\"ABCDEF\"] = {'z': 1, 'position': 'long', \"pct\":0.3, \"a\":30, \"b\":12, \"a_price\":0.5, \"b_price\":0.04}\n",
    "# message[\"portfolio\"] = {\"usdt\":100, \"total\":200}\n",
    "message[\"trades\"] = [{\"liquidate\":True, \"long\":\"FET\", \"short\":\"CELR\"}, {\"liquidate\":False, \"long\":\"ARDR\", \"short\":\"LSK\"}]\n"
   ]
  },
  {
   "cell_type": "code",
   "execution_count": 30,
   "id": "d0cb8430-7e02-4944-8c31-3a182fa4bdea",
   "metadata": {},
   "outputs": [],
   "source": [
    "message[\"strategy\"][\"DEFASB\"] = {}\n",
    "message[\"strategy\"][\"DEFASB\"][\"a\"] = 3"
   ]
  },
  {
   "cell_type": "code",
   "execution_count": 31,
   "id": "13c91537-b96c-4dd2-b4df-b5f56cda7816",
   "metadata": {},
   "outputs": [
    {
     "data": {
      "text/plain": [
       "{'strategy': {'FETCELR': {'z': 1,\n",
       "   'position': 'long',\n",
       "   'pct': 0.3,\n",
       "   'a': 30,\n",
       "   'b': 12,\n",
       "   'a_price': 0.5,\n",
       "   'b_price': 0.04},\n",
       "  'ARDRLSK': {'z': 1,\n",
       "   'position': 'long',\n",
       "   'pct': 0.3,\n",
       "   'a': 30,\n",
       "   'b': 12,\n",
       "   'a_price': 0.5,\n",
       "   'b_price': 0.04},\n",
       "  'ABCDEF': {'z': 1,\n",
       "   'position': 'long',\n",
       "   'pct': 0.3,\n",
       "   'a': 30,\n",
       "   'b': 12,\n",
       "   'a_price': 0.5,\n",
       "   'b_price': 0.04},\n",
       "  'DEFASB': {'a': 3}},\n",
       " 'portfolio': {'usdt': 100, 'total': 200},\n",
       " 'trades': [{'liquidate': True, 'long': 'FET', 'short': 'CELR'},\n",
       "  {'liquidate': False, 'long': 'ARDR', 'short': 'LSK'}]}"
      ]
     },
     "execution_count": 31,
     "metadata": {},
     "output_type": "execute_result"
    }
   ],
   "source": [
    "message"
   ]
  },
  {
   "cell_type": "code",
   "execution_count": 46,
   "id": "4bffbd43-66c7-4c33-b255-093b1e76c960",
   "metadata": {},
   "outputs": [],
   "source": [
    "with open('message.txt', 'w') as outfile:\n",
    "    json.dump(message, outfile)"
   ]
  },
  {
   "cell_type": "code",
   "execution_count": 91,
   "id": "31b29acd-5850-4269-b489-f440d481174a",
   "metadata": {},
   "outputs": [
    {
     "data": {
      "text/html": [
       "<div>\n",
       "<style scoped>\n",
       "    .dataframe tbody tr th:only-of-type {\n",
       "        vertical-align: middle;\n",
       "    }\n",
       "\n",
       "    .dataframe tbody tr th {\n",
       "        vertical-align: top;\n",
       "    }\n",
       "\n",
       "    .dataframe thead th {\n",
       "        text-align: right;\n",
       "    }\n",
       "</style>\n",
       "<table border=\"1\" class=\"dataframe\">\n",
       "  <thead>\n",
       "    <tr style=\"text-align: right;\">\n",
       "      <th></th>\n",
       "      <th>A</th>\n",
       "      <th>B</th>\n",
       "      <th>lookback</th>\n",
       "      <th>thres</th>\n",
       "      <th>sell_thres</th>\n",
       "      <th>sharpe</th>\n",
       "      <th>winrate</th>\n",
       "      <th>avg_winloss</th>\n",
       "      <th>trades</th>\n",
       "    </tr>\n",
       "  </thead>\n",
       "  <tbody>\n",
       "    <tr>\n",
       "      <th>0</th>\n",
       "      <td>ARDRUSDT</td>\n",
       "      <td>LSKUSDT</td>\n",
       "      <td>4500</td>\n",
       "      <td>2.97</td>\n",
       "      <td>0.00</td>\n",
       "      <td>7.508163</td>\n",
       "      <td>0.967742</td>\n",
       "      <td>0.039837</td>\n",
       "      <td>31</td>\n",
       "    </tr>\n",
       "    <tr>\n",
       "      <th>1</th>\n",
       "      <td>COSUSDT</td>\n",
       "      <td>STPTUSDT</td>\n",
       "      <td>5666</td>\n",
       "      <td>2.30</td>\n",
       "      <td>0.33</td>\n",
       "      <td>7.106329</td>\n",
       "      <td>0.884615</td>\n",
       "      <td>0.072946</td>\n",
       "      <td>26</td>\n",
       "    </tr>\n",
       "    <tr>\n",
       "      <th>2</th>\n",
       "      <td>BTSUSDT</td>\n",
       "      <td>NULSUSDT</td>\n",
       "      <td>4500</td>\n",
       "      <td>2.30</td>\n",
       "      <td>-0.08</td>\n",
       "      <td>6.788212</td>\n",
       "      <td>0.894737</td>\n",
       "      <td>0.022877</td>\n",
       "      <td>38</td>\n",
       "    </tr>\n",
       "    <tr>\n",
       "      <th>3</th>\n",
       "      <td>COSUSDT</td>\n",
       "      <td>TROYUSDT</td>\n",
       "      <td>4833</td>\n",
       "      <td>3.70</td>\n",
       "      <td>-0.17</td>\n",
       "      <td>5.614051</td>\n",
       "      <td>0.900000</td>\n",
       "      <td>0.068885</td>\n",
       "      <td>20</td>\n",
       "    </tr>\n",
       "    <tr>\n",
       "      <th>4</th>\n",
       "      <td>ALGOUSDT</td>\n",
       "      <td>KEYUSDT</td>\n",
       "      <td>4666</td>\n",
       "      <td>3.63</td>\n",
       "      <td>0.08</td>\n",
       "      <td>4.941897</td>\n",
       "      <td>0.900000</td>\n",
       "      <td>0.049487</td>\n",
       "      <td>10</td>\n",
       "    </tr>\n",
       "    <tr>\n",
       "      <th>5</th>\n",
       "      <td>BTSUSDT</td>\n",
       "      <td>TCTUSDT</td>\n",
       "      <td>5000</td>\n",
       "      <td>2.63</td>\n",
       "      <td>0.17</td>\n",
       "      <td>4.863189</td>\n",
       "      <td>0.827586</td>\n",
       "      <td>0.029772</td>\n",
       "      <td>29</td>\n",
       "    </tr>\n",
       "    <tr>\n",
       "      <th>6</th>\n",
       "      <td>COSUSDT</td>\n",
       "      <td>TCTUSDT</td>\n",
       "      <td>3333</td>\n",
       "      <td>4.00</td>\n",
       "      <td>-0.08</td>\n",
       "      <td>4.833120</td>\n",
       "      <td>0.875000</td>\n",
       "      <td>0.055519</td>\n",
       "      <td>16</td>\n",
       "    </tr>\n",
       "    <tr>\n",
       "      <th>7</th>\n",
       "      <td>DUSKUSDT</td>\n",
       "      <td>KEYUSDT</td>\n",
       "      <td>3166</td>\n",
       "      <td>3.00</td>\n",
       "      <td>0.25</td>\n",
       "      <td>4.719174</td>\n",
       "      <td>0.931034</td>\n",
       "      <td>0.029912</td>\n",
       "      <td>29</td>\n",
       "    </tr>\n",
       "    <tr>\n",
       "      <th>8</th>\n",
       "      <td>AIONUSDT</td>\n",
       "      <td>ARDRUSDT</td>\n",
       "      <td>4500</td>\n",
       "      <td>2.30</td>\n",
       "      <td>-0.25</td>\n",
       "      <td>4.520918</td>\n",
       "      <td>0.810811</td>\n",
       "      <td>0.027754</td>\n",
       "      <td>37</td>\n",
       "    </tr>\n",
       "    <tr>\n",
       "      <th>9</th>\n",
       "      <td>AIONUSDT</td>\n",
       "      <td>COSUSDT</td>\n",
       "      <td>3833</td>\n",
       "      <td>3.63</td>\n",
       "      <td>-0.08</td>\n",
       "      <td>4.439354</td>\n",
       "      <td>0.909091</td>\n",
       "      <td>0.055320</td>\n",
       "      <td>22</td>\n",
       "    </tr>\n",
       "    <tr>\n",
       "      <th>10</th>\n",
       "      <td>DREPUSDT</td>\n",
       "      <td>IOTXUSDT</td>\n",
       "      <td>5333</td>\n",
       "      <td>2.37</td>\n",
       "      <td>0.25</td>\n",
       "      <td>4.293310</td>\n",
       "      <td>0.800000</td>\n",
       "      <td>0.072543</td>\n",
       "      <td>20</td>\n",
       "    </tr>\n",
       "    <tr>\n",
       "      <th>11</th>\n",
       "      <td>BTSUSDT</td>\n",
       "      <td>DENTUSDT</td>\n",
       "      <td>4500</td>\n",
       "      <td>2.30</td>\n",
       "      <td>0.25</td>\n",
       "      <td>4.233390</td>\n",
       "      <td>0.781250</td>\n",
       "      <td>0.034898</td>\n",
       "      <td>32</td>\n",
       "    </tr>\n",
       "    <tr>\n",
       "      <th>12</th>\n",
       "      <td>ALGOUSDT</td>\n",
       "      <td>STPTUSDT</td>\n",
       "      <td>5333</td>\n",
       "      <td>2.30</td>\n",
       "      <td>0.33</td>\n",
       "      <td>4.191277</td>\n",
       "      <td>0.833333</td>\n",
       "      <td>0.047050</td>\n",
       "      <td>24</td>\n",
       "    </tr>\n",
       "    <tr>\n",
       "      <th>13</th>\n",
       "      <td>ARDRUSDT</td>\n",
       "      <td>ONGUSDT</td>\n",
       "      <td>4666</td>\n",
       "      <td>3.63</td>\n",
       "      <td>-0.50</td>\n",
       "      <td>4.038469</td>\n",
       "      <td>0.833333</td>\n",
       "      <td>0.044907</td>\n",
       "      <td>18</td>\n",
       "    </tr>\n",
       "    <tr>\n",
       "      <th>14</th>\n",
       "      <td>FETUSDT</td>\n",
       "      <td>MFTUSDT</td>\n",
       "      <td>4166</td>\n",
       "      <td>2.63</td>\n",
       "      <td>0.50</td>\n",
       "      <td>3.978673</td>\n",
       "      <td>0.863636</td>\n",
       "      <td>0.101709</td>\n",
       "      <td>22</td>\n",
       "    </tr>\n",
       "    <tr>\n",
       "      <th>15</th>\n",
       "      <td>COSUSDT</td>\n",
       "      <td>WTCUSDT</td>\n",
       "      <td>4833</td>\n",
       "      <td>2.67</td>\n",
       "      <td>0.50</td>\n",
       "      <td>3.760413</td>\n",
       "      <td>0.931034</td>\n",
       "      <td>0.054244</td>\n",
       "      <td>29</td>\n",
       "    </tr>\n",
       "    <tr>\n",
       "      <th>16</th>\n",
       "      <td>ARDRUSDT</td>\n",
       "      <td>IOTXUSDT</td>\n",
       "      <td>3500</td>\n",
       "      <td>2.00</td>\n",
       "      <td>0.00</td>\n",
       "      <td>3.684700</td>\n",
       "      <td>0.896552</td>\n",
       "      <td>0.027757</td>\n",
       "      <td>58</td>\n",
       "    </tr>\n",
       "    <tr>\n",
       "      <th>17</th>\n",
       "      <td>CTSIUSDT</td>\n",
       "      <td>NKNUSDT</td>\n",
       "      <td>5666</td>\n",
       "      <td>4.30</td>\n",
       "      <td>0.42</td>\n",
       "      <td>3.676759</td>\n",
       "      <td>0.875000</td>\n",
       "      <td>0.102531</td>\n",
       "      <td>8</td>\n",
       "    </tr>\n",
       "    <tr>\n",
       "      <th>18</th>\n",
       "      <td>DENTUSDT</td>\n",
       "      <td>NKNUSDT</td>\n",
       "      <td>5666</td>\n",
       "      <td>2.33</td>\n",
       "      <td>0.50</td>\n",
       "      <td>3.668819</td>\n",
       "      <td>0.800000</td>\n",
       "      <td>0.048833</td>\n",
       "      <td>20</td>\n",
       "    </tr>\n",
       "    <tr>\n",
       "      <th>19</th>\n",
       "      <td>CTXCUSDT</td>\n",
       "      <td>NULSUSDT</td>\n",
       "      <td>3833</td>\n",
       "      <td>2.30</td>\n",
       "      <td>0.08</td>\n",
       "      <td>3.654186</td>\n",
       "      <td>0.880952</td>\n",
       "      <td>0.032898</td>\n",
       "      <td>42</td>\n",
       "    </tr>\n",
       "  </tbody>\n",
       "</table>\n",
       "</div>"
      ],
      "text/plain": [
       "           A         B  lookback  thres  sell_thres    sharpe   winrate  \\\n",
       "0   ARDRUSDT   LSKUSDT      4500   2.97        0.00  7.508163  0.967742   \n",
       "1    COSUSDT  STPTUSDT      5666   2.30        0.33  7.106329  0.884615   \n",
       "2    BTSUSDT  NULSUSDT      4500   2.30       -0.08  6.788212  0.894737   \n",
       "3    COSUSDT  TROYUSDT      4833   3.70       -0.17  5.614051  0.900000   \n",
       "4   ALGOUSDT   KEYUSDT      4666   3.63        0.08  4.941897  0.900000   \n",
       "5    BTSUSDT   TCTUSDT      5000   2.63        0.17  4.863189  0.827586   \n",
       "6    COSUSDT   TCTUSDT      3333   4.00       -0.08  4.833120  0.875000   \n",
       "7   DUSKUSDT   KEYUSDT      3166   3.00        0.25  4.719174  0.931034   \n",
       "8   AIONUSDT  ARDRUSDT      4500   2.30       -0.25  4.520918  0.810811   \n",
       "9   AIONUSDT   COSUSDT      3833   3.63       -0.08  4.439354  0.909091   \n",
       "10  DREPUSDT  IOTXUSDT      5333   2.37        0.25  4.293310  0.800000   \n",
       "11   BTSUSDT  DENTUSDT      4500   2.30        0.25  4.233390  0.781250   \n",
       "12  ALGOUSDT  STPTUSDT      5333   2.30        0.33  4.191277  0.833333   \n",
       "13  ARDRUSDT   ONGUSDT      4666   3.63       -0.50  4.038469  0.833333   \n",
       "14   FETUSDT   MFTUSDT      4166   2.63        0.50  3.978673  0.863636   \n",
       "15   COSUSDT   WTCUSDT      4833   2.67        0.50  3.760413  0.931034   \n",
       "16  ARDRUSDT  IOTXUSDT      3500   2.00        0.00  3.684700  0.896552   \n",
       "17  CTSIUSDT   NKNUSDT      5666   4.30        0.42  3.676759  0.875000   \n",
       "18  DENTUSDT   NKNUSDT      5666   2.33        0.50  3.668819  0.800000   \n",
       "19  CTXCUSDT  NULSUSDT      3833   2.30        0.08  3.654186  0.880952   \n",
       "\n",
       "    avg_winloss  trades  \n",
       "0      0.039837      31  \n",
       "1      0.072946      26  \n",
       "2      0.022877      38  \n",
       "3      0.068885      20  \n",
       "4      0.049487      10  \n",
       "5      0.029772      29  \n",
       "6      0.055519      16  \n",
       "7      0.029912      29  \n",
       "8      0.027754      37  \n",
       "9      0.055320      22  \n",
       "10     0.072543      20  \n",
       "11     0.034898      32  \n",
       "12     0.047050      24  \n",
       "13     0.044907      18  \n",
       "14     0.101709      22  \n",
       "15     0.054244      29  \n",
       "16     0.027757      58  \n",
       "17     0.102531       8  \n",
       "18     0.048833      20  \n",
       "19     0.032898      42  "
      ]
     },
     "execution_count": 91,
     "metadata": {},
     "output_type": "execute_result"
    }
   ],
   "source": [
    "pd.read_csv(\"../data/generated/pair-results-all.csv\")[:20]"
   ]
  },
  {
   "cell_type": "code",
   "execution_count": 103,
   "id": "044758b8-8865-4783-8af0-ff336d59e1a7",
   "metadata": {},
   "outputs": [
    {
     "data": {
      "text/plain": [
       "1946.5708029999998"
      ]
     },
     "execution_count": 103,
     "metadata": {},
     "output_type": "execute_result"
    }
   ],
   "source": [
    "bh.get_order_book(client, \"IOTXUSDT\", 0.1, True, True)"
   ]
  },
  {
   "cell_type": "code",
   "execution_count": 26,
   "id": "2bf37d77-8dd9-44e2-860d-4c3425a095a6",
   "metadata": {},
   "outputs": [
    {
     "data": {
      "text/plain": [
       "<Position.A: 'A'>"
      ]
     },
     "execution_count": 26,
     "metadata": {},
     "output_type": "execute_result"
    }
   ],
   "source": [
    "p."
   ]
  },
  {
   "cell_type": "code",
   "execution_count": 8,
   "id": "c0d20b4c-38eb-4085-aef9-9e89122a6272",
   "metadata": {},
   "outputs": [],
   "source": [
    "def get_usdt_balance():\n",
    "    return float(client.get_asset_balance(asset='USDT')[\"free\"])"
   ]
  },
  {
   "cell_type": "code",
   "execution_count": 5,
   "id": "83a0a48f-5d17-4429-85b7-69b6743218cf",
   "metadata": {},
   "outputs": [
    {
     "data": {
      "text/plain": [
       "{'asset': 'USDT', 'free': '39.71207760', 'locked': '0.00000000'}"
      ]
     },
     "execution_count": 5,
     "metadata": {},
     "output_type": "execute_result"
    }
   ],
   "source": [
    "client.get_asset_balance(asset='USDT')"
   ]
  },
  {
   "cell_type": "code",
   "execution_count": 33,
   "id": "932cfd76-a760-40b9-a357-15dcac7a38ec",
   "metadata": {},
   "outputs": [
    {
     "data": {
      "text/plain": [
       "[{'filterType': 'PRICE_FILTER',\n",
       "  'minPrice': '0.00001000',\n",
       "  'maxPrice': '10000.00000000',\n",
       "  'tickSize': '0.00001000'},\n",
       " {'filterType': 'PERCENT_PRICE',\n",
       "  'multiplierUp': '5',\n",
       "  'multiplierDown': '0.2',\n",
       "  'avgPriceMins': 5},\n",
       " {'filterType': 'LOT_SIZE',\n",
       "  'minQty': '0.10000000',\n",
       "  'maxQty': '9222449.00000000',\n",
       "  'stepSize': '0.10000000'},\n",
       " {'filterType': 'MIN_NOTIONAL',\n",
       "  'minNotional': '10.00000000',\n",
       "  'applyToMarket': True,\n",
       "  'avgPriceMins': 5},\n",
       " {'filterType': 'ICEBERG_PARTS', 'limit': 10},\n",
       " {'filterType': 'MARKET_LOT_SIZE',\n",
       "  'minQty': '0.00000000',\n",
       "  'maxQty': '9222449.00000000',\n",
       "  'stepSize': '0.00000000'},\n",
       " {'filterType': 'MAX_NUM_ORDERS', 'maxNumOrders': 200},\n",
       " {'filterType': 'MAX_NUM_ALGO_ORDERS', 'maxNumAlgoOrders': 5}]"
      ]
     },
     "execution_count": 33,
     "metadata": {},
     "output_type": "execute_result"
    }
   ],
   "source": [
    "client.get_symbol_info('CELRUSDT')[\"filters\"]"
   ]
  },
  {
   "cell_type": "code",
   "execution_count": 61,
   "id": "0ed08771-b052-438c-b50f-76c2b3b5e02c",
   "metadata": {},
   "outputs": [],
   "source": [
    "def get_decimal_place(pair:str):\n",
    "    \"\"\"returns the number of decimal places orders can be in. Returns 0 if 0 decimal places, -1 for 10s, etc\"\"\"\n",
    "    return -int(np.log10(float(list(filter(lambda x: x['filterType'] == 'LOT_SIZE', client.get_symbol_info(pair)[\"filters\"]))[0]['stepSize'])))\n",
    "\n",
    "    \n",
    "    \n",
    "    "
   ]
  },
  {
   "cell_type": "code",
   "execution_count": 62,
   "id": "31f8a4d5-c9f5-4a5a-a235-46f7fad3cf77",
   "metadata": {},
   "outputs": [
    {
     "data": {
      "text/plain": [
       "2.0"
      ]
     },
     "execution_count": 62,
     "metadata": {},
     "output_type": "execute_result"
    }
   ],
   "source": [
    "np.log10(100)"
   ]
  },
  {
   "cell_type": "code",
   "execution_count": 71,
   "id": "b6b85650-d03f-4bc7-a938-2fac3feff825",
   "metadata": {},
   "outputs": [
    {
     "name": "stdout",
     "output_type": "stream",
     "text": [
      "1\n"
     ]
    },
    {
     "data": {
      "text/plain": [
       "0.18185687065124512"
      ]
     },
     "execution_count": 71,
     "metadata": {},
     "output_type": "execute_result"
    }
   ],
   "source": [
    "start = time.time()\n",
    "print(get_decimal_place(\"DOGEUSDT\"))\n",
    "time.time() - start"
   ]
  },
  {
   "cell_type": "code",
   "execution_count": null,
   "id": "550fe4be-8d4d-4004-87ff-0c84e3bc763b",
   "metadata": {},
   "outputs": [],
   "source": []
  },
  {
   "cell_type": "code",
   "execution_count": 51,
   "id": "12663ff6-e771-4da0-a9cf-e50cfdb8e2d9",
   "metadata": {},
   "outputs": [
    {
     "ename": "NameError",
     "evalue": "name 'self' is not defined",
     "output_type": "error",
     "traceback": [
      "\u001b[0;31m---------------------------------------------------------------------------\u001b[0m",
      "\u001b[0;31mNameError\u001b[0m                                 Traceback (most recent call last)",
      "\u001b[0;32m<ipython-input-51-61a9993f4eb9>\u001b[0m in \u001b[0;36m<module>\u001b[0;34m\u001b[0m\n\u001b[1;32m      1\u001b[0m \u001b[0mima\u001b[0m \u001b[0;34m=\u001b[0m \u001b[0mclient\u001b[0m\u001b[0;34m.\u001b[0m\u001b[0mget_isolated_margin_account\u001b[0m\u001b[0;34m(\u001b[0m\u001b[0;34m)\u001b[0m\u001b[0;34m\u001b[0m\u001b[0;34m\u001b[0m\u001b[0m\n\u001b[0;32m----> 2\u001b[0;31m \u001b[0mpv\u001b[0m \u001b[0;34m=\u001b[0m \u001b[0mget_portfolio_value\u001b[0m\u001b[0;34m(\u001b[0m\u001b[0mima\u001b[0m\u001b[0;34m)\u001b[0m\u001b[0;34m\u001b[0m\u001b[0;34m\u001b[0m\u001b[0m\n\u001b[0m",
      "\u001b[0;32m<ipython-input-49-ca6f6ba80c6f>\u001b[0m in \u001b[0;36mget_portfolio_value\u001b[0;34m(ima)\u001b[0m\n\u001b[1;32m      4\u001b[0m     \u001b[0mvalue\u001b[0m \u001b[0;34m=\u001b[0m \u001b[0;36m0\u001b[0m\u001b[0;34m\u001b[0m\u001b[0;34m\u001b[0m\u001b[0m\n\u001b[1;32m      5\u001b[0m     \u001b[0mbtc_price\u001b[0m \u001b[0;34m=\u001b[0m \u001b[0mbh\u001b[0m\u001b[0;34m.\u001b[0m\u001b[0mget_price\u001b[0m\u001b[0;34m(\u001b[0m\u001b[0mclient\u001b[0m\u001b[0;34m,\u001b[0m \u001b[0;34m\"BTCUSDT\"\u001b[0m\u001b[0;34m)\u001b[0m\u001b[0;34m\u001b[0m\u001b[0;34m\u001b[0m\u001b[0m\n\u001b[0;32m----> 6\u001b[0;31m     \u001b[0;32mfor\u001b[0m \u001b[0mstrat\u001b[0m \u001b[0;32min\u001b[0m \u001b[0mself\u001b[0m\u001b[0;34m.\u001b[0m\u001b[0mstrats\u001b[0m\u001b[0;34m:\u001b[0m\u001b[0;34m\u001b[0m\u001b[0;34m\u001b[0m\u001b[0m\n\u001b[0m\u001b[1;32m      7\u001b[0m         \u001b[0mvalue\u001b[0m \u001b[0;34m+=\u001b[0m \u001b[0mget_pair_value\u001b[0m\u001b[0;34m(\u001b[0m\u001b[0mstrat\u001b[0m\u001b[0;34m.\u001b[0m\u001b[0ma\u001b[0m\u001b[0;34m,\u001b[0m \u001b[0mbtc_price\u001b[0m\u001b[0;34m)\u001b[0m\u001b[0;34m\u001b[0m\u001b[0;34m\u001b[0m\u001b[0m\n\u001b[1;32m      8\u001b[0m         \u001b[0mvalue\u001b[0m \u001b[0;34m+=\u001b[0m \u001b[0mget_pair_value\u001b[0m\u001b[0;34m(\u001b[0m\u001b[0mstrat\u001b[0m\u001b[0;34m.\u001b[0m\u001b[0mb\u001b[0m\u001b[0;34m,\u001b[0m \u001b[0mbtc_price\u001b[0m\u001b[0;34m)\u001b[0m\u001b[0;34m\u001b[0m\u001b[0;34m\u001b[0m\u001b[0m\n",
      "\u001b[0;31mNameError\u001b[0m: name 'self' is not defined"
     ]
    }
   ],
   "source": [
    "ima = client.get_isolated_margin_account()\n",
    "pv = get_portfolio_value(ima)"
   ]
  },
  {
   "cell_type": "code",
   "execution_count": 18,
   "id": "0bb7ce89-c070-4672-9c56-c805f0c18d7f",
   "metadata": {},
   "outputs": [],
   "source": [
    "c = client.get_isolated_margin_account()"
   ]
  },
  {
   "cell_type": "code",
   "execution_count": 47,
   "id": "ebcfd0e7-41e3-4ec8-9390-4b6171355b6c",
   "metadata": {},
   "outputs": [],
   "source": [
    "strat_val = list(filter(lambda x: x[\"baseAsset\"][\"asset\"] == \"FET\", c[\"assets\"]))[0]"
   ]
  },
  {
   "cell_type": "code",
   "execution_count": 48,
   "id": "7be5913c-1449-4186-b053-91008fafe41b",
   "metadata": {},
   "outputs": [
    {
     "data": {
      "text/plain": [
       "{'baseAsset': {'asset': 'FET',\n",
       "  'borrowEnabled': True,\n",
       "  'borrowed': '0',\n",
       "  'free': '0.14289781',\n",
       "  'interest': '0',\n",
       "  'locked': '0',\n",
       "  'netAsset': '0.14289781',\n",
       "  'netAssetOfBtc': '0.0000015',\n",
       "  'repayEnabled': True,\n",
       "  'totalAsset': '0.14289781'},\n",
       " 'quoteAsset': {'asset': 'USDT',\n",
       "  'borrowEnabled': True,\n",
       "  'borrowed': '0',\n",
       "  'free': '18.35313071',\n",
       "  'interest': '0',\n",
       "  'locked': '0',\n",
       "  'netAsset': '18.35313071',\n",
       "  'netAssetOfBtc': '0.00045754',\n",
       "  'repayEnabled': True,\n",
       "  'totalAsset': '18.35313071'},\n",
       " 'symbol': 'FETUSDT',\n",
       " 'isolatedCreated': True,\n",
       " 'marginLevel': '999',\n",
       " 'marginLevelStatus': 'EXCESSIVE',\n",
       " 'marginRatio': '5',\n",
       " 'indexPrice': '0.42020947',\n",
       " 'liquidatePrice': '0',\n",
       " 'liquidateRate': '0',\n",
       " 'tradeEnabled': True}"
      ]
     },
     "execution_count": 48,
     "metadata": {},
     "output_type": "execute_result"
    }
   ],
   "source": [
    "strat_val"
   ]
  },
  {
   "cell_type": "code",
   "execution_count": 32,
   "id": "0bda6392-9f5b-4bbe-846e-1b45c5baeb99",
   "metadata": {},
   "outputs": [
    {
     "data": {
      "text/plain": [
       "0.42119"
      ]
     },
     "execution_count": 32,
     "metadata": {},
     "output_type": "execute_result"
    }
   ],
   "source": [
    "bh.get_price(client, \"FETUSDT\")"
   ]
  },
  {
   "cell_type": "code",
   "execution_count": 38,
   "id": "bbb872e7-e926-4b41-be11-bc89105ecbab",
   "metadata": {},
   "outputs": [
    {
     "data": {
      "text/plain": [
       "0.0001927112726"
      ]
     },
     "execution_count": 38,
     "metadata": {},
     "output_type": "execute_result"
    }
   ],
   "source": [
    "0.42119*0.00045754"
   ]
  },
  {
   "cell_type": "code",
   "execution_count": 31,
   "id": "91dcef24-3089-436a-a901-04c635d14369",
   "metadata": {},
   "outputs": [
    {
     "data": {
      "text/plain": [
       "40249.28"
      ]
     },
     "execution_count": 31,
     "metadata": {},
     "output_type": "execute_result"
    }
   ],
   "source": [
    "bh.get_price(client, \"BTCUSDT\")"
   ]
  },
  {
   "cell_type": "code",
   "execution_count": 39,
   "id": "a3cd3eb8-6de2-4795-83a7-525347ad3260",
   "metadata": {},
   "outputs": [
    {
     "data": {
      "text/plain": [
       "18.4156555712"
      ]
     },
     "execution_count": 39,
     "metadata": {},
     "output_type": "execute_result"
    }
   ],
   "source": [
    "40249.28*0.00045754"
   ]
  },
  {
   "cell_type": "code",
   "execution_count": 41,
   "id": "6c26e0e6-b431-49bf-ab66-5c8ac0249751",
   "metadata": {},
   "outputs": [
    {
     "data": {
      "text/plain": [
       "18.35313071"
      ]
     },
     "execution_count": 41,
     "metadata": {},
     "output_type": "execute_result"
    }
   ],
   "source": [
    "float(strat_val['quoteAsset']['netAsset'])"
   ]
  },
  {
   "cell_type": "code",
   "execution_count": 16,
   "id": "142f1335-8412-4c21-b08a-234eead52867",
   "metadata": {},
   "outputs": [
    {
     "data": {
      "text/plain": [
       "{'baseAsset': {'asset': 'FET',\n",
       "  'borrowEnabled': True,\n",
       "  'borrowed': '0',\n",
       "  'free': '0.14289781',\n",
       "  'interest': '0',\n",
       "  'locked': '0',\n",
       "  'netAsset': '0.14289781',\n",
       "  'netAssetOfBtc': '0.0000015',\n",
       "  'repayEnabled': True,\n",
       "  'totalAsset': '0.14289781'},\n",
       " 'quoteAsset': {'asset': 'USDT',\n",
       "  'borrowEnabled': True,\n",
       "  'borrowed': '0',\n",
       "  'free': '18.35313071',\n",
       "  'interest': '0',\n",
       "  'locked': '0',\n",
       "  'netAsset': '18.35313071',\n",
       "  'netAssetOfBtc': '0.00045773',\n",
       "  'repayEnabled': True,\n",
       "  'totalAsset': '18.35313071'},\n",
       " 'symbol': 'FETUSDT',\n",
       " 'isolatedCreated': True,\n",
       " 'marginLevel': '999',\n",
       " 'marginLevelStatus': 'EXCESSIVE',\n",
       " 'marginRatio': '5',\n",
       " 'indexPrice': '0.42025182',\n",
       " 'liquidatePrice': '0',\n",
       " 'liquidateRate': '0',\n",
       " 'tradeEnabled': True}"
      ]
     },
     "execution_count": 16,
     "metadata": {},
     "output_type": "execute_result"
    }
   ],
   "source": [
    "bh.get_isolated_margin_account(client, \"FET\")"
   ]
  },
  {
   "cell_type": "code",
   "execution_count": 14,
   "id": "336ad1a2-98a9-485f-bb20-388b4276075f",
   "metadata": {},
   "outputs": [
    {
     "data": {
      "text/plain": [
       "{'assets': [{'baseAsset': {'asset': 'CELR',\n",
       "    'borrowEnabled': True,\n",
       "    'borrowed': '0',\n",
       "    'free': '0.07907231',\n",
       "    'interest': '0',\n",
       "    'locked': '0',\n",
       "    'netAsset': '0.07907231',\n",
       "    'netAssetOfBtc': '0.00000007',\n",
       "    'repayEnabled': True,\n",
       "    'totalAsset': '0.07907231'},\n",
       "   'quoteAsset': {'asset': 'USDT',\n",
       "    'borrowEnabled': True,\n",
       "    'borrowed': '0',\n",
       "    'free': '18.37410377',\n",
       "    'interest': '0',\n",
       "    'locked': '0',\n",
       "    'netAsset': '18.37410377',\n",
       "    'netAssetOfBtc': '0.00045825',\n",
       "    'repayEnabled': True,\n",
       "    'totalAsset': '18.37410377'},\n",
       "   'symbol': 'CELRUSDT',\n",
       "   'isolatedCreated': True,\n",
       "   'marginLevel': '999',\n",
       "   'marginLevelStatus': 'EXCESSIVE',\n",
       "   'marginRatio': '5',\n",
       "   'indexPrice': '0.03443879',\n",
       "   'liquidatePrice': '0',\n",
       "   'liquidateRate': '0',\n",
       "   'tradeEnabled': True},\n",
       "  {'baseAsset': {'asset': 'FET',\n",
       "    'borrowEnabled': True,\n",
       "    'borrowed': '0',\n",
       "    'free': '0.14289781',\n",
       "    'interest': '0',\n",
       "    'locked': '0',\n",
       "    'netAsset': '0.14289781',\n",
       "    'netAssetOfBtc': '0.0000015',\n",
       "    'repayEnabled': True,\n",
       "    'totalAsset': '0.14289781'},\n",
       "   'quoteAsset': {'asset': 'USDT',\n",
       "    'borrowEnabled': True,\n",
       "    'borrowed': '0',\n",
       "    'free': '18.35313071',\n",
       "    'interest': '0',\n",
       "    'locked': '0',\n",
       "    'netAsset': '18.35313071',\n",
       "    'netAssetOfBtc': '0.00045773',\n",
       "    'repayEnabled': True,\n",
       "    'totalAsset': '18.35313071'},\n",
       "   'symbol': 'FETUSDT',\n",
       "   'isolatedCreated': True,\n",
       "   'marginLevel': '999',\n",
       "   'marginLevelStatus': 'EXCESSIVE',\n",
       "   'marginRatio': '5',\n",
       "   'indexPrice': '0.42066184',\n",
       "   'liquidatePrice': '0',\n",
       "   'liquidateRate': '0',\n",
       "   'tradeEnabled': True}],\n",
       " 'totalAssetOfBtc': '0.00091755',\n",
       " 'totalLiabilityOfBtc': '0',\n",
       " 'totalNetAssetOfBtc': '0.00091755'}"
      ]
     },
     "execution_count": 14,
     "metadata": {},
     "output_type": "execute_result"
    }
   ],
   "source": [
    "client.get_isolated_margin_account()"
   ]
  },
  {
   "cell_type": "code",
   "execution_count": 65,
   "id": "da98dd90-5b88-4931-b6ad-109309304592",
   "metadata": {},
   "outputs": [],
   "source": [
    "class Test:\n",
    "    A = 5\n",
    "    def print_a(self):\n",
    "        print(self.A)"
   ]
  },
  {
   "cell_type": "code",
   "execution_count": 66,
   "id": "7c6c005a-5ea2-4fe0-9af7-619ce212fd89",
   "metadata": {},
   "outputs": [],
   "source": [
    "t = Test()"
   ]
  },
  {
   "cell_type": "code",
   "execution_count": 67,
   "id": "ad249879-8290-4f6f-833d-70801b6c66c7",
   "metadata": {},
   "outputs": [
    {
     "name": "stdout",
     "output_type": "stream",
     "text": [
      "5\n"
     ]
    }
   ],
   "source": [
    "t.print_a()"
   ]
  },
  {
   "cell_type": "code",
   "execution_count": 6,
   "id": "2b00f0d5-6e18-453b-8b57-53225af536a7",
   "metadata": {},
   "outputs": [
    {
     "data": {
      "text/plain": [
       "9171.500352"
      ]
     },
     "execution_count": 6,
     "metadata": {},
     "output_type": "execute_result"
    }
   ],
   "source": [
    "bh.get_order_book(client, \"ALGOUSDT\", 0.1, True, True)"
   ]
  },
  {
   "cell_type": "code",
   "execution_count": 9,
   "id": "72da422c-e575-41d7-b885-26584563412f",
   "metadata": {},
   "outputs": [],
   "source": [
    "dl = Downloader(client, \"../data/model/\")"
   ]
  },
  {
   "cell_type": "code",
   "execution_count": 16,
   "id": "a43673da-b379-4197-9a91-500e66f96167",
   "metadata": {},
   "outputs": [
    {
     "data": {
      "text/plain": [
       "0.012952089309692383"
      ]
     },
     "execution_count": 16,
     "metadata": {},
     "output_type": "execute_result"
    }
   ],
   "source": [
    "start = time.time()\n",
    "dl.save_df_fast(\"FETUSDT\", df, 1628116440000.0)\n",
    "time.time() - start"
   ]
  },
  {
   "cell_type": "code",
   "execution_count": 12,
   "id": "ba27b9c3-1be6-40cb-b327-d83eebfe34f7",
   "metadata": {},
   "outputs": [
    {
     "data": {
      "text/plain": [
       "3.8230180740356445"
      ]
     },
     "execution_count": 12,
     "metadata": {},
     "output_type": "execute_result"
    }
   ],
   "source": [
    "start = time.time()\n",
    "dl.save_df(df, \"FETUSDT\")\n",
    "time.time()-start"
   ]
  },
  {
   "cell_type": "code",
   "execution_count": 3,
   "id": "c3fdecd3-f189-4060-ad7f-2bf868174d40",
   "metadata": {},
   "outputs": [],
   "source": [
    "dl = Downloader(client, \"../data/model/\")\n",
    "df = dl.get_minutely_data(\"FETUSDT\")\n",
    "dl.save_df(df, \"FETUSDT\")"
   ]
  },
  {
   "cell_type": "code",
   "execution_count": 4,
   "id": "7d3da572-8bba-427a-bed8-e0529c6926af",
   "metadata": {},
   "outputs": [],
   "source": [
    "dl = Downloader(client, \"../data/model/\")\n",
    "df = dl.get_minutely_data(\"CELRUSDT\")\n",
    "dl.save_df(df, \"CELRUSDT\")"
   ]
  },
  {
   "cell_type": "code",
   "execution_count": 5,
   "id": "6cbbeaf6-6bf8-4880-a69a-63b60ac29c84",
   "metadata": {},
   "outputs": [],
   "source": [
    "m = Magic(4000)\n",
    "client = bh.new_binance_client()"
   ]
  },
  {
   "cell_type": "code",
   "execution_count": 14,
   "id": "94792f70-8d57-4475-9a99-78189bc2bf93",
   "metadata": {
    "tags": []
   },
   "outputs": [
    {
     "ename": "NameError",
     "evalue": "name 'm' is not defined",
     "output_type": "error",
     "traceback": [
      "\u001b[0;31m---------------------------------------------------------------------------\u001b[0m",
      "\u001b[0;31mNameError\u001b[0m                                 Traceback (most recent call last)",
      "\u001b[0;32m<ipython-input-14-c3a0f1e25bdd>\u001b[0m in \u001b[0;36m<module>\u001b[0;34m\u001b[0m\n\u001b[1;32m      2\u001b[0m \u001b[0mdf_b\u001b[0m \u001b[0;34m=\u001b[0m \u001b[0mdl\u001b[0m\u001b[0;34m.\u001b[0m\u001b[0mget_minutely_data\u001b[0m\u001b[0;34m(\u001b[0m\u001b[0;34m\"FETUSDT\"\u001b[0m\u001b[0;34m)\u001b[0m\u001b[0;34m\u001b[0m\u001b[0;34m\u001b[0m\u001b[0m\n\u001b[1;32m      3\u001b[0m \u001b[0mdf_a\u001b[0m \u001b[0;34m=\u001b[0m \u001b[0mdl\u001b[0m\u001b[0;34m.\u001b[0m\u001b[0mget_minutely_data\u001b[0m\u001b[0;34m(\u001b[0m\u001b[0;34m\"CELRUSDT\"\u001b[0m\u001b[0;34m)\u001b[0m\u001b[0;34m\u001b[0m\u001b[0;34m\u001b[0m\u001b[0m\n\u001b[0;32m----> 4\u001b[0;31m \u001b[0mz\u001b[0m \u001b[0;34m=\u001b[0m \u001b[0mm\u001b[0m\u001b[0;34m.\u001b[0m\u001b[0mget_z_score\u001b[0m\u001b[0;34m(\u001b[0m\u001b[0mdf_a\u001b[0m\u001b[0;34m,\u001b[0m \u001b[0mdf_b\u001b[0m\u001b[0;34m)\u001b[0m\u001b[0;34m\u001b[0m\u001b[0;34m\u001b[0m\u001b[0m\n\u001b[0m\u001b[1;32m      5\u001b[0m \u001b[0;31m# dl.save_df(df_b, \"FETUDST\")\u001b[0m\u001b[0;34m\u001b[0m\u001b[0;34m\u001b[0m\u001b[0;34m\u001b[0m\u001b[0m\n\u001b[1;32m      6\u001b[0m \u001b[0;31m# dl.save_df(df_a, \"CELRUSDT\")\u001b[0m\u001b[0;34m\u001b[0m\u001b[0;34m\u001b[0m\u001b[0;34m\u001b[0m\u001b[0m\n",
      "\u001b[0;31mNameError\u001b[0m: name 'm' is not defined"
     ]
    }
   ],
   "source": [
    "start = time.time()\n",
    "df_b = dl.get_minutely_data(\"FETUSDT\")\n",
    "df_a = dl.get_minutely_data(\"CELRUSDT\")\n",
    "z = m.get_z_score(df_a, df_b)\n",
    "# dl.save_df(df_b, \"FETUDST\")\n",
    "# dl.save_df(df_a, \"CELRUSDT\")\n",
    "time.time() - start"
   ]
  },
  {
   "cell_type": "code",
   "execution_count": 89,
   "id": "55f6d84d-99b2-4231-a36a-063e16234c2c",
   "metadata": {},
   "outputs": [],
   "source": [
    "df = pd.DataFrame({\"timestamp\":[2, 3, 4, 5, 6, 7, 8, 9, 10, 11, 12], \"open\":[8, 7, 8, 7, 6, 4, 5, 3, 2, 1, 3]})"
   ]
  },
  {
   "cell_type": "code",
   "execution_count": 72,
   "id": "455e43a1-4ac9-429b-adc3-929558422c8d",
   "metadata": {},
   "outputs": [
    {
     "data": {
      "text/html": [
       "<div>\n",
       "<style scoped>\n",
       "    .dataframe tbody tr th:only-of-type {\n",
       "        vertical-align: middle;\n",
       "    }\n",
       "\n",
       "    .dataframe tbody tr th {\n",
       "        vertical-align: top;\n",
       "    }\n",
       "\n",
       "    .dataframe thead th {\n",
       "        text-align: right;\n",
       "    }\n",
       "</style>\n",
       "<table border=\"1\" class=\"dataframe\">\n",
       "  <thead>\n",
       "    <tr style=\"text-align: right;\">\n",
       "      <th></th>\n",
       "      <th>timestamp</th>\n",
       "      <th>open</th>\n",
       "    </tr>\n",
       "  </thead>\n",
       "  <tbody>\n",
       "    <tr>\n",
       "      <th>6</th>\n",
       "      <td>8</td>\n",
       "      <td>5</td>\n",
       "    </tr>\n",
       "    <tr>\n",
       "      <th>7</th>\n",
       "      <td>9</td>\n",
       "      <td>3</td>\n",
       "    </tr>\n",
       "    <tr>\n",
       "      <th>8</th>\n",
       "      <td>10</td>\n",
       "      <td>2</td>\n",
       "    </tr>\n",
       "    <tr>\n",
       "      <th>9</th>\n",
       "      <td>11</td>\n",
       "      <td>1</td>\n",
       "    </tr>\n",
       "    <tr>\n",
       "      <th>10</th>\n",
       "      <td>12</td>\n",
       "      <td>3</td>\n",
       "    </tr>\n",
       "  </tbody>\n",
       "</table>\n",
       "</div>"
      ],
      "text/plain": [
       "    timestamp  open\n",
       "6           8     5\n",
       "7           9     3\n",
       "8          10     2\n",
       "9          11     1\n",
       "10         12     3"
      ]
     },
     "execution_count": 72,
     "metadata": {},
     "output_type": "execute_result"
    }
   ],
   "source": [
    "df.tail()"
   ]
  },
  {
   "cell_type": "code",
   "execution_count": null,
   "id": "a7afc55f-1312-4d28-aca6-7fa03a60013a",
   "metadata": {
    "tags": []
   },
   "outputs": [],
   "source": [
    "def save_df_fast(self, df, timestamp):\n",
    "    \"\"\"\"\"\"\n",
    "    df[-timestamp:-10].to_csv('../data/test.csv', mode='a', header=False, index=False)"
   ]
  },
  {
   "cell_type": "code",
   "execution_count": 54,
   "id": "4c2a9a92-2a28-490d-8464-6397305570a5",
   "metadata": {
    "tags": []
   },
   "outputs": [],
   "source": [
    "df = dl.read_df(\"FETUSDT\")"
   ]
  },
  {
   "cell_type": "code",
   "execution_count": 87,
   "id": "d43f4d9b-2c0c-4150-8928-39cd96d2c6d3",
   "metadata": {},
   "outputs": [],
   "source": [
    "time_of_last_save = pd.read_csv(\"../data/test.csv\").iloc[-1].timestamp"
   ]
  },
  {
   "cell_type": "code",
   "execution_count": 88,
   "id": "ba160b23-d80d-4f16-854a-43e022fb7392",
   "metadata": {},
   "outputs": [
    {
     "data": {
      "text/plain": [
       "8"
      ]
     },
     "execution_count": 88,
     "metadata": {},
     "output_type": "execute_result"
    }
   ],
   "source": [
    "time_of_last_save"
   ]
  },
  {
   "cell_type": "code",
   "execution_count": 86,
   "id": "92c7f558-6f4c-4aa4-aa59-42aa3908c63c",
   "metadata": {},
   "outputs": [
    {
     "data": {
      "text/plain": [
       "0.001870870590209961"
      ]
     },
     "execution_count": 86,
     "metadata": {},
     "output_type": "execute_result"
    }
   ],
   "source": [
    "start = time.time()\n",
    "df[:-4].to_csv(\"../data/test.csv\", index=False)\n",
    "time.time() - start"
   ]
  },
  {
   "cell_type": "code",
   "execution_count": 90,
   "id": "ce2baf78-2175-42af-91f7-757509ce6f4f",
   "metadata": {},
   "outputs": [
    {
     "data": {
      "text/plain": [
       "0.004220008850097656"
      ]
     },
     "execution_count": 90,
     "metadata": {},
     "output_type": "execute_result"
    }
   ],
   "source": [
    "start = time.time()\n",
    "df[df.timestamp > time_of_last_save].to_csv('../data/test.csv', mode='a', header=False, index=False)\n",
    "time.time() - start"
   ]
  },
  {
   "cell_type": "code",
   "execution_count": 91,
   "id": "cea2c811-e66c-48fb-acce-2a3d4d9e2f61",
   "metadata": {},
   "outputs": [
    {
     "data": {
      "text/html": [
       "<div>\n",
       "<style scoped>\n",
       "    .dataframe tbody tr th:only-of-type {\n",
       "        vertical-align: middle;\n",
       "    }\n",
       "\n",
       "    .dataframe tbody tr th {\n",
       "        vertical-align: top;\n",
       "    }\n",
       "\n",
       "    .dataframe thead th {\n",
       "        text-align: right;\n",
       "    }\n",
       "</style>\n",
       "<table border=\"1\" class=\"dataframe\">\n",
       "  <thead>\n",
       "    <tr style=\"text-align: right;\">\n",
       "      <th></th>\n",
       "      <th>timestamp</th>\n",
       "      <th>open</th>\n",
       "    </tr>\n",
       "  </thead>\n",
       "  <tbody>\n",
       "    <tr>\n",
       "      <th>0</th>\n",
       "      <td>2</td>\n",
       "      <td>8</td>\n",
       "    </tr>\n",
       "    <tr>\n",
       "      <th>1</th>\n",
       "      <td>3</td>\n",
       "      <td>7</td>\n",
       "    </tr>\n",
       "    <tr>\n",
       "      <th>2</th>\n",
       "      <td>4</td>\n",
       "      <td>8</td>\n",
       "    </tr>\n",
       "    <tr>\n",
       "      <th>3</th>\n",
       "      <td>5</td>\n",
       "      <td>7</td>\n",
       "    </tr>\n",
       "    <tr>\n",
       "      <th>4</th>\n",
       "      <td>6</td>\n",
       "      <td>6</td>\n",
       "    </tr>\n",
       "    <tr>\n",
       "      <th>5</th>\n",
       "      <td>7</td>\n",
       "      <td>4</td>\n",
       "    </tr>\n",
       "    <tr>\n",
       "      <th>6</th>\n",
       "      <td>8</td>\n",
       "      <td>5</td>\n",
       "    </tr>\n",
       "    <tr>\n",
       "      <th>7</th>\n",
       "      <td>8</td>\n",
       "      <td>5</td>\n",
       "    </tr>\n",
       "    <tr>\n",
       "      <th>8</th>\n",
       "      <td>9</td>\n",
       "      <td>3</td>\n",
       "    </tr>\n",
       "    <tr>\n",
       "      <th>9</th>\n",
       "      <td>10</td>\n",
       "      <td>2</td>\n",
       "    </tr>\n",
       "    <tr>\n",
       "      <th>10</th>\n",
       "      <td>11</td>\n",
       "      <td>1</td>\n",
       "    </tr>\n",
       "    <tr>\n",
       "      <th>11</th>\n",
       "      <td>12</td>\n",
       "      <td>3</td>\n",
       "    </tr>\n",
       "  </tbody>\n",
       "</table>\n",
       "</div>"
      ],
      "text/plain": [
       "    timestamp  open\n",
       "0           2     8\n",
       "1           3     7\n",
       "2           4     8\n",
       "3           5     7\n",
       "4           6     6\n",
       "5           7     4\n",
       "6           8     5\n",
       "7           8     5\n",
       "8           9     3\n",
       "9          10     2\n",
       "10         11     1\n",
       "11         12     3"
      ]
     },
     "execution_count": 91,
     "metadata": {},
     "output_type": "execute_result"
    }
   ],
   "source": [
    "pd.read_csv(\"../data/test.csv\")"
   ]
  },
  {
   "cell_type": "code",
   "execution_count": 59,
   "id": "64bfee36-059a-4094-bf79-30f69462c59e",
   "metadata": {},
   "outputs": [
    {
     "data": {
      "text/plain": [
       "990"
      ]
     },
     "execution_count": 59,
     "metadata": {},
     "output_type": "execute_result"
    }
   ],
   "source": [
    "1275845-1274855"
   ]
  },
  {
   "cell_type": "code",
   "execution_count": null,
   "id": "d7e7918c-fd90-4831-81a4-a3f3f55ee919",
   "metadata": {},
   "outputs": [],
   "source": [
    "start = time.time()\n",
    "df_b = dl.update_data(\"FETUSDT\", df_b)\n",
    "df_a = dl.update_data(\"CELRUSDT\", df_a)\n",
    "z = m.get_z_score(df_a, df_b)\n",
    "# dl.save_df(df_b, \"FETUDST\")\n",
    "# dl.save_df(df_a, \"CELRUSDT\")\n",
    "time.time() - start"
   ]
  },
  {
   "cell_type": "code",
   "execution_count": 13,
   "id": "ad4b8efc-f466-4010-8b50-b364da49ed5c",
   "metadata": {},
   "outputs": [
    {
     "ename": "NameError",
     "evalue": "name 'df_b' is not defined",
     "output_type": "error",
     "traceback": [
      "\u001b[0;31m---------------------------------------------------------------------------\u001b[0m",
      "\u001b[0;31mNameError\u001b[0m                                 Traceback (most recent call last)",
      "\u001b[0;32m<ipython-input-13-ca7a3993e5de>\u001b[0m in \u001b[0;36m<module>\u001b[0;34m\u001b[0m\n\u001b[1;32m      1\u001b[0m \u001b[0mstart\u001b[0m \u001b[0;34m=\u001b[0m \u001b[0mtime\u001b[0m\u001b[0;34m.\u001b[0m\u001b[0mtime\u001b[0m\u001b[0;34m(\u001b[0m\u001b[0;34m)\u001b[0m\u001b[0;34m\u001b[0m\u001b[0;34m\u001b[0m\u001b[0m\n\u001b[0;32m----> 2\u001b[0;31m \u001b[0mdf_b\u001b[0m \u001b[0;34m=\u001b[0m \u001b[0mdl\u001b[0m\u001b[0;34m.\u001b[0m\u001b[0mupdate_data\u001b[0m\u001b[0;34m(\u001b[0m\u001b[0;34m\"FETUSDT\"\u001b[0m\u001b[0;34m,\u001b[0m \u001b[0mdf_b\u001b[0m\u001b[0;34m)\u001b[0m\u001b[0;34m\u001b[0m\u001b[0;34m\u001b[0m\u001b[0m\n\u001b[0m\u001b[1;32m      3\u001b[0m \u001b[0mdf_a\u001b[0m \u001b[0;34m=\u001b[0m \u001b[0mdl\u001b[0m\u001b[0;34m.\u001b[0m\u001b[0mupdate_data\u001b[0m\u001b[0;34m(\u001b[0m\u001b[0;34m\"CELRUSDT\"\u001b[0m\u001b[0;34m,\u001b[0m \u001b[0mdf_a\u001b[0m\u001b[0;34m)\u001b[0m\u001b[0;34m\u001b[0m\u001b[0;34m\u001b[0m\u001b[0m\n\u001b[1;32m      4\u001b[0m \u001b[0mz\u001b[0m \u001b[0;34m=\u001b[0m \u001b[0mm\u001b[0m\u001b[0;34m.\u001b[0m\u001b[0mget_z_score\u001b[0m\u001b[0;34m(\u001b[0m\u001b[0mdf_a\u001b[0m\u001b[0;34m,\u001b[0m \u001b[0mdf_b\u001b[0m\u001b[0;34m)\u001b[0m\u001b[0;34m\u001b[0m\u001b[0;34m\u001b[0m\u001b[0m\n\u001b[1;32m      5\u001b[0m \u001b[0;31m# dl.save_df(df_b, \"FETUDST\")\u001b[0m\u001b[0;34m\u001b[0m\u001b[0;34m\u001b[0m\u001b[0;34m\u001b[0m\u001b[0m\n",
      "\u001b[0;31mNameError\u001b[0m: name 'df_b' is not defined"
     ]
    }
   ],
   "source": [
    "start = time.time()\n",
    "df_b = dl.update_data(\"FETUSDT\", df_b)\n",
    "df_a = dl.update_data(\"CELRUSDT\", df_a)\n",
    "z = m.get_z_score(df_a, df_b)\n",
    "# dl.save_df(df_b, \"FETUDST\")\n",
    "# dl.save_df(df_a, \"CELRUSDT\")\n",
    "time.time() - start"
   ]
  },
  {
   "cell_type": "code",
   "execution_count": 16,
   "id": "6a525c27-6298-4007-922b-3fcb88fa784f",
   "metadata": {},
   "outputs": [
    {
     "data": {
      "text/plain": [
       "{'id': 21985438,\n",
       " 'price': '0.39935000',\n",
       " 'qty': '1274.90000000',\n",
       " 'quoteQty': '509.13131500',\n",
       " 'time': 1628105224023,\n",
       " 'isBuyerMaker': True,\n",
       " 'isBestMatch': True}"
      ]
     },
     "execution_count": 16,
     "metadata": {},
     "output_type": "execute_result"
    }
   ],
   "source": [
    "client.get_recent_trades(symbol='FETUSDT')[-1]"
   ]
  },
  {
   "cell_type": "code",
   "execution_count": 17,
   "id": "4987cc38-b991-440c-9508-34d6810b2892",
   "metadata": {},
   "outputs": [],
   "source": [
    "ob = client.get_order_book(symbol='FETUSDT')"
   ]
  },
  {
   "cell_type": "code",
   "execution_count": 26,
   "id": "1b4a4f81-f8bd-43e7-9c98-35126dc673b1",
   "metadata": {},
   "outputs": [],
   "source": [
    "bid = float(ob[\"bids\"][0][0]) # Gets price of first bid\n",
    "ask = float(ob[\"asks\"][0][0]) # Gets price of first ask (higher in price)\n",
    "mean = (bid+ask)/2"
   ]
  },
  {
   "cell_type": "code",
   "execution_count": 31,
   "id": "64ad6a5f-b056-4ae1-b0d0-ab57438bd945",
   "metadata": {},
   "outputs": [],
   "source": [
    "percent = 1.002"
   ]
  },
  {
   "cell_type": "code",
   "execution_count": 32,
   "id": "5ebe03d8-c6b6-4c73-8b9c-03b80b1feb64",
   "metadata": {},
   "outputs": [
    {
     "data": {
      "text/plain": [
       "0.39964269"
      ]
     },
     "execution_count": 32,
     "metadata": {},
     "output_type": "execute_result"
    }
   ],
   "source": [
    "mean * percent"
   ]
  },
  {
   "cell_type": "code",
   "execution_count": 46,
   "id": "242dcacd-2f48-4a54-9927-a8df50902e65",
   "metadata": {},
   "outputs": [],
   "source": [
    "asks = pd.DataFrame(ob[\"asks\"], columns = [\"ask\", \"amt\"]).astype(np.float64)"
   ]
  },
  {
   "cell_type": "code",
   "execution_count": 48,
   "id": "bd6c4154-61e4-423c-ba0a-68d96818dcdd",
   "metadata": {},
   "outputs": [],
   "source": [
    "asks_within = asks[asks.ask < mean*percent]"
   ]
  },
  {
   "cell_type": "code",
   "execution_count": 50,
   "id": "19a98385-5756-4ab9-99f4-d49f5364e8cd",
   "metadata": {},
   "outputs": [
    {
     "data": {
      "text/plain": [
       "26812.2"
      ]
     },
     "execution_count": 50,
     "metadata": {},
     "output_type": "execute_result"
    }
   ],
   "source": [
    "sum(asks_within.amt)"
   ]
  },
  {
   "cell_type": "code",
   "execution_count": 89,
   "id": "282f869e-cad0-4dff-a201-94c5ddfb70c5",
   "metadata": {},
   "outputs": [],
   "source": [
    "def get_order_book(pair:str, percent:float, buy:bool, usdt:bool):\n",
    "    \"\"\"Enter percent as .1 for 0.1%\"\"\"\n",
    "    ob = client.get_order_book(symbol=pair)\n",
    "    bid = float(ob[\"bids\"][0][0]) # Gets price of first bid\n",
    "    ask = float(ob[\"asks\"][0][0]) # Gets price of first ask (higher in price)\n",
    "    mean = (bid+ask)/2\n",
    "    limit = mean\n",
    "    if buy:\n",
    "        ob = pd.DataFrame(ob[\"asks\"], columns = [\"price\", \"amt\"]).astype(np.float64)\n",
    "        limit = mean*(1+percent/100)\n",
    "        ob = ob[ob.price < limit]\n",
    "    else:\n",
    "        ob = pd.DataFrame(ob[\"bids\"], columns = [\"price\", \"amt\"]).astype(np.float64)\n",
    "        limit = mean/(1+percent/100)\n",
    "        ob = ob[ob.price > limit]\n",
    "    return sum(ob.amt) if not usdt else sum(ob.amt)*mean\n",
    "    "
   ]
  },
  {
   "cell_type": "code",
   "execution_count": 90,
   "id": "2afad3a8-10bb-4739-a3f2-5579a86798a7",
   "metadata": {},
   "outputs": [
    {
     "data": {
      "text/plain": [
       "16340.6752545"
      ]
     },
     "execution_count": 90,
     "metadata": {},
     "output_type": "execute_result"
    }
   ],
   "source": [
    "get_order_book(\"ALGOUSDT\", 0.1, True, True)"
   ]
  },
  {
   "cell_type": "code",
   "execution_count": 4,
   "id": "3175d297-69fa-4767-9ca7-4a041ebd585b",
   "metadata": {},
   "outputs": [],
   "source": [
    "df_a = dl.read_df(\"CELRUSDT\")"
   ]
  },
  {
   "cell_type": "code",
   "execution_count": 23,
   "id": "cc1eb288-bac0-4d2f-92f6-62461c214d3c",
   "metadata": {},
   "outputs": [],
   "source": [
    "m = Magic(4000)"
   ]
  },
  {
   "cell_type": "code",
   "execution_count": 11,
   "id": "40195a8e-b18b-4161-ac28-dd5fc1ea0f46",
   "metadata": {},
   "outputs": [
    {
     "data": {
      "text/plain": [
       "1.4940381050109863"
      ]
     },
     "execution_count": 11,
     "metadata": {},
     "output_type": "execute_result"
    }
   ],
   "source": [
    "start = time.time()\n",
    "z = m.get_z_score(df_a, df_b)\n",
    "time.time() - start"
   ]
  },
  {
   "cell_type": "code",
   "execution_count": 25,
   "id": "63c309f3-f8be-4965-b311-ba72eb1cdb29",
   "metadata": {},
   "outputs": [
    {
     "data": {
      "text/plain": [
       "-1.817757832127045"
      ]
     },
     "execution_count": 25,
     "metadata": {},
     "output_type": "execute_result"
    }
   ],
   "source": [
    "z"
   ]
  },
  {
   "cell_type": "code",
   "execution_count": 82,
   "id": "8f025d45-5db2-46dc-bd8a-1799dbc5df23",
   "metadata": {},
   "outputs": [],
   "source": [
    "df_past = df[:-2]\n",
    "df_now = df[-4:]"
   ]
  },
  {
   "cell_type": "code",
   "execution_count": 83,
   "id": "9e41a4d3-6683-44ec-a0b1-2dcfdf5f6ff5",
   "metadata": {},
   "outputs": [],
   "source": [
    "df = df_past[df_past.timestamp < df_now.iloc[0].timestamp]"
   ]
  },
  {
   "cell_type": "code",
   "execution_count": 84,
   "id": "260f0f1a-551b-4ccf-a635-bd443ef90b00",
   "metadata": {},
   "outputs": [],
   "source": [
    "df = df.append(df_now, ignore_index=True)"
   ]
  },
  {
   "cell_type": "code",
   "execution_count": 86,
   "id": "1b172a36-4621-4ec5-a8f5-c3a139c2a19d",
   "metadata": {},
   "outputs": [
    {
     "data": {
      "text/plain": [
       "1627577640000.0"
      ]
     },
     "execution_count": 86,
     "metadata": {},
     "output_type": "execute_result"
    }
   ],
   "source": [
    "df.iloc[-1].timestamp"
   ]
  },
  {
   "cell_type": "code",
   "execution_count": 4,
   "id": "b358b6e4-ba2e-4366-9b06-26acab67d515",
   "metadata": {},
   "outputs": [
    {
     "data": {
      "text/plain": [
       "1627577640000.0"
      ]
     },
     "execution_count": 4,
     "metadata": {},
     "output_type": "execute_result"
    }
   ],
   "source": [
    "df.iloc[-1].timestamp"
   ]
  },
  {
   "cell_type": "code",
   "execution_count": null,
   "id": "145ccffa-3212-4ace-a26a-ed4904b63443",
   "metadata": {},
   "outputs": [],
   "source": [
    "def get_z_score(pair:str):\n",
    "    \"\"\"Returns the latest zscore + update or downloads all necessary files\"\"\"\n",
    "    "
   ]
  },
  {
   "cell_type": "code",
   "execution_count": 15,
   "id": "ade31096-b1c5-4e35-b047-5448cf4b7834",
   "metadata": {},
   "outputs": [
    {
     "data": {
      "text/plain": [
       "datetime.datetime(2021, 8, 4, 4, 9)"
      ]
     },
     "execution_count": 15,
     "metadata": {},
     "output_type": "execute_result"
    }
   ],
   "source": [
    "datetime.utcfromtimestamp(1628050140000.0/1000)"
   ]
  },
  {
   "cell_type": "code",
   "execution_count": 5,
   "id": "7fbf177d-20e8-4597-8a69-1a7d4d0601fa",
   "metadata": {},
   "outputs": [
    {
     "data": {
      "text/plain": [
       "datetime.datetime(2021, 8, 4, 2, 6, 20, 882577)"
      ]
     },
     "execution_count": 5,
     "metadata": {},
     "output_type": "execute_result"
    }
   ],
   "source": [
    "datetime.utcnow()"
   ]
  },
  {
   "cell_type": "code",
   "execution_count": 6,
   "id": "b92a8c29-6e30-4ffe-ae72-86f32591a6d7",
   "metadata": {},
   "outputs": [],
   "source": [
    "period = datetime.utcnow() - datetime.utcfromtimestamp(1627577640000.0/1000)"
   ]
  },
  {
   "cell_type": "code",
   "execution_count": null,
   "id": "1e19dd69-0ed2-47a2-b16f-6e9f4c644cce",
   "metadata": {},
   "outputs": [],
   "source": [
    "datetime"
   ]
  },
  {
   "cell_type": "code",
   "execution_count": 59,
   "id": "3c206ab8-8d10-4b15-ade5-2c42f62c981d",
   "metadata": {},
   "outputs": [
    {
     "data": {
      "text/plain": [
       "6208"
      ]
     },
     "execution_count": 59,
     "metadata": {},
     "output_type": "execute_result"
    }
   ],
   "source": [
    "math.ceil((period.days*24*60*60 + period.seconds)/60)"
   ]
  },
  {
   "cell_type": "code",
   "execution_count": 70,
   "id": "ca9af3fb-5c23-47a0-92ca-58ef20ba2f56",
   "metadata": {},
   "outputs": [],
   "source": [
    "period += timedelta(seconds=3600)"
   ]
  },
  {
   "cell_type": "code",
   "execution_count": 71,
   "id": "e2479f34-6ec4-4dbc-87f8-eaeddfa0b9c0",
   "metadata": {},
   "outputs": [
    {
     "data": {
      "text/plain": [
       "datetime.timedelta(days=4, seconds=34033, microseconds=768942)"
      ]
     },
     "execution_count": 71,
     "metadata": {},
     "output_type": "execute_result"
    }
   ],
   "source": [
    "period"
   ]
  },
  {
   "cell_type": "code",
   "execution_count": 27,
   "id": "423a8a30-adb3-48d6-896c-1d774435b048",
   "metadata": {},
   "outputs": [],
   "source": [
    "date = datetime.utcfromtimestamp(1000000000000.0/1000)"
   ]
  },
  {
   "cell_type": "code",
   "execution_count": 28,
   "id": "553ddc2a-57ac-4774-9d19-b06cfb075f15",
   "metadata": {},
   "outputs": [
    {
     "data": {
      "text/plain": [
       "'09 Sep 2001 01:46:40'"
      ]
     },
     "execution_count": 28,
     "metadata": {},
     "output_type": "execute_result"
    }
   ],
   "source": [
    "date.strftime(\"%d %b %Y %H:%M:%S\")"
   ]
  },
  {
   "cell_type": "code",
   "execution_count": 4,
   "id": "6bbc4f09-7f81-4a3b-97c3-203891f75a75",
   "metadata": {},
   "outputs": [
    {
     "data": {
      "text/plain": [
       "'01 Jan 1980 00:00:00'"
      ]
     },
     "execution_count": 4,
     "metadata": {},
     "output_type": "execute_result"
    }
   ],
   "source": [
    "datetime.strptime(\"1 Jan 1980\", '%d %b %Y').strftime(\"%d %b %Y %H:%M:%S\")"
   ]
  },
  {
   "cell_type": "code",
   "execution_count": 38,
   "id": "01e1db2d-3f39-4f1c-b61e-aca02dc1baff",
   "metadata": {},
   "outputs": [],
   "source": [
    "test() if 3>4 else None"
   ]
  },
  {
   "cell_type": "code",
   "execution_count": 106,
   "id": "dfe1d3e4-ac6c-40ec-8aad-8321208c8b8c",
   "metadata": {},
   "outputs": [],
   "source": [
    "df = pd.DataFrame({\"A\":[0, 1], \"B\":[2, 3]})"
   ]
  },
  {
   "cell_type": "code",
   "execution_count": 107,
   "id": "bc0c956e-dc79-4029-9f85-89c41db97d77",
   "metadata": {},
   "outputs": [],
   "source": [
    "def test(d):\n",
    "    d = d.set_index(\"B\")\n",
    "    return d"
   ]
  },
  {
   "cell_type": "code",
   "execution_count": 111,
   "id": "37e949a6-3cb6-4975-a1af-432586b0c1da",
   "metadata": {},
   "outputs": [
    {
     "data": {
      "text/html": [
       "<div>\n",
       "<style scoped>\n",
       "    .dataframe tbody tr th:only-of-type {\n",
       "        vertical-align: middle;\n",
       "    }\n",
       "\n",
       "    .dataframe tbody tr th {\n",
       "        vertical-align: top;\n",
       "    }\n",
       "\n",
       "    .dataframe thead th {\n",
       "        text-align: right;\n",
       "    }\n",
       "</style>\n",
       "<table border=\"1\" class=\"dataframe\">\n",
       "  <thead>\n",
       "    <tr style=\"text-align: right;\">\n",
       "      <th></th>\n",
       "      <th>A</th>\n",
       "      <th>B</th>\n",
       "    </tr>\n",
       "  </thead>\n",
       "  <tbody>\n",
       "    <tr>\n",
       "      <th>0</th>\n",
       "      <td>0</td>\n",
       "      <td>2</td>\n",
       "    </tr>\n",
       "    <tr>\n",
       "      <th>1</th>\n",
       "      <td>1</td>\n",
       "      <td>3</td>\n",
       "    </tr>\n",
       "  </tbody>\n",
       "</table>\n",
       "</div>"
      ],
      "text/plain": [
       "   A  B\n",
       "0  0  2\n",
       "1  1  3"
      ]
     },
     "execution_count": 111,
     "metadata": {},
     "output_type": "execute_result"
    }
   ],
   "source": [
    "df"
   ]
  },
  {
   "cell_type": "code",
   "execution_count": 29,
   "id": "07532445-63fd-4c11-abb7-e8326a58f691",
   "metadata": {},
   "outputs": [],
   "source": [
    "def test():\n",
    "    print(\"Hi\")"
   ]
  },
  {
   "cell_type": "code",
   "execution_count": 32,
   "id": "5d14bf1b-e965-46d2-809c-020cdcffc7ee",
   "metadata": {},
   "outputs": [
    {
     "name": "stdout",
     "output_type": "stream",
     "text": [
      "bye\n"
     ]
    }
   ],
   "source": [
    "test() if 1>2 else print(\"bye\")"
   ]
  },
  {
   "cell_type": "code",
   "execution_count": 47,
   "id": "5f29bf53-4cef-4ede-a1db-5d825b2f850b",
   "metadata": {},
   "outputs": [],
   "source": [
    "class test:\n",
    "    def __init__(self, a):\n",
    "        self.a = a\n",
    "    def test1(self):\n",
    "        return self.test2(self.a)\n",
    "    def test2(self, a):\n",
    "        return a"
   ]
  },
  {
   "cell_type": "code",
   "execution_count": 48,
   "id": "7cab20ff-a017-4dc7-827b-1ba4db3af7dd",
   "metadata": {},
   "outputs": [],
   "source": [
    "test = test(3)"
   ]
  },
  {
   "cell_type": "code",
   "execution_count": 49,
   "id": "1231c9c9-76b8-4392-9935-d0fe97d64f42",
   "metadata": {},
   "outputs": [
    {
     "data": {
      "text/plain": [
       "3"
      ]
     },
     "execution_count": 49,
     "metadata": {},
     "output_type": "execute_result"
    }
   ],
   "source": [
    "test.test1()"
   ]
  },
  {
   "cell_type": "code",
   "execution_count": 24,
   "id": "8f549157-76c6-4379-a64b-2ad6917bcf44",
   "metadata": {},
   "outputs": [
    {
     "data": {
      "text/plain": [
       "'1m'"
      ]
     },
     "execution_count": 24,
     "metadata": {},
     "output_type": "execute_result"
    }
   ],
   "source": [
    "client.KLINE_INTERVAL_1MINUTE"
   ]
  },
  {
   "cell_type": "code",
   "execution_count": 18,
   "id": "66267dd2-e865-48c4-bfb9-219c94a91068",
   "metadata": {},
   "outputs": [
    {
     "data": {
      "text/plain": [
       "0.0001468658447265625"
      ]
     },
     "execution_count": 18,
     "metadata": {},
     "output_type": "execute_result"
    }
   ],
   "source": [
    "start = time.time()\n",
    "d = Downloader(client, \"../data/\")\n",
    "time.time()-start"
   ]
  },
  {
   "cell_type": "code",
   "execution_count": 19,
   "id": "02eb5b2f-77e9-4dbd-b4ff-9ecd3d4468e9",
   "metadata": {},
   "outputs": [
    {
     "name": "stdout",
     "output_type": "stream",
     "text": [
      "../data/\n"
     ]
    }
   ],
   "source": [
    "d.test()"
   ]
  },
  {
   "cell_type": "code",
   "execution_count": null,
   "id": "3f22f5d8-4d2b-4cb1-aca5-2464e01534e3",
   "metadata": {},
   "outputs": [],
   "source": []
  },
  {
   "cell_type": "code",
   "execution_count": 2,
   "id": "85cf584a-4c29-46ea-a245-e45ddc719c7a",
   "metadata": {},
   "outputs": [
    {
     "data": {
      "text/plain": [
       "39668.85"
      ]
     },
     "execution_count": 2,
     "metadata": {},
     "output_type": "execute_result"
    }
   ],
   "source": [
    "bh.get_price(client, \"BTCUSDT\")"
   ]
  },
  {
   "cell_type": "code",
   "execution_count": 3,
   "id": "cab91705-423a-4361-b6b9-3a0b133a3bc1",
   "metadata": {},
   "outputs": [
    {
     "data": {
      "text/plain": [
       "0.37812"
      ]
     },
     "execution_count": 3,
     "metadata": {},
     "output_type": "execute_result"
    }
   ],
   "source": [
    "bh.trade_amt(client, \"BTC\", 15000, 5)"
   ]
  },
  {
   "cell_type": "code",
   "execution_count": 2,
   "id": "042186c8-292d-43f1-9188-b1069feec99e",
   "metadata": {},
   "outputs": [],
   "source": [
    "## Constants\n",
    "ASSET_A = \"CELR\"\n",
    "ASSET_B = \"FET\"\n",
    "BASE = \"USDT\"\n",
    "LOOKBACK = 4000 #1800\n",
    "THRES = 1.\n",
    "SELL_THRES = 1."
   ]
  },
  {
   "cell_type": "code",
   "execution_count": 3,
   "id": "d4906152-d5b1-4e61-b911-d73628e20fc7",
   "metadata": {},
   "outputs": [
    {
     "data": {
      "text/plain": [
       "{'asset': 'FET',\n",
       " 'borrowEnabled': True,\n",
       " 'borrowed': '0',\n",
       " 'free': '0.14289781',\n",
       " 'interest': '0',\n",
       " 'locked': '0',\n",
       " 'netAsset': '0.14289781',\n",
       " 'netAssetOfBtc': '0.00000143',\n",
       " 'repayEnabled': True,\n",
       " 'totalAsset': '0.14289781'}"
      ]
     },
     "execution_count": 3,
     "metadata": {},
     "output_type": "execute_result"
    }
   ],
   "source": [
    "bh.get_margin_asset(client, ASSET_B)"
   ]
  },
  {
   "cell_type": "code",
   "execution_count": null,
   "id": "891727b8-0539-4725-bc39-470d129a1e45",
   "metadata": {},
   "outputs": [],
   "source": [
    "def go_long_short(long: str, l_amt: float, short: str, s_amt: float, base=BASE):\n",
    "    \"\"\"goes long and short. Enter long/short as 'XMR' rather than 'XMRUSDT'. \"\"\"\n",
    "    l_pair = long + base\n",
    "    s_pair = short + base\n",
    "    transaction = client.create_margin_loan(asset=short, amount=str(s_amt), isIsolated='TRUE', symbol=s_pair)\n",
    "#     time.sleep(1)\n",
    "    print(\"starting short order\")\n",
    "    order_s = client.create_margin_order(\n",
    "        symbol=s_pair,\n",
    "        side=SIDE_SELL,\n",
    "        type=ORDER_TYPE_MARKET,\n",
    "        quantity=s_amt,\n",
    "        newOrderRespType = \"FULL\",\n",
    "        isIsolated='TRUE')\n",
    "    print(order_s)\n",
    "    print(\"starting buy order\")\n",
    "    order_l = client.create_margin_order(\n",
    "        symbol=l_pair,\n",
    "        side=SIDE_BUY,\n",
    "        type=ORDER_TYPE_MARKET,\n",
    "        quantity=l_amt,\n",
    "        newOrderRespType = \"FULL\",\n",
    "        isIsolated='TRUE')\n",
    "    print(order_l)\n",
    "    send_message(\"ls\", long=long, l_amt=str(l_amt), short=short, s_amt=str(s_amt), o_s=order_s, o_l=order_l)\n",
    "    \n",
    "def liquidate(long: str, short: str, base=BASE):\n",
    "    \"\"\"liquidates long and short position. Enter long as currently longing which asset\"\"\"\n",
    "    l_pair = long + base\n",
    "    s_pair = short + base\n",
    "    l_amt = binance_floor(float(get_margin_asset(long)[\"free\"]), 1)\n",
    "    s_amt = binance_ceil(abs(float(get_margin_asset(short)[\"netAsset\"])), 1)\n",
    "    \n",
    "    order = client.create_margin_order(\n",
    "        symbol=l_pair,\n",
    "        side=SIDE_SELL,\n",
    "        type=ORDER_TYPE_MARKET,\n",
    "        quantity=l_amt,\n",
    "        newOrderRespType = \"FULL\",\n",
    "        isIsolated='TRUE')\n",
    "    order1 = client.create_margin_order(\n",
    "        symbol=s_pair,\n",
    "        side=SIDE_BUY,\n",
    "        type=ORDER_TYPE_MARKET,\n",
    "        quantity=s_amt,\n",
    "        newOrderRespType = \"FULL\",\n",
    "        isIsolated='TRUE')\n",
    "    rp = str(abs(float(get_margin_asset(short)[\"free\"])))\n",
    "    transaction1 = client.repay_margin_loan(asset=short, amount=rp, isIsolated='TRUE', symbol=s_pair)\n",
    "    rebalance_accounts(ASSET_A, ASSET_B)\n",
    "    send_message(\"lq\", o_s=order, o_b=order1)\n",
    "    \n",
    "def rebalance_accounts(a: str, b: str, base=BASE):\n",
    "    \"\"\"Rebalance isolated margin accounts a and b. Enter as 'FET' \"\"\"\n",
    "    a_usdt = float(get_isolated_margin_account(a)[\"quoteAsset\"][\"free\"])\n",
    "    b_usdt = float(get_isolated_margin_account(b)[\"quoteAsset\"][\"free\"])\n",
    "    transfer = str(round(abs(a_usdt - (a_usdt + b_usdt)/2), 6))\n",
    "    from_account = \"\"\n",
    "    to_account = \"\"\n",
    "    if a_usdt > b_usdt:\n",
    "        from_account = a + base\n",
    "        to_account = b + base\n",
    "    else:\n",
    "        from_account = b + base\n",
    "        to_account = a + base\n",
    "    client.transfer_isolated_margin_to_spot(asset='USDT', symbol=from_account, amount=transfer)\n",
    "    client.transfer_spot_to_isolated_margin(asset='USDT', symbol=to_account, amount=transfer)\n",
    "\n",
    "def get_long():\n",
    "    \"\"\"Returns None if long nothing, else ASSET_A or ASSET_B\"\"\"\n",
    "    if float(get_margin_asset(ASSET_A)[\"borrowed\"])>0: #Borrowed ASSET_A (ie long ASSET_B)\n",
    "        return ASSET_B\n",
    "    elif float(get_margin_asset(ASSET_B)[\"borrowed\"])>0: #Borrwed XMR (ie long ZEC)\n",
    "        return ASSET_A\n",
    "    else:\n",
    "        return None"
   ]
  },
  {
   "cell_type": "code",
   "execution_count": null,
   "id": "abe57df4-ea31-47b7-8a5e-f1bfa48e6f2b",
   "metadata": {},
   "outputs": [],
   "source": [
    "def printer():\n",
    "    \"\"\"main printer. Fetches current position, fetches data, and performs buys/sells if necessary\"\"\"\n",
    "    long = get_long() # Returns None if long nothing, else ASSET_A or ASSET_B\n",
    "\n",
    "    # Get z_score\n",
    "    z = get_z_score()\n",
    "    while math.isnan(z): #z is nan, retry:\n",
    "        time.sleep(1)\n",
    "        z = get_z_score()\n",
    "    \n",
    "    # Get trading amount (won't be used if liquidating or NOT buying)\n",
    "    # NOTE: ASSUMES isolated margin account for both A and B have the same amount of USDT\n",
    "    total = float(get_isolated_margin_account(ASSET_A)[\"quoteAsset\"][\"free\"])*0.95\n",
    "    asset_a = trade_amt(ASSET_A, total)\n",
    "    asset_b = trade_amt(ASSET_B, total)\n",
    "    \n",
    "    if z>THRES and long==None: #buy/sell #LONG A\n",
    "        go_long_short(long=ASSET_A, l_amt=asset_a, short=ASSET_B, s_amt=asset_b)\n",
    "    elif z<-THRES and long==None: #buy/sell #LONG B\n",
    "        go_long_short(long=ASSET_B, l_amt=asset_b, short=ASSET_A, s_amt=asset_a)\n",
    "    elif z>SELL_THRES and long==ASSET_B: #liquidate #LONG B\n",
    "        liquidate(long=ASSET_B, short=ASSET_A)\n",
    "    elif z<-SELL_THRES and long==ASSET_A: #liquidate #LONG A\n",
    "        liquidate(long=ASSET_A, short=ASSET_B)\n",
    "    \n",
    "    send_message(\"z\", z=str(z))\n",
    "    change_mode(z, long)\n",
    "    reset_client()\n",
    "    \n",
    "    return schedule.CancelJob"
   ]
  },
  {
   "cell_type": "code",
   "execution_count": null,
   "id": "f7cf5391-a671-4c67-93e5-a071ab2b07da",
   "metadata": {},
   "outputs": [],
   "source": [
    "def change_mode(z:float, long):\n",
    "    \"\"\"Change the frequency of the checking\"\"\"\n",
    "    global mode\n",
    "    if long==None:\n",
    "        mode = 2\n",
    "    elif long==ASSET_A:\n",
    "        if z > -SELL_THRES + 1.5: \n",
    "            mode = 10\n",
    "        elif z > -SELL_THRES + 1.: \n",
    "            mode = 5\n",
    "        elif z > -SELL_THRES + 0.5: \n",
    "            mode = 3\n",
    "        else:\n",
    "            mode = 2\n",
    "    elif long==ASSET_B:\n",
    "        if z < SELL_THRES - 1.5:\n",
    "            mode = 10\n",
    "        elif z < SELL_THRES - 1.:\n",
    "            mode = 5\n",
    "        elif z < SELL_THRES - .5:\n",
    "            mode = 3\n",
    "        else:\n",
    "            mode = 2"
   ]
  },
  {
   "cell_type": "code",
   "execution_count": null,
   "id": "af54f83d-a041-411d-b40e-b880c7ba1dde",
   "metadata": {},
   "outputs": [],
   "source": [
    "# Discord # Saving message\n",
    "def get_message():\n",
    "    \"\"\"gets the message\"\"\"\n",
    "    with open('message.txt') as json_file:\n",
    "        new_message = json.load(json_file)\n",
    "        return new_message\n",
    "def send_message(m:str,  **k):\n",
    "    data = get_message()\n",
    "    if m == \"ls\":\n",
    "        data[\"message\"] = f\"Went long {k['l_amt']} {k['long']} at ${k['o_l']['fills'][0]['price']} \\nShort {k['s_amt']} {k['short']} at ${k['o_s']['fills'][0]['price']}\"\n",
    "        data[\"o_l\"] = k['o_l']\n",
    "        data[\"o_s\"] = k['o_s']\n",
    "    elif m == \"lq\":\n",
    "        o_s = k['o_s']\n",
    "        o_b = k['o_b']\n",
    "        data[\"message\"] = f\"Liquidated! Sold {o_s['executedQty']} {o_s['symbol']} for {o_s['fills'][0]['price']} \\nBought {o_b['executedQty']} {o_b['symbol']} for {o_b['fills'][0]['price']}\"\n",
    "        data[\"o_l\"] = o_s\n",
    "        data[\"o_s\"] = o_b\n",
    "    elif m == \"z\":\n",
    "        data[\"z\"] = k[\"z\"]\n",
    "    elif m == \"mode\":\n",
    "        data[\"mode\"] = k[\"mode\"]\n",
    "    with open('message.txt', 'w') as outfile:\n",
    "        json.dump(data, outfile)"
   ]
  }
 ],
 "metadata": {
  "kernelspec": {
   "display_name": "Python 3",
   "language": "python",
   "name": "python3"
  },
  "language_info": {
   "codemirror_mode": {
    "name": "ipython",
    "version": 3
   },
   "file_extension": ".py",
   "mimetype": "text/x-python",
   "name": "python",
   "nbconvert_exporter": "python",
   "pygments_lexer": "ipython3",
   "version": "3.9.5"
  }
 },
 "nbformat": 4,
 "nbformat_minor": 5
}
