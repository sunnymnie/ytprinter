{
 "cells": [
  {
   "cell_type": "markdown",
   "id": "ab7898a9-4302-4761-b91f-af9da27d3f88",
   "metadata": {},
   "source": [
    "# Debugger"
   ]
  },
  {
   "cell_type": "code",
   "execution_count": 1,
   "id": "ea621da2-1de5-4837-acb8-f30bcaab8c0c",
   "metadata": {},
   "outputs": [],
   "source": [
    "import binance_helpers as bh"
   ]
  },
  {
   "cell_type": "code",
   "execution_count": 16,
   "id": "1ff64ca0-266e-4422-8bfa-487338c26ca0",
   "metadata": {},
   "outputs": [],
   "source": [
    "client = bh.new_binance_client()"
   ]
  },
  {
   "cell_type": "code",
   "execution_count": 38,
   "id": "22263369-bf66-4628-8fe7-6f8e4c59d363",
   "metadata": {},
   "outputs": [],
   "source": [
    "fet = bh.get_isolated_margin_account(client, \"FET\")\n",
    "celr = bh.get_isolated_margin_account(client, \"CELR\")\n",
    "usdt = bh.get_usdt_balance(client)"
   ]
  },
  {
   "cell_type": "code",
   "execution_count": 40,
   "id": "658b1327-142e-477b-b7e1-f869ab43b49a",
   "metadata": {},
   "outputs": [
    {
     "data": {
      "text/plain": [
       "{'baseAsset': {'asset': 'CELR',\n",
       "  'borrowEnabled': True,\n",
       "  'borrowed': '0',\n",
       "  'free': '0.15098645',\n",
       "  'interest': '0',\n",
       "  'locked': '0',\n",
       "  'netAsset': '0.15098645',\n",
       "  'netAssetOfBtc': '0.00000015',\n",
       "  'repayEnabled': True,\n",
       "  'totalAsset': '0.15098645'},\n",
       " 'quoteAsset': {'asset': 'USDT',\n",
       "  'borrowEnabled': True,\n",
       "  'borrowed': '0',\n",
       "  'free': '0.00000074',\n",
       "  'interest': '0',\n",
       "  'locked': '0',\n",
       "  'netAsset': '0.00000074',\n",
       "  'netAssetOfBtc': '0',\n",
       "  'repayEnabled': True,\n",
       "  'totalAsset': '0.00000074'},\n",
       " 'symbol': 'CELRUSDT',\n",
       " 'isolatedCreated': True,\n",
       " 'marginLevel': '999',\n",
       " 'marginLevelStatus': 'EXCESSIVE',\n",
       " 'marginRatio': '5',\n",
       " 'indexPrice': '0.04605755',\n",
       " 'liquidatePrice': '0',\n",
       " 'liquidateRate': '0',\n",
       " 'tradeEnabled': True}"
      ]
     },
     "execution_count": 40,
     "metadata": {},
     "output_type": "execute_result"
    }
   ],
   "source": [
    "celr"
   ]
  },
  {
   "cell_type": "code",
   "execution_count": 25,
   "id": "3ecf7ef4-9dc1-43e6-98e5-e67027eb8026",
   "metadata": {},
   "outputs": [
    {
     "data": {
      "text/plain": [
       "{'baseAsset': {'asset': 'FET',\n",
       "  'borrowEnabled': True,\n",
       "  'borrowed': '22.2',\n",
       "  'free': '22.22079781',\n",
       "  'interest': '0.00092501',\n",
       "  'locked': '0',\n",
       "  'netAsset': '0.0198728',\n",
       "  'netAssetOfBtc': '0.00000022',\n",
       "  'repayEnabled': True,\n",
       "  'totalAsset': '22.22079781'},\n",
       " 'quoteAsset': {'asset': 'USDT',\n",
       "  'borrowEnabled': True,\n",
       "  'borrowed': '0',\n",
       "  'free': '12.11331536',\n",
       "  'interest': '0',\n",
       "  'locked': '0',\n",
       "  'netAsset': '12.11331536',\n",
       "  'netAssetOfBtc': '0.00025535',\n",
       "  'repayEnabled': True,\n",
       "  'totalAsset': '12.11331536'},\n",
       " 'symbol': 'FETUSDT',\n",
       " 'isolatedCreated': True,\n",
       " 'marginLevel': '2.0611175',\n",
       " 'marginLevelStatus': 'EXCESSIVE',\n",
       " 'marginRatio': '5',\n",
       " 'indexPrice': '0.51444601',\n",
       " 'liquidatePrice': '3.65931787',\n",
       " 'liquidateRate': '611.312326',\n",
       " 'tradeEnabled': True}"
      ]
     },
     "execution_count": 25,
     "metadata": {},
     "output_type": "execute_result"
    }
   ],
   "source": [
    "fet"
   ]
  },
  {
   "cell_type": "code",
   "execution_count": null,
   "id": "12e96baa-6e5d-4423-bc72-3d80c156667a",
   "metadata": {},
   "outputs": [],
   "source": []
  }
 ],
 "metadata": {
  "kernelspec": {
   "display_name": "Python 3",
   "language": "python",
   "name": "python3"
  },
  "language_info": {
   "codemirror_mode": {
    "name": "ipython",
    "version": 3
   },
   "file_extension": ".py",
   "mimetype": "text/x-python",
   "name": "python",
   "nbconvert_exporter": "python",
   "pygments_lexer": "ipython3",
   "version": "3.9.5"
  }
 },
 "nbformat": 4,
 "nbformat_minor": 5
}
